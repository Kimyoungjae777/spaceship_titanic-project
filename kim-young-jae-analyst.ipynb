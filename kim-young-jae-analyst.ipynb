{
 "cells": [
  {
   "cell_type": "code",
   "execution_count": 1,
   "id": "d5f11f82",
   "metadata": {
    "_cell_guid": "b1076dfc-b9ad-4769-8c92-a6c4dae69d19",
    "_uuid": "8f2839f25d086af736a60e9eeb907d3b93b6e0e5",
    "execution": {
     "iopub.execute_input": "2022-04-11T06:19:49.680097Z",
     "iopub.status.busy": "2022-04-11T06:19:49.678411Z",
     "iopub.status.idle": "2022-04-11T06:19:49.691204Z",
     "shell.execute_reply": "2022-04-11T06:19:49.691651Z",
     "shell.execute_reply.started": "2022-04-11T06:18:02.573701Z"
    },
    "papermill": {
     "duration": 0.11802,
     "end_time": "2022-04-11T06:19:49.691924",
     "exception": false,
     "start_time": "2022-04-11T06:19:49.573904",
     "status": "completed"
    },
    "tags": []
   },
   "outputs": [
    {
     "name": "stdout",
     "output_type": "stream",
     "text": [
      "/kaggle/input/spaceship-titanic/sample_submission.csv\n",
      "/kaggle/input/spaceship-titanic/train.csv\n",
      "/kaggle/input/spaceship-titanic/test.csv\n"
     ]
    }
   ],
   "source": [
    "# This Python 3 environment comes with many helpful analytics libraries installed\n",
    "# It is defined by the kaggle/python Docker image: https://github.com/kaggle/docker-python\n",
    "# For example, here's several helpful packages to load\n",
    "\n",
    "import numpy as np # linear algebra\n",
    "import pandas as pd # data processing, CSV file I/O (e.g. pd.read_csv)\n",
    "\n",
    "# Input data files are available in the read-only \"../input/\" directory\n",
    "# For example, running this (by clicking run or pressing Shift+Enter) will list all files under the input directory\n",
    "\n",
    "import os\n",
    "for dirname, _, filenames in os.walk('/kaggle/input'):\n",
    "    for filename in filenames:\n",
    "        print(os.path.join(dirname, filename))\n",
    "\n",
    "# You can write up to 20GB to the current directory (/kaggle/working/) that gets preserved as output when you create a version using \"Save & Run All\" \n",
    "# You can also write temporary files to /kaggle/temp/, but they won't be saved outside of the current session"
   ]
  },
  {
   "cell_type": "markdown",
   "id": "40e0ff12",
   "metadata": {
    "papermill": {
     "duration": 0.065556,
     "end_time": "2022-04-11T06:19:49.846607",
     "exception": false,
     "start_time": "2022-04-11T06:19:49.781051",
     "status": "completed"
    },
    "tags": []
   },
   "source": [
    "# 프로젝트 개요\n",
    "- 강의명 : 2022년 K-디지털 직업훈련(Training) 사업 \n",
    "- AI데=이터플랫폼을 활용한 빅데이터 분석전문가 과정\n",
    "- 교과목명 : 빅데이터 분석 및 시각화, AI개발 기초, 인공지능 프로그래밍\n",
    "- 프로젝트 주제 : Spaceship Titanic 데이터를 활용한 탑승유무 분류모형 개발\n",
    "- 프로젝트 마감일 : 2022년 4월 12일 화요일\n",
    "- 수강생명 : 김영재"
   ]
  },
  {
   "cell_type": "markdown",
   "id": "1f81d216",
   "metadata": {
    "papermill": {
     "duration": 0.064461,
     "end_time": "2022-04-11T06:19:49.977021",
     "exception": false,
     "start_time": "2022-04-11T06:19:49.912560",
     "status": "completed"
    },
    "tags": []
   },
   "source": [
    "# reference:https://www.kaggle.com/code/samuelcortinhas/spaceship-titanic-a-complete-guide"
   ]
  },
  {
   "cell_type": "code",
   "execution_count": 2,
   "id": "72a7f9e2",
   "metadata": {
    "execution": {
     "iopub.execute_input": "2022-04-11T06:19:50.119019Z",
     "iopub.status.busy": "2022-04-11T06:19:50.118444Z",
     "iopub.status.idle": "2022-04-11T06:20:00.970046Z",
     "shell.execute_reply": "2022-04-11T06:20:00.970417Z",
     "shell.execute_reply.started": "2022-04-11T06:18:02.606489Z"
    },
    "papermill": {
     "duration": 10.928744,
     "end_time": "2022-04-11T06:20:00.970575",
     "exception": false,
     "start_time": "2022-04-11T06:19:50.041831",
     "status": "completed"
    },
    "tags": []
   },
   "outputs": [
    {
     "data": {
      "text/html": [
       "<style type='text/css'>\n",
       ".datatable table.frame { margin-bottom: 0; }\n",
       ".datatable table.frame thead { border-bottom: none; }\n",
       ".datatable table.frame tr.coltypes td {  color: #FFFFFF;  line-height: 6px;  padding: 0 0.5em;}\n",
       ".datatable .bool    { background: #DDDD99; }\n",
       ".datatable .object  { background: #565656; }\n",
       ".datatable .int     { background: #5D9E5D; }\n",
       ".datatable .float   { background: #4040CC; }\n",
       ".datatable .str     { background: #CC4040; }\n",
       ".datatable .time    { background: #40CC40; }\n",
       ".datatable .row_index {  background: var(--jp-border-color3);  border-right: 1px solid var(--jp-border-color0);  color: var(--jp-ui-font-color3);  font-size: 9px;}\n",
       ".datatable .frame tbody td { text-align: left; }\n",
       ".datatable .frame tr.coltypes .row_index {  background: var(--jp-border-color0);}\n",
       ".datatable th:nth-child(2) { padding-left: 12px; }\n",
       ".datatable .hellipsis {  color: var(--jp-cell-editor-border-color);}\n",
       ".datatable .vellipsis {  background: var(--jp-layout-color0);  color: var(--jp-cell-editor-border-color);}\n",
       ".datatable .na {  color: var(--jp-cell-editor-border-color);  font-size: 80%;}\n",
       ".datatable .sp {  opacity: 0.25;}\n",
       ".datatable .footer { font-size: 9px; }\n",
       ".datatable .frame_dimensions {  background: var(--jp-border-color3);  border-top: 1px solid var(--jp-border-color0);  color: var(--jp-ui-font-color3);  display: inline-block;  opacity: 0.6;  padding: 1px 10px 1px 5px;}\n",
       "</style>\n"
      ],
      "text/plain": [
       "<IPython.core.display.HTML object>"
      ]
     },
     "metadata": {},
     "output_type": "display_data"
    }
   ],
   "source": [
    "from sklearn.linear_model import LinearRegression, LogisticRegression\n",
    "from sklearn.neighbors import KNeighborsClassifier\n",
    "from sklearn.svm import SVC\n",
    "from sklearn.tree import DecisionTreeClassifier\n",
    "from sklearn.ensemble import RandomForestClassifier\n",
    "from xgboost import XGBClassifier\n",
    "from lightgbm import LGBMClassifier\n",
    "from catboost import CatBoostClassifier\n",
    "from sklearn.naive_bayes import GaussianNB\n",
    "\n",
    "\n",
    "# Core\n",
    "import numpy as np\n",
    "import pandas as pd\n",
    "import matplotlib.pyplot as plt\n",
    "%matplotlib inline\n",
    "import seaborn as sns\n",
    "sns.set(style='darkgrid', font_scale=1.4)\n",
    "from imblearn.over_sampling import SMOTE\n",
    "import itertools\n",
    "import warnings\n",
    "warnings.filterwarnings('ignore')\n",
    "import plotly.express as px\n",
    "import time\n",
    "\n",
    "# Sklearn\n",
    "from sklearn.model_selection import train_test_split, GridSearchCV, RandomizedSearchCV, StratifiedKFold\n",
    "from sklearn.metrics import accuracy_score, confusion_matrix, recall_score, precision_score, f1_score\n",
    "from sklearn.metrics import roc_auc_score, plot_confusion_matrix, plot_roc_curve, roc_curve\n",
    "from sklearn.preprocessing import StandardScaler, MinMaxScaler, OneHotEncoder, LabelEncoder\n",
    "from sklearn.feature_selection import mutual_info_classif\n",
    "from sklearn.decomposition import PCA\n",
    "from sklearn.compose import ColumnTransformer\n",
    "from sklearn.pipeline import Pipeline\n",
    "from sklearn.impute import SimpleImputer\n",
    "import eli5\n",
    "from eli5.sklearn import PermutationImportance\n",
    "from sklearn.utils import resample"
   ]
  },
  {
   "cell_type": "markdown",
   "id": "6e1a9991",
   "metadata": {
    "papermill": {
     "duration": 0.06533,
     "end_time": "2022-04-11T06:20:01.101956",
     "exception": false,
     "start_time": "2022-04-11T06:20:01.036626",
     "status": "completed"
    },
    "tags": []
   },
   "source": [
    "# Step 1. 라이브러리 및 데이터 불러오기\n",
    "- 본 프로젝트 수행을 위한 필수 라이브러리를 불러온다. "
   ]
  },
  {
   "cell_type": "code",
   "execution_count": 3,
   "id": "90d93bb6",
   "metadata": {
    "execution": {
     "iopub.execute_input": "2022-04-11T06:20:01.241707Z",
     "iopub.status.busy": "2022-04-11T06:20:01.241046Z",
     "iopub.status.idle": "2022-04-11T06:20:01.245892Z",
     "shell.execute_reply": "2022-04-11T06:20:01.245441Z",
     "shell.execute_reply.started": "2022-04-11T06:18:12.149463Z"
    },
    "papermill": {
     "duration": 0.076942,
     "end_time": "2022-04-11T06:20:01.246017",
     "exception": false,
     "start_time": "2022-04-11T06:20:01.169075",
     "status": "completed"
    },
    "tags": []
   },
   "outputs": [
    {
     "name": "stdout",
     "output_type": "stream",
     "text": [
      "numpy version: 1.20.3\n",
      "pandas version: 1.3.5\n",
      "matplotlib version: 3.5.1\n",
      "seaborn version: 0.11.2\n"
     ]
    }
   ],
   "source": [
    "# 데이터 가공 \n",
    "import numpy as np \n",
    "import pandas as pd \n",
    "\n",
    "print(\"numpy version:\", np.__version__)\n",
    "print(\"pandas version:\", pd.__version__)\n",
    "\n",
    "# 데이터 시각화\n",
    "import matplotlib\n",
    "import matplotlib.pyplot as plt \n",
    "import seaborn as sns \n",
    "print(\"matplotlib version:\", matplotlib.__version__)\n",
    "print(\"seaborn version:\", sns.__version__)\n",
    "\n",
    "#데이터 전처리\n",
    "\n",
    "\n"
   ]
  },
  {
   "cell_type": "code",
   "execution_count": 4,
   "id": "99b06a49",
   "metadata": {
    "execution": {
     "iopub.execute_input": "2022-04-11T06:20:01.382607Z",
     "iopub.status.busy": "2022-04-11T06:20:01.381878Z",
     "iopub.status.idle": "2022-04-11T06:20:01.478169Z",
     "shell.execute_reply": "2022-04-11T06:20:01.477660Z",
     "shell.execute_reply.started": "2022-04-11T06:18:12.158922Z"
    },
    "papermill": {
     "duration": 0.165311,
     "end_time": "2022-04-11T06:20:01.478280",
     "exception": false,
     "start_time": "2022-04-11T06:20:01.312969",
     "status": "completed"
    },
    "tags": []
   },
   "outputs": [
    {
     "data": {
      "text/plain": [
       "((8693, 14), (4277, 13), (4277, 2))"
      ]
     },
     "execution_count": 4,
     "metadata": {},
     "output_type": "execute_result"
    }
   ],
   "source": [
    "train_data = pd.read_csv(\"../input/spaceship-titanic/train.csv\")\n",
    "test_data = pd.read_csv(\"../input/spaceship-titanic/test.csv\")\n",
    "sample_submission = pd.read_csv(\"../input/spaceship-titanic/sample_submission.csv\")\n",
    "\n",
    "train_data.shape, test_data.shape, sample_submission.shape"
   ]
  },
  {
   "cell_type": "markdown",
   "id": "34801e4a",
   "metadata": {
    "papermill": {
     "duration": 0.066934,
     "end_time": "2022-04-11T06:20:01.612049",
     "exception": false,
     "start_time": "2022-04-11T06:20:01.545115",
     "status": "completed"
    },
    "tags": []
   },
   "source": [
    "# 컬럼별 결측치 퍼센트 확인하기"
   ]
  },
  {
   "cell_type": "code",
   "execution_count": 5,
   "id": "4eb22968",
   "metadata": {
    "execution": {
     "iopub.execute_input": "2022-04-11T06:20:01.749497Z",
     "iopub.status.busy": "2022-04-11T06:20:01.748769Z",
     "iopub.status.idle": "2022-04-11T06:20:01.781365Z",
     "shell.execute_reply": "2022-04-11T06:20:01.781817Z",
     "shell.execute_reply.started": "2022-04-11T06:18:12.256312Z"
    },
    "papermill": {
     "duration": 0.103259,
     "end_time": "2022-04-11T06:20:01.781976",
     "exception": false,
     "start_time": "2022-04-11T06:20:01.678717",
     "status": "completed"
    },
    "tags": []
   },
   "outputs": [
    {
     "data": {
      "text/html": [
       "<div>\n",
       "<style scoped>\n",
       "    .dataframe tbody tr th:only-of-type {\n",
       "        vertical-align: middle;\n",
       "    }\n",
       "\n",
       "    .dataframe tbody tr th {\n",
       "        vertical-align: top;\n",
       "    }\n",
       "\n",
       "    .dataframe thead th {\n",
       "        text-align: right;\n",
       "    }\n",
       "</style>\n",
       "<table border=\"1\" class=\"dataframe\">\n",
       "  <thead>\n",
       "    <tr style=\"text-align: right;\">\n",
       "      <th></th>\n",
       "      <th>sum_missing</th>\n",
       "      <th>percetage_null</th>\n",
       "    </tr>\n",
       "  </thead>\n",
       "  <tbody>\n",
       "    <tr>\n",
       "      <th>PassengerId</th>\n",
       "      <td>0</td>\n",
       "      <td>0.000000</td>\n",
       "    </tr>\n",
       "    <tr>\n",
       "      <th>Transported</th>\n",
       "      <td>0</td>\n",
       "      <td>0.000000</td>\n",
       "    </tr>\n",
       "    <tr>\n",
       "      <th>Age</th>\n",
       "      <td>179</td>\n",
       "      <td>2.059128</td>\n",
       "    </tr>\n",
       "    <tr>\n",
       "      <th>RoomService</th>\n",
       "      <td>181</td>\n",
       "      <td>2.082135</td>\n",
       "    </tr>\n",
       "    <tr>\n",
       "      <th>Destination</th>\n",
       "      <td>182</td>\n",
       "      <td>2.093639</td>\n",
       "    </tr>\n",
       "    <tr>\n",
       "      <th>FoodCourt</th>\n",
       "      <td>183</td>\n",
       "      <td>2.105142</td>\n",
       "    </tr>\n",
       "    <tr>\n",
       "      <th>Spa</th>\n",
       "      <td>183</td>\n",
       "      <td>2.105142</td>\n",
       "    </tr>\n",
       "    <tr>\n",
       "      <th>VRDeck</th>\n",
       "      <td>188</td>\n",
       "      <td>2.162660</td>\n",
       "    </tr>\n",
       "    <tr>\n",
       "      <th>Cabin</th>\n",
       "      <td>199</td>\n",
       "      <td>2.289198</td>\n",
       "    </tr>\n",
       "    <tr>\n",
       "      <th>Name</th>\n",
       "      <td>200</td>\n",
       "      <td>2.300702</td>\n",
       "    </tr>\n",
       "    <tr>\n",
       "      <th>HomePlanet</th>\n",
       "      <td>201</td>\n",
       "      <td>2.312205</td>\n",
       "    </tr>\n",
       "    <tr>\n",
       "      <th>VIP</th>\n",
       "      <td>203</td>\n",
       "      <td>2.335212</td>\n",
       "    </tr>\n",
       "    <tr>\n",
       "      <th>ShoppingMall</th>\n",
       "      <td>208</td>\n",
       "      <td>2.392730</td>\n",
       "    </tr>\n",
       "    <tr>\n",
       "      <th>CryoSleep</th>\n",
       "      <td>217</td>\n",
       "      <td>2.496261</td>\n",
       "    </tr>\n",
       "  </tbody>\n",
       "</table>\n",
       "</div>"
      ],
      "text/plain": [
       "              sum_missing  percetage_null\n",
       "PassengerId             0        0.000000\n",
       "Transported             0        0.000000\n",
       "Age                   179        2.059128\n",
       "RoomService           181        2.082135\n",
       "Destination           182        2.093639\n",
       "FoodCourt             183        2.105142\n",
       "Spa                   183        2.105142\n",
       "VRDeck                188        2.162660\n",
       "Cabin                 199        2.289198\n",
       "Name                  200        2.300702\n",
       "HomePlanet            201        2.312205\n",
       "VIP                   203        2.335212\n",
       "ShoppingMall          208        2.392730\n",
       "CryoSleep             217        2.496261"
      ]
     },
     "execution_count": 5,
     "metadata": {},
     "output_type": "execute_result"
    }
   ],
   "source": [
    "missing=pd.DataFrame(train_data.isnull().sum().sort_values(),columns=['sum_missing'])\n",
    "missing['percetage_null']=missing['sum_missing']/train_data.shape[0]*100\n",
    "missing"
   ]
  },
  {
   "cell_type": "markdown",
   "id": "3b911a4f",
   "metadata": {
    "papermill": {
     "duration": 0.067187,
     "end_time": "2022-04-11T06:20:01.916154",
     "exception": false,
     "start_time": "2022-04-11T06:20:01.848967",
     "status": "completed"
    },
    "tags": []
   },
   "source": [
    "# 숫자로 되어있는 데이터들만 모아놓기"
   ]
  },
  {
   "cell_type": "code",
   "execution_count": 6,
   "id": "c70fe178",
   "metadata": {
    "execution": {
     "iopub.execute_input": "2022-04-11T06:20:02.055725Z",
     "iopub.status.busy": "2022-04-11T06:20:02.055108Z",
     "iopub.status.idle": "2022-04-11T06:20:02.083586Z",
     "shell.execute_reply": "2022-04-11T06:20:02.084011Z",
     "shell.execute_reply.started": "2022-04-11T06:18:12.291542Z"
    },
    "papermill": {
     "duration": 0.099794,
     "end_time": "2022-04-11T06:20:02.084151",
     "exception": false,
     "start_time": "2022-04-11T06:20:01.984357",
     "status": "completed"
    },
    "tags": []
   },
   "outputs": [
    {
     "data": {
      "text/html": [
       "<div>\n",
       "<style scoped>\n",
       "    .dataframe tbody tr th:only-of-type {\n",
       "        vertical-align: middle;\n",
       "    }\n",
       "\n",
       "    .dataframe tbody tr th {\n",
       "        vertical-align: top;\n",
       "    }\n",
       "\n",
       "    .dataframe thead th {\n",
       "        text-align: right;\n",
       "    }\n",
       "</style>\n",
       "<table border=\"1\" class=\"dataframe\">\n",
       "  <thead>\n",
       "    <tr style=\"text-align: right;\">\n",
       "      <th></th>\n",
       "      <th>Age</th>\n",
       "      <th>RoomService</th>\n",
       "      <th>FoodCourt</th>\n",
       "      <th>ShoppingMall</th>\n",
       "      <th>Spa</th>\n",
       "      <th>VRDeck</th>\n",
       "    </tr>\n",
       "  </thead>\n",
       "  <tbody>\n",
       "    <tr>\n",
       "      <th>0</th>\n",
       "      <td>39.0</td>\n",
       "      <td>0.0</td>\n",
       "      <td>0.0</td>\n",
       "      <td>0.0</td>\n",
       "      <td>0.0</td>\n",
       "      <td>0.0</td>\n",
       "    </tr>\n",
       "    <tr>\n",
       "      <th>1</th>\n",
       "      <td>24.0</td>\n",
       "      <td>109.0</td>\n",
       "      <td>9.0</td>\n",
       "      <td>25.0</td>\n",
       "      <td>549.0</td>\n",
       "      <td>44.0</td>\n",
       "    </tr>\n",
       "    <tr>\n",
       "      <th>2</th>\n",
       "      <td>58.0</td>\n",
       "      <td>43.0</td>\n",
       "      <td>3576.0</td>\n",
       "      <td>0.0</td>\n",
       "      <td>6715.0</td>\n",
       "      <td>49.0</td>\n",
       "    </tr>\n",
       "    <tr>\n",
       "      <th>3</th>\n",
       "      <td>33.0</td>\n",
       "      <td>0.0</td>\n",
       "      <td>1283.0</td>\n",
       "      <td>371.0</td>\n",
       "      <td>3329.0</td>\n",
       "      <td>193.0</td>\n",
       "    </tr>\n",
       "    <tr>\n",
       "      <th>4</th>\n",
       "      <td>16.0</td>\n",
       "      <td>303.0</td>\n",
       "      <td>70.0</td>\n",
       "      <td>151.0</td>\n",
       "      <td>565.0</td>\n",
       "      <td>2.0</td>\n",
       "    </tr>\n",
       "    <tr>\n",
       "      <th>...</th>\n",
       "      <td>...</td>\n",
       "      <td>...</td>\n",
       "      <td>...</td>\n",
       "      <td>...</td>\n",
       "      <td>...</td>\n",
       "      <td>...</td>\n",
       "    </tr>\n",
       "    <tr>\n",
       "      <th>8688</th>\n",
       "      <td>41.0</td>\n",
       "      <td>0.0</td>\n",
       "      <td>6819.0</td>\n",
       "      <td>0.0</td>\n",
       "      <td>1643.0</td>\n",
       "      <td>74.0</td>\n",
       "    </tr>\n",
       "    <tr>\n",
       "      <th>8689</th>\n",
       "      <td>18.0</td>\n",
       "      <td>0.0</td>\n",
       "      <td>0.0</td>\n",
       "      <td>0.0</td>\n",
       "      <td>0.0</td>\n",
       "      <td>0.0</td>\n",
       "    </tr>\n",
       "    <tr>\n",
       "      <th>8690</th>\n",
       "      <td>26.0</td>\n",
       "      <td>0.0</td>\n",
       "      <td>0.0</td>\n",
       "      <td>1872.0</td>\n",
       "      <td>1.0</td>\n",
       "      <td>0.0</td>\n",
       "    </tr>\n",
       "    <tr>\n",
       "      <th>8691</th>\n",
       "      <td>32.0</td>\n",
       "      <td>0.0</td>\n",
       "      <td>1049.0</td>\n",
       "      <td>0.0</td>\n",
       "      <td>353.0</td>\n",
       "      <td>3235.0</td>\n",
       "    </tr>\n",
       "    <tr>\n",
       "      <th>8692</th>\n",
       "      <td>44.0</td>\n",
       "      <td>126.0</td>\n",
       "      <td>4688.0</td>\n",
       "      <td>0.0</td>\n",
       "      <td>0.0</td>\n",
       "      <td>12.0</td>\n",
       "    </tr>\n",
       "  </tbody>\n",
       "</table>\n",
       "<p>8693 rows × 6 columns</p>\n",
       "</div>"
      ],
      "text/plain": [
       "       Age  RoomService  FoodCourt  ShoppingMall     Spa  VRDeck\n",
       "0     39.0          0.0        0.0           0.0     0.0     0.0\n",
       "1     24.0        109.0        9.0          25.0   549.0    44.0\n",
       "2     58.0         43.0     3576.0           0.0  6715.0    49.0\n",
       "3     33.0          0.0     1283.0         371.0  3329.0   193.0\n",
       "4     16.0        303.0       70.0         151.0   565.0     2.0\n",
       "...    ...          ...        ...           ...     ...     ...\n",
       "8688  41.0          0.0     6819.0           0.0  1643.0    74.0\n",
       "8689  18.0          0.0        0.0           0.0     0.0     0.0\n",
       "8690  26.0          0.0        0.0        1872.0     1.0     0.0\n",
       "8691  32.0          0.0     1049.0           0.0   353.0  3235.0\n",
       "8692  44.0        126.0     4688.0           0.0     0.0    12.0\n",
       "\n",
       "[8693 rows x 6 columns]"
      ]
     },
     "execution_count": 6,
     "metadata": {},
     "output_type": "execute_result"
    }
   ],
   "source": [
    "num_data=train_data.select_dtypes(include='number')\n",
    "num_data"
   ]
  },
  {
   "cell_type": "markdown",
   "id": "6a5b6c4e",
   "metadata": {
    "papermill": {
     "duration": 0.102781,
     "end_time": "2022-04-11T06:20:02.275580",
     "exception": false,
     "start_time": "2022-04-11T06:20:02.172799",
     "status": "completed"
    },
    "tags": []
   },
   "source": [
    "# nunique () unique 한 변수의 개수를 추출해주는 메소드"
   ]
  },
  {
   "cell_type": "code",
   "execution_count": 7,
   "id": "a8c78304",
   "metadata": {
    "execution": {
     "iopub.execute_input": "2022-04-11T06:20:02.419765Z",
     "iopub.status.busy": "2022-04-11T06:20:02.416147Z",
     "iopub.status.idle": "2022-04-11T06:20:02.444690Z",
     "shell.execute_reply": "2022-04-11T06:20:02.444123Z",
     "shell.execute_reply.started": "2022-04-11T06:18:12.321782Z"
    },
    "papermill": {
     "duration": 0.099805,
     "end_time": "2022-04-11T06:20:02.444809",
     "exception": false,
     "start_time": "2022-04-11T06:20:02.345004",
     "status": "completed"
    },
    "tags": []
   },
   "outputs": [
    {
     "data": {
      "text/plain": [
       "PassengerId     8693\n",
       "HomePlanet         3\n",
       "CryoSleep          2\n",
       "Cabin           6560\n",
       "Destination        3\n",
       "Age               80\n",
       "VIP                2\n",
       "RoomService     1273\n",
       "FoodCourt       1507\n",
       "ShoppingMall    1115\n",
       "Spa             1327\n",
       "VRDeck          1306\n",
       "Name            8473\n",
       "Transported        2\n",
       "dtype: int64"
      ]
     },
     "execution_count": 7,
     "metadata": {},
     "output_type": "execute_result"
    }
   ],
   "source": [
    "train_data.nunique()   # 변수들이 passenger id 처럼 의미없는 값으로 되어 있는지 알 수 있음"
   ]
  },
  {
   "cell_type": "markdown",
   "id": "375a8cac",
   "metadata": {
    "papermill": {
     "duration": 0.068503,
     "end_time": "2022-04-11T06:20:02.580923",
     "exception": false,
     "start_time": "2022-04-11T06:20:02.512420",
     "status": "completed"
    },
    "tags": []
   },
   "source": [
    "####  종속변수의 비율 확인하여 주기."
   ]
  },
  {
   "cell_type": "code",
   "execution_count": 8,
   "id": "eec1abc4",
   "metadata": {
    "execution": {
     "iopub.execute_input": "2022-04-11T06:20:02.725350Z",
     "iopub.status.busy": "2022-04-11T06:20:02.724708Z",
     "iopub.status.idle": "2022-04-11T06:20:02.878800Z",
     "shell.execute_reply": "2022-04-11T06:20:02.878079Z",
     "shell.execute_reply.started": "2022-04-11T06:18:12.348112Z"
    },
    "papermill": {
     "duration": 0.224273,
     "end_time": "2022-04-11T06:20:02.878973",
     "exception": false,
     "start_time": "2022-04-11T06:20:02.654700",
     "status": "completed"
    },
    "tags": []
   },
   "outputs": [
    {
     "data": {
      "image/png": "[encoded data removed]",
      "text/plain": [
       "<Figure size 432x288 with 1 Axes>"
      ]
     },
     "metadata": {},
     "output_type": "display_data"
    }
   ],
   "source": [
    "plt.figsize=(10,6)\n",
    "plt.pie(train_data['Transported'].value_counts(),explode=[0,0.1],\n",
    "       shadow=True,autopct='%.2f%%',labels=['True','False'])\n",
    "plt.title(\"target_distribution\")\n",
    "plt.show()"
   ]
  },
  {
   "cell_type": "markdown",
   "id": "e67843e4",
   "metadata": {
    "papermill": {
     "duration": 0.103902,
     "end_time": "2022-04-11T06:20:03.101833",
     "exception": false,
     "start_time": "2022-04-11T06:20:02.997931",
     "status": "completed"
    },
    "tags": []
   },
   "source": [
    "- 언더샘플링이나 오버샘플링이 되어있지 않음"
   ]
  },
  {
   "cell_type": "markdown",
   "id": "f687112a",
   "metadata": {
    "papermill": {
     "duration": 0.105411,
     "end_time": "2022-04-11T06:20:03.312763",
     "exception": false,
     "start_time": "2022-04-11T06:20:03.207352",
     "status": "completed"
    },
    "tags": []
   },
   "source": [
    "#### features 들을 분석하여보자"
   ]
  },
  {
   "cell_type": "code",
   "execution_count": 9,
   "id": "7107851d",
   "metadata": {
    "execution": {
     "iopub.execute_input": "2022-04-11T06:20:03.532320Z",
     "iopub.status.busy": "2022-04-11T06:20:03.531686Z",
     "iopub.status.idle": "2022-04-11T06:20:04.299311Z",
     "shell.execute_reply": "2022-04-11T06:20:04.298672Z",
     "shell.execute_reply.started": "2022-04-11T06:18:12.498208Z"
    },
    "papermill": {
     "duration": 0.882049,
     "end_time": "2022-04-11T06:20:04.299486",
     "exception": false,
     "start_time": "2022-04-11T06:20:03.417437",
     "status": "completed"
    },
    "tags": []
   },
   "outputs": [
    {
     "data": {
      "image/png": "[encoded data removed]",
      "text/plain": [
       "<Figure size 720x432 with 1 Axes>"
      ]
     },
     "metadata": {},
     "output_type": "display_data"
    }
   ],
   "source": [
    "plt.figure(figsize=(10,6))\n",
    "sns.histplot(data=train_data,x='Age',hue='Transported',kde=True)\n",
    "plt.title('Age Distribution')\n",
    "plt.show()\n"
   ]
  },
  {
   "cell_type": "markdown",
   "id": "81225ca3",
   "metadata": {
    "papermill": {
     "duration": 0.104615,
     "end_time": "2022-04-11T06:20:04.510385",
     "exception": false,
     "start_time": "2022-04-11T06:20:04.405770",
     "status": "completed"
    },
    "tags": []
   },
   "source": [
    "- 0~18세 까지는 비행기에 탑승한 사람이 더 많다.  \n",
    "- 18~25세 까지는 비행기에 탑승하지 못한 사람이 더 많다 \n",
    "- 25세 이상은 그리 특별하진 않고 비슷 또는 동등하다\n",
    "\n",
    "- 그리하여 0 ~ 18(child) , 18 ~ 25(adolecent) , 25~(adult) 로 새로운 변수를 만들어 줄 수 있게 된다."
   ]
  },
  {
   "cell_type": "markdown",
   "id": "6f6c467f",
   "metadata": {
    "papermill": {
     "duration": 0.104575,
     "end_time": "2022-04-11T06:20:04.720771",
     "exception": false,
     "start_time": "2022-04-11T06:20:04.616196",
     "status": "completed"
    },
    "tags": []
   },
   "source": [
    "### 비용 변수"
   ]
  },
  {
   "cell_type": "code",
   "execution_count": 10,
   "id": "223d1526",
   "metadata": {
    "execution": {
     "iopub.execute_input": "2022-04-11T06:20:04.962317Z",
     "iopub.status.busy": "2022-04-11T06:20:04.940815Z",
     "iopub.status.idle": "2022-04-11T06:20:09.025543Z",
     "shell.execute_reply": "2022-04-11T06:20:09.024900Z",
     "shell.execute_reply.started": "2022-04-11T06:18:13.277302Z"
    },
    "papermill": {
     "duration": 4.198955,
     "end_time": "2022-04-11T06:20:09.025667",
     "exception": false,
     "start_time": "2022-04-11T06:20:04.826712",
     "status": "completed"
    },
    "tags": []
   },
   "outputs": [
    {
     "data": {
      "image/png": "[encoded data removed]",
      "text/plain": [
       "<Figure size 720x1440 with 10 Axes>"
      ]
     },
     "metadata": {},
     "output_type": "display_data"
    }
   ],
   "source": [
    "exp_features=['RoomService','FoodCourt','ShoppingMall','Spa','VRDeck']\n",
    "luxury=['RoomService','Spa','VRDeck']\n",
    "normal=['FoodCourt','ShoppingMall']\n",
    "fig = plt.figure(figsize = (10, 20))\n",
    "for i, col in enumerate(exp_features):\n",
    "    #왼쪽 그래프\n",
    "    ax=fig.add_subplot(5,2,2*i+1) # 3번쨰 파라미터는 index 이다.\n",
    "    sns.histplot(data=train_data,x=col,bins=30,hue='Transported',ax=ax)\n",
    "    #오른쪽 그래프 \n",
    "    ax=fig.add_subplot(5,2,2*i+2)\n",
    "    sns.histplot(data=train_data,x=col,bins=30,hue='Transported',kde=True,ax=ax)\n",
    "    plt.ylim([0,100])  # count 의 범위를 낮춤으로써, 변화를 급격하게 보여준다\n",
    "fig.tight_layout()\n",
    "plt.show()"
   ]
  },
  {
   "cell_type": "markdown",
   "id": "cfc82654",
   "metadata": {
    "papermill": {
     "duration": 0.111401,
     "end_time": "2022-04-11T06:20:09.248521",
     "exception": false,
     "start_time": "2022-04-11T06:20:09.137120",
     "status": "completed"
    },
    "tags": []
   },
   "source": [
    "- 대부분의 사람들은 돈을 쓰지 않았다\n",
    "- 탑승을 한 사람들은 대부분 돈을 적게썼다.\n",
    "- roomservice,vrdeck,spa(팁승하지 못한 사람 많음)  vs shoppingmall,foodcourt(탑승한 사람 많음) -> 고가 부대시설을 즐긴 사람 vs 그렇지 않은 사람\n",
    "\n",
    "- 5개 편의시설 전체에 총 지출을 추적하는 feature 생성가능\n",
    "- 돈을 쓴 사람과 쓰지 않은 사람을 나누는 feature 생성가능"
   ]
  },
  {
   "cell_type": "markdown",
   "id": "d540236c",
   "metadata": {
    "papermill": {
     "duration": 0.110281,
     "end_time": "2022-04-11T06:20:09.469298",
     "exception": false,
     "start_time": "2022-04-11T06:20:09.359017",
     "status": "completed"
    },
    "tags": []
   },
   "source": [
    "### 범주형 변수.\n"
   ]
  },
  {
   "cell_type": "code",
   "execution_count": 11,
   "id": "7accfe93",
   "metadata": {
    "execution": {
     "iopub.execute_input": "2022-04-11T06:20:09.716772Z",
     "iopub.status.busy": "2022-04-11T06:20:09.715901Z",
     "iopub.status.idle": "2022-04-11T06:20:10.528488Z",
     "shell.execute_reply": "2022-04-11T06:20:10.529005Z",
     "shell.execute_reply.started": "2022-04-11T06:18:17.206631Z"
    },
    "papermill": {
     "duration": 0.94469,
     "end_time": "2022-04-11T06:20:10.529165",
     "exception": false,
     "start_time": "2022-04-11T06:20:09.584475",
     "status": "completed"
    },
    "tags": []
   },
   "outputs": [
    {
     "data": {
      "image/png": "[encoded data removed]",
      "text/plain": [
       "<Figure size 720x1440 with 4 Axes>"
      ]
     },
     "metadata": {},
     "output_type": "display_data"
    }
   ],
   "source": [
    "features=['HomePlanet', 'CryoSleep', 'Destination', 'VIP']\n",
    "fig=plt.figure(figsize=(10,20))\n",
    "for i,col in enumerate(features):\n",
    "    ax=fig.add_subplot(4,1,i+1)\n",
    "    sns.countplot(data=train_data,x=col,hue='Transported',ax=ax,palette='viridis')\n",
    "\n",
    "fig.tight_layout()\n",
    "plt.show()"
   ]
  },
  {
   "cell_type": "markdown",
   "id": "0b67221c",
   "metadata": {
    "papermill": {
     "duration": 0.110807,
     "end_time": "2022-04-11T06:20:10.752523",
     "exception": false,
     "start_time": "2022-04-11T06:20:10.641716",
     "status": "completed"
    },
    "tags": []
   },
   "source": [
    "- vip 변수는 transported true,false 비율이 비슷하기 떄문에 drop 시킨다\n",
    "- cryosleep 변수가 대조적으로 굉장히 큰 차이를 준다."
   ]
  },
  {
   "cell_type": "markdown",
   "id": "d54387b9",
   "metadata": {
    "papermill": {
     "duration": 0.112547,
     "end_time": "2022-04-11T06:20:10.976181",
     "exception": false,
     "start_time": "2022-04-11T06:20:10.863634",
     "status": "completed"
    },
    "tags": []
   },
   "source": [
    "# 결측치 관리"
   ]
  },
  {
   "cell_type": "markdown",
   "id": "498b3330",
   "metadata": {
    "papermill": {
     "duration": 0.1154,
     "end_time": "2022-04-11T06:20:11.205281",
     "exception": false,
     "start_time": "2022-04-11T06:20:11.089881",
     "status": "completed"
    },
    "tags": []
   },
   "source": [
    "### age 결측치 제거\n",
    "- 중앙값으로 결측치 제거"
   ]
  },
  {
   "cell_type": "code",
   "execution_count": 12,
   "id": "252363d7",
   "metadata": {
    "execution": {
     "iopub.execute_input": "2022-04-11T06:20:11.439013Z",
     "iopub.status.busy": "2022-04-11T06:20:11.438171Z",
     "iopub.status.idle": "2022-04-11T06:20:11.442403Z",
     "shell.execute_reply": "2022-04-11T06:20:11.441870Z",
     "shell.execute_reply.started": "2022-04-11T06:18:18.036873Z"
    },
    "papermill": {
     "duration": 0.124487,
     "end_time": "2022-04-11T06:20:11.442562",
     "exception": false,
     "start_time": "2022-04-11T06:20:11.318075",
     "status": "completed"
    },
    "tags": []
   },
   "outputs": [
    {
     "data": {
      "text/plain": [
       "179"
      ]
     },
     "execution_count": 12,
     "metadata": {},
     "output_type": "execute_result"
    }
   ],
   "source": [
    "train_data['Age'].isnull().sum() # age의 결측치 179개"
   ]
  },
  {
   "cell_type": "code",
   "execution_count": 13,
   "id": "c5d75dd8",
   "metadata": {
    "execution": {
     "iopub.execute_input": "2022-04-11T06:20:11.671274Z",
     "iopub.status.busy": "2022-04-11T06:20:11.670411Z",
     "iopub.status.idle": "2022-04-11T06:20:11.682489Z",
     "shell.execute_reply": "2022-04-11T06:20:11.683056Z",
     "shell.execute_reply.started": "2022-04-11T06:18:18.045728Z"
    },
    "papermill": {
     "duration": 0.127241,
     "end_time": "2022-04-11T06:20:11.683206",
     "exception": false,
     "start_time": "2022-04-11T06:20:11.555965",
     "status": "completed"
    },
    "tags": []
   },
   "outputs": [
    {
     "data": {
      "text/plain": [
       "PassengerId       0\n",
       "HomePlanet      201\n",
       "CryoSleep       217\n",
       "Cabin           199\n",
       "Destination     182\n",
       "Age               0\n",
       "VIP             203\n",
       "RoomService     181\n",
       "FoodCourt       183\n",
       "ShoppingMall    208\n",
       "Spa             183\n",
       "VRDeck          188\n",
       "Name            200\n",
       "Transported       0\n",
       "dtype: int64"
      ]
     },
     "execution_count": 13,
     "metadata": {},
     "output_type": "execute_result"
    }
   ],
   "source": [
    "\n",
    "train_data['Age'].fillna(train_data['Age'].median(), inplace=True)\n",
    "test_data['Age'].fillna(train_data['Age'].median(), inplace=True) # 데이터누수가 일어나지 않게 , test_data 도 똑같이 !!\n",
    "train_data['Age'].isnull().sum()\n",
    "train_data.isnull().sum()"
   ]
  },
  {
   "cell_type": "markdown",
   "id": "2ca39434",
   "metadata": {
    "papermill": {
     "duration": 0.113868,
     "end_time": "2022-04-11T06:20:11.911888",
     "exception": false,
     "start_time": "2022-04-11T06:20:11.798020",
     "status": "completed"
    },
    "tags": []
   },
   "source": [
    "#### 질적변수"
   ]
  },
  {
   "cell_type": "code",
   "execution_count": 14,
   "id": "c604e6a3",
   "metadata": {
    "execution": {
     "iopub.execute_input": "2022-04-11T06:20:12.142144Z",
     "iopub.status.busy": "2022-04-11T06:20:12.141287Z",
     "iopub.status.idle": "2022-04-11T06:20:12.151841Z",
     "shell.execute_reply": "2022-04-11T06:20:12.151190Z",
     "shell.execute_reply.started": "2022-04-11T06:18:18.072647Z"
    },
    "papermill": {
     "duration": 0.126945,
     "end_time": "2022-04-11T06:20:12.151980",
     "exception": false,
     "start_time": "2022-04-11T06:20:12.025035",
     "status": "completed"
    },
    "tags": []
   },
   "outputs": [
    {
     "data": {
      "text/html": [
       "<div>\n",
       "<style scoped>\n",
       "    .dataframe tbody tr th:only-of-type {\n",
       "        vertical-align: middle;\n",
       "    }\n",
       "\n",
       "    .dataframe tbody tr th {\n",
       "        vertical-align: top;\n",
       "    }\n",
       "\n",
       "    .dataframe thead th {\n",
       "        text-align: right;\n",
       "    }\n",
       "</style>\n",
       "<table border=\"1\" class=\"dataframe\">\n",
       "  <thead>\n",
       "    <tr style=\"text-align: right;\">\n",
       "      <th></th>\n",
       "      <th>PassengerId</th>\n",
       "      <th>Cabin</th>\n",
       "      <th>Name</th>\n",
       "    </tr>\n",
       "  </thead>\n",
       "  <tbody>\n",
       "    <tr>\n",
       "      <th>0</th>\n",
       "      <td>0001_01</td>\n",
       "      <td>B/0/P</td>\n",
       "      <td>Maham Ofracculy</td>\n",
       "    </tr>\n",
       "    <tr>\n",
       "      <th>1</th>\n",
       "      <td>0002_01</td>\n",
       "      <td>F/0/S</td>\n",
       "      <td>Juanna Vines</td>\n",
       "    </tr>\n",
       "    <tr>\n",
       "      <th>2</th>\n",
       "      <td>0003_01</td>\n",
       "      <td>A/0/S</td>\n",
       "      <td>Altark Susent</td>\n",
       "    </tr>\n",
       "    <tr>\n",
       "      <th>3</th>\n",
       "      <td>0003_02</td>\n",
       "      <td>A/0/S</td>\n",
       "      <td>Solam Susent</td>\n",
       "    </tr>\n",
       "    <tr>\n",
       "      <th>4</th>\n",
       "      <td>0004_01</td>\n",
       "      <td>F/1/S</td>\n",
       "      <td>Willy Santantines</td>\n",
       "    </tr>\n",
       "  </tbody>\n",
       "</table>\n",
       "</div>"
      ],
      "text/plain": [
       "  PassengerId  Cabin               Name\n",
       "0     0001_01  B/0/P    Maham Ofracculy\n",
       "1     0002_01  F/0/S       Juanna Vines\n",
       "2     0003_01  A/0/S      Altark Susent\n",
       "3     0003_02  A/0/S       Solam Susent\n",
       "4     0004_01  F/1/S  Willy Santantines"
      ]
     },
     "execution_count": 14,
     "metadata": {},
     "output_type": "execute_result"
    }
   ],
   "source": [
    "qual_features=['PassengerId', 'Cabin' ,'Name']\n",
    "train_data[qual_features].head()"
   ]
  },
  {
   "cell_type": "markdown",
   "id": "aca2a545",
   "metadata": {
    "papermill": {
     "duration": 0.114528,
     "end_time": "2022-04-11T06:20:12.379828",
     "exception": false,
     "start_time": "2022-04-11T06:20:12.265300",
     "status": "completed"
    },
    "tags": []
   },
   "source": [
    "- passengerid 는 111_00 형태로 이루어져 잇는데 앞 부분 111 은 함께 이동하는 그룹을 의미한다\n",
    " + \n",
    "- cabin의 형태는 갑판/번호/측면이며, 좌현에서는 p,우현에서는 s중 하나가 될 수 있습니다 \n",
    " + cabin 각각의 의미를 가지니까 갑판/번호/측면 으로 피쳐를 나누어주어 효율성을 높혀준다."
   ]
  },
  {
   "cell_type": "markdown",
   "id": "83e05db8",
   "metadata": {
    "papermill": {
     "duration": 0.113578,
     "end_time": "2022-04-11T06:20:12.607249",
     "exception": false,
     "start_time": "2022-04-11T06:20:12.493671",
     "status": "completed"
    },
    "tags": []
   },
   "source": [
    "#### categorical data\n",
    "- 결측치 처리 해주기 위해서, mode() 로 최빈값을 보여준다"
   ]
  },
  {
   "cell_type": "code",
   "execution_count": 15,
   "id": "c12d3e58",
   "metadata": {
    "execution": {
     "iopub.execute_input": "2022-04-11T06:20:12.840164Z",
     "iopub.status.busy": "2022-04-11T06:20:12.839319Z",
     "iopub.status.idle": "2022-04-11T06:20:12.852273Z",
     "shell.execute_reply": "2022-04-11T06:20:12.852823Z",
     "shell.execute_reply.started": "2022-04-11T06:18:18.086184Z"
    },
    "papermill": {
     "duration": 0.131262,
     "end_time": "2022-04-11T06:20:12.853008",
     "exception": false,
     "start_time": "2022-04-11T06:20:12.721746",
     "status": "completed"
    },
    "tags": []
   },
   "outputs": [
    {
     "data": {
      "text/html": [
       "<div>\n",
       "<style scoped>\n",
       "    .dataframe tbody tr th:only-of-type {\n",
       "        vertical-align: middle;\n",
       "    }\n",
       "\n",
       "    .dataframe tbody tr th {\n",
       "        vertical-align: top;\n",
       "    }\n",
       "\n",
       "    .dataframe thead th {\n",
       "        text-align: right;\n",
       "    }\n",
       "</style>\n",
       "<table border=\"1\" class=\"dataframe\">\n",
       "  <thead>\n",
       "    <tr style=\"text-align: right;\">\n",
       "      <th></th>\n",
       "      <th>HomePlanet</th>\n",
       "      <th>CryoSleep</th>\n",
       "      <th>Destination</th>\n",
       "      <th>VIP</th>\n",
       "    </tr>\n",
       "  </thead>\n",
       "  <tbody>\n",
       "    <tr>\n",
       "      <th>0</th>\n",
       "      <td>Earth</td>\n",
       "      <td>False</td>\n",
       "      <td>TRAPPIST-1e</td>\n",
       "      <td>False</td>\n",
       "    </tr>\n",
       "  </tbody>\n",
       "</table>\n",
       "</div>"
      ],
      "text/plain": [
       "  HomePlanet CryoSleep  Destination    VIP\n",
       "0      Earth     False  TRAPPIST-1e  False"
      ]
     },
     "execution_count": 15,
     "metadata": {},
     "output_type": "execute_result"
    }
   ],
   "source": [
    "train_data[['HomePlanet','CryoSleep','Destination','VIP']].mode()"
   ]
  },
  {
   "cell_type": "markdown",
   "id": "74fac270",
   "metadata": {
    "papermill": {
     "duration": 0.114045,
     "end_time": "2022-04-11T06:20:13.081432",
     "exception": false,
     "start_time": "2022-04-11T06:20:12.967387",
     "status": "completed"
    },
    "tags": []
   },
   "source": [
    "- 결측치 값들은 최빈값으로 대체 시켜주는 전처리"
   ]
  },
  {
   "cell_type": "code",
   "execution_count": 16,
   "id": "8cb5be49",
   "metadata": {
    "execution": {
     "iopub.execute_input": "2022-04-11T06:20:13.314999Z",
     "iopub.status.busy": "2022-04-11T06:20:13.314330Z",
     "iopub.status.idle": "2022-04-11T06:20:13.332623Z",
     "shell.execute_reply": "2022-04-11T06:20:13.333158Z",
     "shell.execute_reply.started": "2022-04-11T06:18:18.112635Z"
    },
    "papermill": {
     "duration": 0.136332,
     "end_time": "2022-04-11T06:20:13.333333",
     "exception": false,
     "start_time": "2022-04-11T06:20:13.197001",
     "status": "completed"
    },
    "tags": []
   },
   "outputs": [],
   "source": [
    "train_data['HomePlanet'].fillna('Earth', inplace=True)\n",
    "test_data['HomePlanet'].fillna('Earth', inplace=True)\n",
    "\n",
    "train_data['CryoSleep'].fillna(False, inplace=True)\n",
    "test_data['CryoSleep'].fillna(False, inplace=True)\n",
    "\n",
    "train_data['Destination'].fillna('TRAPPIST-1e', inplace=True)\n",
    "test_data['Destination'].fillna('TRAPPIST-1e', inplace=True)\n",
    "\n",
    "train_data['VIP'].fillna(False, inplace=True)\n",
    "test_data['VIP'].fillna(False, inplace=True)\n",
    "\n"
   ]
  },
  {
   "cell_type": "code",
   "execution_count": 17,
   "id": "3e5559af",
   "metadata": {
    "execution": {
     "iopub.execute_input": "2022-04-11T06:20:13.570859Z",
     "iopub.status.busy": "2022-04-11T06:20:13.566402Z",
     "iopub.status.idle": "2022-04-11T06:20:13.587338Z",
     "shell.execute_reply": "2022-04-11T06:20:13.587959Z",
     "shell.execute_reply.started": "2022-04-11T06:18:18.133186Z"
    },
    "papermill": {
     "duration": 0.140012,
     "end_time": "2022-04-11T06:20:13.588168",
     "exception": false,
     "start_time": "2022-04-11T06:20:13.448156",
     "status": "completed"
    },
    "tags": []
   },
   "outputs": [
    {
     "name": "stdout",
     "output_type": "stream",
     "text": [
      "0           0.0\n",
      "1         736.0\n",
      "2       10383.0\n",
      "3        5176.0\n",
      "4        1091.0\n",
      "         ...   \n",
      "8688     8536.0\n",
      "8689        0.0\n",
      "8690     1873.0\n",
      "8691     4637.0\n",
      "8692     4826.0\n",
      "Length: 8693, dtype: float64\n",
      "      RoomService  FoodCourt  ShoppingMall     Spa  VRDeck\n",
      "0             0.0        0.0           0.0     0.0     0.0\n",
      "1           109.0        9.0          25.0   549.0    44.0\n",
      "2            43.0     3576.0           0.0  6715.0    49.0\n",
      "3             0.0     1283.0         371.0  3329.0   193.0\n",
      "4           303.0       70.0         151.0   565.0     2.0\n",
      "...           ...        ...           ...     ...     ...\n",
      "8688          0.0     6819.0           0.0  1643.0    74.0\n",
      "8689          0.0        0.0           0.0     0.0     0.0\n",
      "8690          0.0        0.0        1872.0     1.0     0.0\n",
      "8691          0.0     1049.0           0.0   353.0  3235.0\n",
      "8692        126.0     4688.0           0.0     0.0    12.0\n",
      "\n",
      "[8693 rows x 5 columns]\n",
      "      RoomService     Spa  VRDeck\n",
      "0             0.0     0.0     0.0\n",
      "1           109.0   549.0    44.0\n",
      "2            43.0  6715.0    49.0\n",
      "3             0.0  3329.0   193.0\n",
      "4           303.0   565.0     2.0\n",
      "...           ...     ...     ...\n",
      "8688          0.0  1643.0    74.0\n",
      "8689          0.0     0.0     0.0\n",
      "8690          0.0     1.0     0.0\n",
      "8691          0.0   353.0  3235.0\n",
      "8692        126.0     0.0    12.0\n",
      "\n",
      "[8693 rows x 3 columns]\n"
     ]
    }
   ],
   "source": [
    "print(train_data[exp_features].sum(axis=1))  #axis=1  !! 열 기준으로 합쳐주는 것!!\n",
    "print(train_data[exp_features])\n",
    "print(train_data[luxury])"
   ]
  },
  {
   "cell_type": "markdown",
   "id": "a355c0bd",
   "metadata": {
    "papermill": {
     "duration": 0.114866,
     "end_time": "2022-04-11T06:20:13.821221",
     "exception": false,
     "start_time": "2022-04-11T06:20:13.706355",
     "status": "completed"
    },
    "tags": []
   },
   "source": [
    "## 파생변수"
   ]
  },
  {
   "cell_type": "markdown",
   "id": "5fa734bd",
   "metadata": {
    "papermill": {
     "duration": 0.110121,
     "end_time": "2022-04-11T06:20:14.045057",
     "exception": false,
     "start_time": "2022-04-11T06:20:13.934936",
     "status": "completed"
    },
    "tags": []
   },
   "source": [
    "#### 아까  위에 말했던, 비용에 대한 값을 다 총합을 시켜주고 비용을 쓰지 않은 사람과 구분해 주고, 쓴 사람 중에서도, 비싼 어메니티를 이용한 사람과 평범한 어메니티를 이용한 사람의 차이가 확실 했으므로 , 둘을 LUXURY ,NORMAL 로 나누어준다\n"
   ]
  },
  {
   "cell_type": "code",
   "execution_count": 18,
   "id": "4b4fcba6",
   "metadata": {
    "execution": {
     "iopub.execute_input": "2022-04-11T06:20:14.290793Z",
     "iopub.status.busy": "2022-04-11T06:20:14.290029Z",
     "iopub.status.idle": "2022-04-11T06:20:14.316617Z",
     "shell.execute_reply": "2022-04-11T06:20:14.317193Z",
     "shell.execute_reply.started": "2022-04-11T06:18:18.158144Z"
    },
    "papermill": {
     "duration": 0.154213,
     "end_time": "2022-04-11T06:20:14.317387",
     "exception": false,
     "start_time": "2022-04-11T06:20:14.163174",
     "status": "completed"
    },
    "tags": []
   },
   "outputs": [
    {
     "name": "stdout",
     "output_type": "stream",
     "text": [
      "  PassengerId HomePlanet  CryoSleep  Cabin  Destination   Age    VIP  \\\n",
      "0     0001_01     Europa      False  B/0/P  TRAPPIST-1e  39.0  False   \n",
      "1     0002_01      Earth      False  F/0/S  TRAPPIST-1e  24.0  False   \n",
      "2     0003_01     Europa      False  A/0/S  TRAPPIST-1e  58.0   True   \n",
      "3     0003_02     Europa      False  A/0/S  TRAPPIST-1e  33.0  False   \n",
      "4     0004_01      Earth      False  F/1/S  TRAPPIST-1e  16.0  False   \n",
      "\n",
      "   RoomService  FoodCourt  ShoppingMall     Spa  VRDeck               Name  \\\n",
      "0          0.0        0.0           0.0     0.0     0.0    Maham Ofracculy   \n",
      "1        109.0        9.0          25.0   549.0    44.0       Juanna Vines   \n",
      "2         43.0     3576.0           0.0  6715.0    49.0      Altark Susent   \n",
      "3          0.0     1283.0         371.0  3329.0   193.0       Solam Susent   \n",
      "4        303.0       70.0         151.0   565.0     2.0  Willy Santantines   \n",
      "\n",
      "   Transported  Expenditure  luxry_spend  normal_spend  \n",
      "0        False          0.0          0.0           0.0  \n",
      "1         True        736.0        702.0          34.0  \n",
      "2        False      10383.0       6807.0        3576.0  \n",
      "3        False       5176.0       3522.0        1654.0  \n",
      "4         True       1091.0        870.0         221.0  \n"
     ]
    }
   ],
   "source": [
    "train_data['Expenditure']=train_data[exp_features].sum(axis=1)\n",
    "test_data['Expenditure']=test_data[exp_features].sum(axis=1)\n",
    "\n",
    "# 비용을 아예 쓰지 않은 사람 구분 해주고 모든 비용들을 합쳐준다\n",
    "\n",
    "\n",
    "train_data['luxry_spend']=train_data[luxury].sum(axis=1)\n",
    "train_data['normal_spend']=train_data[normal].sum(axis=1)\n",
    "\n",
    "\n",
    "test_data['luxry_spend']=test_data[luxury].sum(axis=1)\n",
    "test_data['normal_spend']=test_data[normal].sum(axis=1)\n",
    "\n",
    "\n",
    "# 돈을 쓰지 않은 사람에게 True 를 반환하고, 이를 int 형으로 바꿔준다.  추후 머신러닝 돌려야 하기 때문에\n",
    "\n",
    "print(train_data.head())\n",
    "\n"
   ]
  },
  {
   "cell_type": "code",
   "execution_count": 19,
   "id": "f1fddad1",
   "metadata": {
    "execution": {
     "iopub.execute_input": "2022-04-11T06:20:14.557890Z",
     "iopub.status.busy": "2022-04-11T06:20:14.553761Z",
     "iopub.status.idle": "2022-04-11T06:20:14.561912Z",
     "shell.execute_reply": "2022-04-11T06:20:14.562496Z",
     "shell.execute_reply.started": "2022-04-11T06:18:18.189776Z"
    },
    "papermill": {
     "duration": 0.128613,
     "end_time": "2022-04-11T06:20:14.562686",
     "exception": false,
     "start_time": "2022-04-11T06:20:14.434073",
     "status": "completed"
    },
    "tags": []
   },
   "outputs": [],
   "source": [
    "train_data['No_spending']=(train_data['Expenditure']==0).astype(int)\n",
    "test_data['No_spending']=(test_data['Expenditure']==0).astype(int)"
   ]
  },
  {
   "cell_type": "code",
   "execution_count": 20,
   "id": "9ecd1a79",
   "metadata": {
    "execution": {
     "iopub.execute_input": "2022-04-11T06:20:14.801024Z",
     "iopub.status.busy": "2022-04-11T06:20:14.800357Z",
     "iopub.status.idle": "2022-04-11T06:20:14.814316Z",
     "shell.execute_reply": "2022-04-11T06:20:14.813801Z",
     "shell.execute_reply.started": "2022-04-11T06:18:18.198122Z"
    },
    "papermill": {
     "duration": 0.13503,
     "end_time": "2022-04-11T06:20:14.814472",
     "exception": false,
     "start_time": "2022-04-11T06:20:14.679442",
     "status": "completed"
    },
    "tags": []
   },
   "outputs": [
    {
     "data": {
      "text/plain": [
       "PassengerId       0\n",
       "HomePlanet        0\n",
       "CryoSleep         0\n",
       "Cabin           199\n",
       "Destination       0\n",
       "Age               0\n",
       "VIP               0\n",
       "RoomService       0\n",
       "FoodCourt         0\n",
       "ShoppingMall      0\n",
       "Spa               0\n",
       "VRDeck            0\n",
       "Name            200\n",
       "Transported       0\n",
       "Expenditure       0\n",
       "luxry_spend       0\n",
       "normal_spend      0\n",
       "No_spending       0\n",
       "dtype: int64"
      ]
     },
     "execution_count": 20,
     "metadata": {},
     "output_type": "execute_result"
    }
   ],
   "source": [
    "# exp_features 에도, 최빈값인 0을 넣어줍니다\n",
    "for col in exp_features:\n",
    "    train_data.loc[train_data[col].isna(),col]=0\n",
    "    test_data.loc[test_data[col].isna(),col]=0\n",
    "train_data.isnull().sum()"
   ]
  },
  {
   "cell_type": "code",
   "execution_count": null,
   "id": "bb056519",
   "metadata": {
    "papermill": {
     "duration": 0.115864,
     "end_time": "2022-04-11T06:20:15.046709",
     "exception": false,
     "start_time": "2022-04-11T06:20:14.930845",
     "status": "completed"
    },
    "tags": []
   },
   "outputs": [],
   "source": []
  },
  {
   "cell_type": "code",
   "execution_count": 21,
   "id": "79d5256d",
   "metadata": {
    "execution": {
     "iopub.execute_input": "2022-04-11T06:20:15.286520Z",
     "iopub.status.busy": "2022-04-11T06:20:15.285825Z",
     "iopub.status.idle": "2022-04-11T06:20:15.292686Z",
     "shell.execute_reply": "2022-04-11T06:20:15.293204Z",
     "shell.execute_reply.started": "2022-04-11T06:18:18.225292Z"
    },
    "papermill": {
     "duration": 0.128985,
     "end_time": "2022-04-11T06:20:15.293474",
     "exception": false,
     "start_time": "2022-04-11T06:20:15.164489",
     "status": "completed"
    },
    "tags": []
   },
   "outputs": [],
   "source": [
    "#\n",
    "train_data['Cabin'].fillna('Z/9999/Z', inplace=True)\n",
    "test_data['Cabin'].fillna('Z/9999/Z', inplace=True)\n",
    "\n",
    "train_data['Name'].fillna('No Name', inplace=True)\n",
    "test_data['Name'].fillna('No Name', inplace=True)"
   ]
  },
  {
   "cell_type": "markdown",
   "id": "c2d1cc7a",
   "metadata": {
    "papermill": {
     "duration": 0.116658,
     "end_time": "2022-04-11T06:20:15.528498",
     "exception": false,
     "start_time": "2022-04-11T06:20:15.411840",
     "status": "completed"
    },
    "tags": []
   },
   "source": [
    "### 파생변수"
   ]
  },
  {
   "cell_type": "markdown",
   "id": "3d99ccd1",
   "metadata": {
    "papermill": {
     "duration": 0.117672,
     "end_time": "2022-04-11T06:20:15.764269",
     "exception": false,
     "start_time": "2022-04-11T06:20:15.646597",
     "status": "completed"
    },
    "tags": []
   },
   "source": [
    "- AGE 위에 시각화 했을때 처럼,  구간별로 나누어준다."
   ]
  },
  {
   "cell_type": "code",
   "execution_count": 22,
   "id": "c3db01ab",
   "metadata": {
    "execution": {
     "iopub.execute_input": "2022-04-11T06:20:16.001058Z",
     "iopub.status.busy": "2022-04-11T06:20:16.000315Z",
     "iopub.status.idle": "2022-04-11T06:20:16.196180Z",
     "shell.execute_reply": "2022-04-11T06:20:16.194774Z",
     "shell.execute_reply.started": "2022-04-11T06:18:18.237468Z"
    },
    "papermill": {
     "duration": 0.314656,
     "end_time": "2022-04-11T06:20:16.196351",
     "exception": false,
     "start_time": "2022-04-11T06:20:15.881695",
     "status": "completed"
    },
    "tags": []
   },
   "outputs": [
    {
     "data": {
      "image/png": "[encoded data removed]",
      "text/plain": [
       "<Figure size 720x432 with 1 Axes>"
      ]
     },
     "metadata": {},
     "output_type": "display_data"
    }
   ],
   "source": [
    "#위에서 언급했던 나이대별로 타겟값이 차이를 보이기때문에, 나이별로 묶어주어, 과적합 방지\n",
    "\n",
    "train_data['Under_18']=(train_data['Age']<18).astype(int)\n",
    "train_data['18_to_25']=((train_data['Age']>=18) & (train_data['Age']<=25)).astype(int)\n",
    "train_data['Over_25']=(train_data['Age']>25).astype(int)\n",
    "\n",
    "test_data['Under_18']=(test_data['Age']<18).astype(int)\n",
    "test_data['18_to_25']=((test_data['Age']>=18) & (test_data['Age']<=25)).astype(int)\n",
    "test_data['Over_25']=(test_data['Age']>25).astype(int)\n",
    "\n",
    "train_data['Age_plot']=train_data['Under_18']+2*train_data['18_to_25']+3*train_data['Over_25']\n",
    "plt.figure(figsize=(10, 6))\n",
    "g=sns.countplot(data=train_data, x='Age_plot', hue='Transported')\n",
    "plt.title('Age status distribution')\n",
    "g.set_xticklabels(['Under 18', '18-25', 'Over 25'])\n",
    "train_data.drop('Age_plot', axis=1, inplace=True)\n"
   ]
  },
  {
   "cell_type": "markdown",
   "id": "3df75e2e",
   "metadata": {
    "papermill": {
     "duration": 0.11717,
     "end_time": "2022-04-11T06:20:16.433569",
     "exception": false,
     "start_time": "2022-04-11T06:20:16.316399",
     "status": "completed"
    },
    "tags": []
   },
   "source": [
    "#### 비용에대한 파생변수\n",
    "\n",
    "- 비용을 지출한 사람은 비용의 총합이라는 feature 를 만들어주고\n",
    "- 비용을 지출하지 않은사람들은 따로 떼어준다."
   ]
  },
  {
   "cell_type": "code",
   "execution_count": 23,
   "id": "943a8a67",
   "metadata": {
    "execution": {
     "iopub.execute_input": "2022-04-11T06:20:16.675488Z",
     "iopub.status.busy": "2022-04-11T06:20:16.674756Z",
     "iopub.status.idle": "2022-04-11T06:20:17.981418Z",
     "shell.execute_reply": "2022-04-11T06:20:17.981938Z",
     "shell.execute_reply.started": "2022-04-11T06:18:18.512031Z"
    },
    "papermill": {
     "duration": 1.428278,
     "end_time": "2022-04-11T06:20:17.982100",
     "exception": false,
     "start_time": "2022-04-11T06:20:16.553822",
     "status": "completed"
    },
    "tags": []
   },
   "outputs": [
    {
     "data": {
      "image/png": "[encoded data removed]",
      "text/plain": [
       "<Figure size 864x288 with 2 Axes>"
      ]
     },
     "metadata": {},
     "output_type": "display_data"
    }
   ],
   "source": [
    "\n",
    "\n",
    "\n",
    "\n",
    "\n",
    "# Plot distribution of new features\n",
    "plt.figure(figsize=(12,4))\n",
    "plt.subplot(1,2,1)\n",
    "sns.histplot(data=train_data, x='Expenditure', hue='Transported', kde = True, bins=200)\n",
    "plt.title('Total expenditure (truncated)')\n",
    "plt.ylim([0,3000])\n",
    "plt.xlim([0,15000])\n",
    "\n",
    "plt.subplot(1,2,2)\n",
    "sns.countplot(data=train_data, x='No_spending', hue='Transported', palette = 'viridis')\n",
    "plt.title('No spending indicator')\n",
    "plt.show()"
   ]
  },
  {
   "cell_type": "markdown",
   "id": "e78dec9c",
   "metadata": {
    "papermill": {
     "duration": 0.118204,
     "end_time": "2022-04-11T06:20:18.219628",
     "exception": false,
     "start_time": "2022-04-11T06:20:18.101424",
     "status": "completed"
    },
    "tags": []
   },
   "source": [
    "- 이 그래프에서도 확연히 볼 수 있듯이  비용을 안 쓴사람은 쓴 사람에 비해 탑승율이 더 높았다\n"
   ]
  },
  {
   "cell_type": "code",
   "execution_count": 24,
   "id": "abcbd3df",
   "metadata": {
    "execution": {
     "iopub.execute_input": "2022-04-11T06:20:18.463619Z",
     "iopub.status.busy": "2022-04-11T06:20:18.462938Z",
     "iopub.status.idle": "2022-04-11T06:20:18.482642Z",
     "shell.execute_reply": "2022-04-11T06:20:18.483165Z",
     "shell.execute_reply.started": "2022-04-11T06:18:20.113631Z"
    },
    "papermill": {
     "duration": 0.143098,
     "end_time": "2022-04-11T06:20:18.483354",
     "exception": false,
     "start_time": "2022-04-11T06:20:18.340256",
     "status": "completed"
    },
    "tags": []
   },
   "outputs": [
    {
     "name": "stdout",
     "output_type": "stream",
     "text": [
      "<class 'pandas.core.frame.DataFrame'>\n",
      "RangeIndex: 8693 entries, 0 to 8692\n",
      "Data columns (total 21 columns):\n",
      " #   Column        Non-Null Count  Dtype  \n",
      "---  ------        --------------  -----  \n",
      " 0   PassengerId   8693 non-null   object \n",
      " 1   HomePlanet    8693 non-null   object \n",
      " 2   CryoSleep     8693 non-null   bool   \n",
      " 3   Cabin         8693 non-null   object \n",
      " 4   Destination   8693 non-null   object \n",
      " 5   Age           8693 non-null   float64\n",
      " 6   VIP           8693 non-null   bool   \n",
      " 7   RoomService   8693 non-null   float64\n",
      " 8   FoodCourt     8693 non-null   float64\n",
      " 9   ShoppingMall  8693 non-null   float64\n",
      " 10  Spa           8693 non-null   float64\n",
      " 11  VRDeck        8693 non-null   float64\n",
      " 12  Name          8693 non-null   object \n",
      " 13  Transported   8693 non-null   bool   \n",
      " 14  Expenditure   8693 non-null   float64\n",
      " 15  luxry_spend   8693 non-null   float64\n",
      " 16  normal_spend  8693 non-null   float64\n",
      " 17  No_spending   8693 non-null   int64  \n",
      " 18  Under_18      8693 non-null   int64  \n",
      " 19  18_to_25      8693 non-null   int64  \n",
      " 20  Over_25       8693 non-null   int64  \n",
      "dtypes: bool(3), float64(9), int64(4), object(5)\n",
      "memory usage: 1.2+ MB\n"
     ]
    }
   ],
   "source": [
    "train_data.info()"
   ]
  },
  {
   "cell_type": "markdown",
   "id": "775aa9c2",
   "metadata": {
    "papermill": {
     "duration": 0.081391,
     "end_time": "2022-04-11T06:20:18.650437",
     "exception": false,
     "start_time": "2022-04-11T06:20:18.569046",
     "status": "completed"
    },
    "tags": []
   },
   "source": [
    "### passenger 는 그룹을 나타내 주기 때문에 그 룹을 나누어 준다. "
   ]
  },
  {
   "cell_type": "code",
   "execution_count": 25,
   "id": "31e9c571",
   "metadata": {
    "execution": {
     "iopub.execute_input": "2022-04-11T06:20:18.817706Z",
     "iopub.status.busy": "2022-04-11T06:20:18.817180Z",
     "iopub.status.idle": "2022-04-11T06:20:29.288010Z",
     "shell.execute_reply": "2022-04-11T06:20:29.288539Z",
     "shell.execute_reply.started": "2022-04-11T06:18:20.138668Z"
    },
    "papermill": {
     "duration": 10.556411,
     "end_time": "2022-04-11T06:20:29.288705",
     "exception": false,
     "start_time": "2022-04-11T06:20:18.732294",
     "status": "completed"
    },
    "tags": []
   },
   "outputs": [
    {
     "data": {
      "image/png": "[encoded data removed]",
      "text/plain": [
       "<Figure size 864x864 with 2 Axes>"
      ]
     },
     "metadata": {},
     "output_type": "display_data"
    }
   ],
   "source": [
    "# New features - training set\n",
    "train_data['Group'] = train_data['PassengerId'].apply(lambda x: x.split('_')[0]).astype(int)\n",
    "train_data['Group_size']=train_data['Group'].map(lambda x: train_data['Group'].value_counts()[x])\n",
    "\n",
    "# New features - test set\n",
    "test_data['Group'] = test_data['PassengerId'].apply(lambda x: x.split('_')[0]).astype(int)\n",
    "test_data['Group_size']=test_data['Group'].map(lambda x: test_data['Group'].value_counts()[x])\n",
    "\n",
    "# Plot distribution of new features\n",
    "plt.figure(figsize=(12,12))\n",
    "plt.subplot(2,1,1)\n",
    "sns.histplot(data=train_data, x='Group', hue='Transported', bins = 200, kde = True)\n",
    "\n",
    "plt.subplot(2,1,2)\n",
    "sns.countplot(data=train_data, x='Group_size', hue='Transported')\n",
    "fig.tight_layout()\n",
    "plt.show()"
   ]
  },
  {
   "cell_type": "markdown",
   "id": "cdd720f0",
   "metadata": {
    "papermill": {
     "duration": 0.124619,
     "end_time": "2022-04-11T06:20:29.536426",
     "exception": false,
     "start_time": "2022-04-11T06:20:29.411807",
     "status": "completed"
    },
    "tags": []
   },
   "source": [
    "- 그룹 지표는 종류가 너무 많기 떄문에 인코딩 불가\n",
    "- 반면 group_size 는 solo 로 온 사람을 색출 할 수 있기 떄문에 유용하다."
   ]
  },
  {
   "cell_type": "code",
   "execution_count": 26,
   "id": "85605912",
   "metadata": {
    "execution": {
     "iopub.execute_input": "2022-04-11T06:20:29.787350Z",
     "iopub.status.busy": "2022-04-11T06:20:29.784739Z",
     "iopub.status.idle": "2022-04-11T06:20:29.977204Z",
     "shell.execute_reply": "2022-04-11T06:20:29.976600Z",
     "shell.execute_reply.started": "2022-04-11T06:18:31.359729Z"
    },
    "papermill": {
     "duration": 0.317935,
     "end_time": "2022-04-11T06:20:29.977327",
     "exception": false,
     "start_time": "2022-04-11T06:20:29.659392",
     "status": "completed"
    },
    "tags": []
   },
   "outputs": [
    {
     "data": {
      "text/plain": [
       "(0.0, 3000.0)"
      ]
     },
     "execution_count": 26,
     "metadata": {},
     "output_type": "execute_result"
    },
    {
     "data": {
      "image/png": "[encoded data removed]",
      "text/plain": [
       "<Figure size 720x432 with 1 Axes>"
      ]
     },
     "metadata": {},
     "output_type": "display_data"
    }
   ],
   "source": [
    "# New feature\n",
    "train_data['Solo']=(train_data['Group_size']==1).astype(int)\n",
    "test_data['Solo']=(test_data['Group_size']==1).astype(int)\n",
    "\n",
    "# New feature distribution\n",
    "plt.figure(figsize=(10,6))\n",
    "sns.countplot(data=train_data, x='Solo', hue='Transported')\n",
    "plt.title('Passenger travelling solo or not')\n",
    "plt.ylim([0,3000])"
   ]
  },
  {
   "cell_type": "markdown",
   "id": "25dcfe6d",
   "metadata": {
    "papermill": {
     "duration": 0.124993,
     "end_time": "2022-04-11T06:20:30.227723",
     "exception": false,
     "start_time": "2022-04-11T06:20:30.102730",
     "status": "completed"
    },
    "tags": []
   },
   "source": [
    "- 그룹으로 가지 않은 사람들은 탑승했을가능성이 크고 , 솔로로 간 사람들은 탑승하지 못했을 가능성이 크다"
   ]
  },
  {
   "cell_type": "markdown",
   "id": "6a73d179",
   "metadata": {
    "papermill": {
     "duration": 0.126556,
     "end_time": "2022-04-11T06:20:30.480809",
     "exception": false,
     "start_time": "2022-04-11T06:20:30.354253",
     "status": "completed"
    },
    "tags": []
   },
   "source": [
    "#### cabin의 위치\n",
    "-cabin deck 의 위치별로 true false 가 명확하게 구분되는 것을 볼 수 있다"
   ]
  },
  {
   "cell_type": "code",
   "execution_count": 27,
   "id": "f7876e7f",
   "metadata": {
    "execution": {
     "iopub.execute_input": "2022-04-11T06:20:30.740337Z",
     "iopub.status.busy": "2022-04-11T06:20:30.739634Z",
     "iopub.status.idle": "2022-04-11T06:20:34.817131Z",
     "shell.execute_reply": "2022-04-11T06:20:34.816086Z",
     "shell.execute_reply.started": "2022-04-11T06:18:31.622505Z"
    },
    "papermill": {
     "duration": 4.207491,
     "end_time": "2022-04-11T06:20:34.817289",
     "exception": false,
     "start_time": "2022-04-11T06:20:30.609798",
     "status": "completed"
    },
    "tags": []
   },
   "outputs": [
    {
     "data": {
      "image/png": "[encoded data removed]",
      "text/plain": [
       "<Figure size 864x1296 with 3 Axes>"
      ]
     },
     "metadata": {},
     "output_type": "display_data"
    }
   ],
   "source": [
    "# New features - training set\n",
    "train_data['Cabin_deck'] = train_data['Cabin'].apply(lambda x: x.split('/')[0])\n",
    "train_data['Cabin_number'] = train_data['Cabin'].apply(lambda x: x.split('/')[1]).astype(int)\n",
    "train_data['Cabin_side'] = train_data['Cabin'].apply(lambda x: x.split('/')[2])\n",
    "\n",
    "# New features - test set\n",
    "test_data['Cabin_deck'] = test_data['Cabin'].apply(lambda x: x.split('/')[0])\n",
    "test_data['Cabin_number'] = test_data['Cabin'].apply(lambda x: x.split('/')[1]).astype(int)\n",
    "test_data['Cabin_side'] = test_data['Cabin'].apply(lambda x: x.split('/')[2])\n",
    "\n",
    "# Plot distribution of new features\n",
    "fig=plt.figure(figsize=(12,18))\n",
    "plt.subplot(3,1,1)\n",
    "sns.countplot(data=train_data, x='Cabin_deck', hue='Transported', order=['A','B','C','D','E','F','G','T','Z'])\n",
    "plt.title('Cabin deck')\n",
    "\n",
    "plt.subplot(3,1,2)\n",
    "sns.histplot(data=train_data, x='Cabin_number', hue='Transported',binwidth=20, kde = True)\n",
    "plt.vlines(300, ymin=0, ymax=200, color='black')\n",
    "plt.vlines(600, ymin=0, ymax=200, color='black')\n",
    "plt.vlines(900, ymin=0, ymax=200, color='black')\n",
    "plt.vlines(1200, ymin=0, ymax=200, color='black')\n",
    "plt.vlines(1500, ymin=0, ymax=200, color='black')\n",
    "plt.vlines(1800, ymin=0, ymax=200, color='black')\n",
    "plt.title('Cabin number')\n",
    "plt.xlim([0,2000])\n",
    "\n",
    "plt.subplot(3,1,3)\n",
    "sns.countplot(data=train_data, x='Cabin_side', hue='Transported')\n",
    "plt.title('Cabin side')\n",
    "fig.tight_layout()"
   ]
  },
  {
   "cell_type": "markdown",
   "id": "1243b56a",
   "metadata": {
    "papermill": {
     "duration": 0.12908,
     "end_time": "2022-04-11T06:20:35.075476",
     "exception": false,
     "start_time": "2022-04-11T06:20:34.946396",
     "status": "completed"
    },
    "tags": []
   },
   "source": [
    "- cabin number 를 보면 300개의 cabin 을 기준으로 그룹화 되는 것 을 확인 할 수 있다."
   ]
  },
  {
   "cell_type": "markdown",
   "id": "cdbb691d",
   "metadata": {
    "papermill": {
     "duration": 0.131918,
     "end_time": "2022-04-11T06:20:35.334331",
     "exception": false,
     "start_time": "2022-04-11T06:20:35.202413",
     "status": "completed"
    },
    "tags": []
   },
   "source": [
    "#### 위에서 얻은 인사이트로 cabin number 에 따라서 새로운 변수를 생성시켜 주어 보자 !!"
   ]
  },
  {
   "cell_type": "code",
   "execution_count": 28,
   "id": "690daf4a",
   "metadata": {
    "execution": {
     "iopub.execute_input": "2022-04-11T06:20:35.617287Z",
     "iopub.status.busy": "2022-04-11T06:20:35.603369Z",
     "iopub.status.idle": "2022-04-11T06:20:35.963645Z",
     "shell.execute_reply": "2022-04-11T06:20:35.963069Z",
     "shell.execute_reply.started": "2022-04-11T06:18:35.581999Z"
    },
    "papermill": {
     "duration": 0.500274,
     "end_time": "2022-04-11T06:20:35.963774",
     "exception": false,
     "start_time": "2022-04-11T06:20:35.463500",
     "status": "completed"
    },
    "tags": []
   },
   "outputs": [
    {
     "data": {
      "image/png": "[encoded data removed]",
      "text/plain": [
       "<Figure size 864x432 with 1 Axes>"
      ]
     },
     "metadata": {},
     "output_type": "display_data"
    }
   ],
   "source": [
    "\n",
    "\n",
    "# New features - training set\n",
    "train_data['Cabin_region1']=(train_data['Cabin_number']<300).astype(int)   # one-hot encoding\n",
    "train_data['Cabin_region2']=((train_data['Cabin_number']>=300) & (train_data['Cabin_number']<600)).astype(int)\n",
    "train_data['Cabin_region3']=((train_data['Cabin_number']>=600) & (train_data['Cabin_number']<900)).astype(int)\n",
    "train_data['Cabin_region4']=((train_data['Cabin_number']>=900) & (train_data['Cabin_number']<1200)).astype(int)\n",
    "train_data['Cabin_region5']=((train_data['Cabin_number']>=1200) & (train_data['Cabin_number']<1500)).astype(int)\n",
    "train_data['Cabin_region6']=((train_data['Cabin_number']>=1500) & (train_data['Cabin_number']<1800)).astype(int)\n",
    "train_data['Cabin_region7']=(train_data['Cabin_number']>=1800).astype(int)\n",
    "\n",
    "# New features - test set\n",
    "test_data['Cabin_region1']=(test_data['Cabin_number']<300).astype(int)   # one-hot encoding\n",
    "test_data['Cabin_region2']=((test_data['Cabin_number']>=300) & (test_data['Cabin_number']<600)).astype(int)\n",
    "test_data['Cabin_region3']=((test_data['Cabin_number']>=600) & (test_data['Cabin_number']<900)).astype(int)\n",
    "test_data['Cabin_region4']=((test_data['Cabin_number']>=900) & (test_data['Cabin_number']<1200)).astype(int)\n",
    "test_data['Cabin_region5']=((test_data['Cabin_number']>=1200) & (test_data['Cabin_number']<1500)).astype(int)\n",
    "test_data['Cabin_region6']=((test_data['Cabin_number']>=1500) & (test_data['Cabin_number']<1800)).astype(int)\n",
    "test_data['Cabin_region7']=(test_data['Cabin_number']>=1800).astype(int)\n",
    "\n",
    "# Plot distribution of new features\n",
    "plt.figure(figsize=(12,6))\n",
    "train_data['Cabin_regions_plot']=(train_data['Cabin_region1']+2*train_data['Cabin_region2']+3*train_data['Cabin_region3']+4*train_data['Cabin_region4']+5*train_data['Cabin_region5']+6*train_data['Cabin_region6']+7*train_data['Cabin_region7']).astype(int)\n",
    "sns.countplot(data=train_data, x='Cabin_regions_plot', hue='Transported', palette = 'viridis')\n",
    "plt.title('Cabin regions')\n",
    "train_data.drop('Cabin_regions_plot', axis=1, inplace=True)"
   ]
  },
  {
   "cell_type": "code",
   "execution_count": 29,
   "id": "c2401496",
   "metadata": {
    "execution": {
     "iopub.execute_input": "2022-04-11T06:20:36.240641Z",
     "iopub.status.busy": "2022-04-11T06:20:36.239821Z",
     "iopub.status.idle": "2022-04-11T06:21:12.636673Z",
     "shell.execute_reply": "2022-04-11T06:21:12.637061Z",
     "shell.execute_reply.started": "2022-04-11T06:18:35.954898Z"
    },
    "papermill": {
     "duration": 36.543769,
     "end_time": "2022-04-11T06:21:12.637198",
     "exception": false,
     "start_time": "2022-04-11T06:20:36.093429",
     "status": "completed"
    },
    "tags": []
   },
   "outputs": [
    {
     "data": {
      "image/png": "[encoded data removed]",
      "text/plain": [
       "<Figure size 864x432 with 1 Axes>"
      ]
     },
     "metadata": {},
     "output_type": "display_data"
    }
   ],
   "source": [
    "# New features - training set\n",
    "train_data['Surname']=train_data['Name'].str.split().str[-1]\n",
    "train_data['Family_size']=train_data['Surname'].map(lambda x: train_data['Surname'].value_counts()[x])\n",
    "\n",
    "# New features - test set\n",
    "test_data['Surname']=test_data['Name'].str.split().str[-1]\n",
    "test_data['Family_size']=test_data['Surname'].map(lambda x: test_data['Surname'].value_counts()[x])\n",
    "\n",
    "# Set outliers (no name) to have no family\n",
    "train_data.loc[train_data['Family_size']==200,'Family_size']=0\n",
    "test_data.loc[test_data['Family_size']==200,'Family_size']=0\n",
    "\n",
    "# New feature distribution\n",
    "plt.figure(figsize=(12,6))\n",
    "sns.countplot(data=train_data, x='Family_size', hue='Transported')\n",
    "plt.show()"
   ]
  },
  {
   "cell_type": "markdown",
   "id": "05c38460",
   "metadata": {
    "papermill": {
     "duration": 0.088555,
     "end_time": "2022-04-11T06:21:12.813858",
     "exception": false,
     "start_time": "2022-04-11T06:21:12.725303",
     "status": "completed"
    },
    "tags": []
   },
   "source": [
    "### 불필요한 변수 제거"
   ]
  },
  {
   "cell_type": "code",
   "execution_count": 30,
   "id": "e55e2b5b",
   "metadata": {
    "execution": {
     "iopub.execute_input": "2022-04-11T06:21:12.999868Z",
     "iopub.status.busy": "2022-04-11T06:21:12.999327Z",
     "iopub.status.idle": "2022-04-11T06:21:13.035717Z",
     "shell.execute_reply": "2022-04-11T06:21:13.035235Z",
     "shell.execute_reply.started": "2022-04-11T06:19:08.458972Z"
    },
    "papermill": {
     "duration": 0.131424,
     "end_time": "2022-04-11T06:21:13.035831",
     "exception": false,
     "start_time": "2022-04-11T06:21:12.904407",
     "status": "completed"
    },
    "tags": []
   },
   "outputs": [
    {
     "data": {
      "text/html": [
       "<div>\n",
       "<style scoped>\n",
       "    .dataframe tbody tr th:only-of-type {\n",
       "        vertical-align: middle;\n",
       "    }\n",
       "\n",
       "    .dataframe tbody tr th {\n",
       "        vertical-align: top;\n",
       "    }\n",
       "\n",
       "    .dataframe thead th {\n",
       "        text-align: right;\n",
       "    }\n",
       "</style>\n",
       "<table border=\"1\" class=\"dataframe\">\n",
       "  <thead>\n",
       "    <tr style=\"text-align: right;\">\n",
       "      <th></th>\n",
       "      <th>HomePlanet</th>\n",
       "      <th>CryoSleep</th>\n",
       "      <th>Destination</th>\n",
       "      <th>Age</th>\n",
       "      <th>RoomService</th>\n",
       "      <th>FoodCourt</th>\n",
       "      <th>ShoppingMall</th>\n",
       "      <th>Spa</th>\n",
       "      <th>VRDeck</th>\n",
       "      <th>Transported</th>\n",
       "      <th>...</th>\n",
       "      <th>Cabin_deck</th>\n",
       "      <th>Cabin_side</th>\n",
       "      <th>Cabin_region1</th>\n",
       "      <th>Cabin_region2</th>\n",
       "      <th>Cabin_region3</th>\n",
       "      <th>Cabin_region4</th>\n",
       "      <th>Cabin_region5</th>\n",
       "      <th>Cabin_region6</th>\n",
       "      <th>Cabin_region7</th>\n",
       "      <th>Family_size</th>\n",
       "    </tr>\n",
       "  </thead>\n",
       "  <tbody>\n",
       "    <tr>\n",
       "      <th>0</th>\n",
       "      <td>Europa</td>\n",
       "      <td>False</td>\n",
       "      <td>TRAPPIST-1e</td>\n",
       "      <td>39.0</td>\n",
       "      <td>0.0</td>\n",
       "      <td>0.0</td>\n",
       "      <td>0.0</td>\n",
       "      <td>0.0</td>\n",
       "      <td>0.0</td>\n",
       "      <td>False</td>\n",
       "      <td>...</td>\n",
       "      <td>B</td>\n",
       "      <td>P</td>\n",
       "      <td>1</td>\n",
       "      <td>0</td>\n",
       "      <td>0</td>\n",
       "      <td>0</td>\n",
       "      <td>0</td>\n",
       "      <td>0</td>\n",
       "      <td>0</td>\n",
       "      <td>1</td>\n",
       "    </tr>\n",
       "    <tr>\n",
       "      <th>1</th>\n",
       "      <td>Earth</td>\n",
       "      <td>False</td>\n",
       "      <td>TRAPPIST-1e</td>\n",
       "      <td>24.0</td>\n",
       "      <td>109.0</td>\n",
       "      <td>9.0</td>\n",
       "      <td>25.0</td>\n",
       "      <td>549.0</td>\n",
       "      <td>44.0</td>\n",
       "      <td>True</td>\n",
       "      <td>...</td>\n",
       "      <td>F</td>\n",
       "      <td>S</td>\n",
       "      <td>1</td>\n",
       "      <td>0</td>\n",
       "      <td>0</td>\n",
       "      <td>0</td>\n",
       "      <td>0</td>\n",
       "      <td>0</td>\n",
       "      <td>0</td>\n",
       "      <td>4</td>\n",
       "    </tr>\n",
       "    <tr>\n",
       "      <th>2</th>\n",
       "      <td>Europa</td>\n",
       "      <td>False</td>\n",
       "      <td>TRAPPIST-1e</td>\n",
       "      <td>58.0</td>\n",
       "      <td>43.0</td>\n",
       "      <td>3576.0</td>\n",
       "      <td>0.0</td>\n",
       "      <td>6715.0</td>\n",
       "      <td>49.0</td>\n",
       "      <td>False</td>\n",
       "      <td>...</td>\n",
       "      <td>A</td>\n",
       "      <td>S</td>\n",
       "      <td>1</td>\n",
       "      <td>0</td>\n",
       "      <td>0</td>\n",
       "      <td>0</td>\n",
       "      <td>0</td>\n",
       "      <td>0</td>\n",
       "      <td>0</td>\n",
       "      <td>6</td>\n",
       "    </tr>\n",
       "    <tr>\n",
       "      <th>3</th>\n",
       "      <td>Europa</td>\n",
       "      <td>False</td>\n",
       "      <td>TRAPPIST-1e</td>\n",
       "      <td>33.0</td>\n",
       "      <td>0.0</td>\n",
       "      <td>1283.0</td>\n",
       "      <td>371.0</td>\n",
       "      <td>3329.0</td>\n",
       "      <td>193.0</td>\n",
       "      <td>False</td>\n",
       "      <td>...</td>\n",
       "      <td>A</td>\n",
       "      <td>S</td>\n",
       "      <td>1</td>\n",
       "      <td>0</td>\n",
       "      <td>0</td>\n",
       "      <td>0</td>\n",
       "      <td>0</td>\n",
       "      <td>0</td>\n",
       "      <td>0</td>\n",
       "      <td>6</td>\n",
       "    </tr>\n",
       "    <tr>\n",
       "      <th>4</th>\n",
       "      <td>Earth</td>\n",
       "      <td>False</td>\n",
       "      <td>TRAPPIST-1e</td>\n",
       "      <td>16.0</td>\n",
       "      <td>303.0</td>\n",
       "      <td>70.0</td>\n",
       "      <td>151.0</td>\n",
       "      <td>565.0</td>\n",
       "      <td>2.0</td>\n",
       "      <td>True</td>\n",
       "      <td>...</td>\n",
       "      <td>F</td>\n",
       "      <td>S</td>\n",
       "      <td>1</td>\n",
       "      <td>0</td>\n",
       "      <td>0</td>\n",
       "      <td>0</td>\n",
       "      <td>0</td>\n",
       "      <td>0</td>\n",
       "      <td>0</td>\n",
       "      <td>6</td>\n",
       "    </tr>\n",
       "  </tbody>\n",
       "</table>\n",
       "<p>5 rows × 28 columns</p>\n",
       "</div>"
      ],
      "text/plain": [
       "  HomePlanet  CryoSleep  Destination   Age  RoomService  FoodCourt  \\\n",
       "0     Europa      False  TRAPPIST-1e  39.0          0.0        0.0   \n",
       "1      Earth      False  TRAPPIST-1e  24.0        109.0        9.0   \n",
       "2     Europa      False  TRAPPIST-1e  58.0         43.0     3576.0   \n",
       "3     Europa      False  TRAPPIST-1e  33.0          0.0     1283.0   \n",
       "4      Earth      False  TRAPPIST-1e  16.0        303.0       70.0   \n",
       "\n",
       "   ShoppingMall     Spa  VRDeck  Transported  ...  Cabin_deck  Cabin_side  \\\n",
       "0           0.0     0.0     0.0        False  ...           B           P   \n",
       "1          25.0   549.0    44.0         True  ...           F           S   \n",
       "2           0.0  6715.0    49.0        False  ...           A           S   \n",
       "3         371.0  3329.0   193.0        False  ...           A           S   \n",
       "4         151.0   565.0     2.0         True  ...           F           S   \n",
       "\n",
       "   Cabin_region1  Cabin_region2  Cabin_region3  Cabin_region4  Cabin_region5  \\\n",
       "0              1              0              0              0              0   \n",
       "1              1              0              0              0              0   \n",
       "2              1              0              0              0              0   \n",
       "3              1              0              0              0              0   \n",
       "4              1              0              0              0              0   \n",
       "\n",
       "   Cabin_region6 Cabin_region7 Family_size  \n",
       "0              0             0           1  \n",
       "1              0             0           4  \n",
       "2              0             0           6  \n",
       "3              0             0           6  \n",
       "4              0             0           6  \n",
       "\n",
       "[5 rows x 28 columns]"
      ]
     },
     "execution_count": 30,
     "metadata": {},
     "output_type": "execute_result"
    }
   ],
   "source": [
    "# Drop qualitative/redundant/high cardinality features\n",
    "train_data.drop(['PassengerId', 'Cabin', 'Name', 'Surname', 'VIP', 'Group', 'Cabin_number','Expenditure'], axis=1, inplace=True)\n",
    "test_data.drop(['PassengerId', 'Cabin', 'Name', 'Surname', 'VIP', 'Group', 'Cabin_number','Expenditure'], axis=1, inplace=True)\n",
    "\n",
    "# Preview resulting training set\n",
    "train_data.head()\n"
   ]
  },
  {
   "cell_type": "code",
   "execution_count": 31,
   "id": "67c708b2",
   "metadata": {
    "execution": {
     "iopub.execute_input": "2022-04-11T06:21:13.226019Z",
     "iopub.status.busy": "2022-04-11T06:21:13.220312Z",
     "iopub.status.idle": "2022-04-11T06:21:13.229663Z",
     "shell.execute_reply": "2022-04-11T06:21:13.230043Z",
     "shell.execute_reply.started": "2022-04-11T06:19:08.494619Z"
    },
    "papermill": {
     "duration": 0.102633,
     "end_time": "2022-04-11T06:21:13.230207",
     "exception": false,
     "start_time": "2022-04-11T06:21:13.127574",
     "status": "completed"
    },
    "tags": []
   },
   "outputs": [],
   "source": [
    "train_data=train_data.drop(['Spa','FoodCourt','FoodCourt','ShoppingMall','VRDeck'],axis=1)\n",
    "test_data=test_data.drop(['Spa','FoodCourt','FoodCourt','ShoppingMall','VRDeck'],axis=1)"
   ]
  },
  {
   "cell_type": "code",
   "execution_count": 32,
   "id": "65869aeb",
   "metadata": {
    "execution": {
     "iopub.execute_input": "2022-04-11T06:21:13.417571Z",
     "iopub.status.busy": "2022-04-11T06:21:13.417063Z",
     "iopub.status.idle": "2022-04-11T06:21:13.433412Z",
     "shell.execute_reply": "2022-04-11T06:21:13.433976Z",
     "shell.execute_reply.started": "2022-04-11T06:19:08.504000Z"
    },
    "papermill": {
     "duration": 0.113208,
     "end_time": "2022-04-11T06:21:13.434146",
     "exception": false,
     "start_time": "2022-04-11T06:21:13.320938",
     "status": "completed"
    },
    "tags": []
   },
   "outputs": [
    {
     "name": "stdout",
     "output_type": "stream",
     "text": [
      "<class 'pandas.core.frame.DataFrame'>\n",
      "RangeIndex: 8693 entries, 0 to 8692\n",
      "Data columns (total 24 columns):\n",
      " #   Column         Non-Null Count  Dtype  \n",
      "---  ------         --------------  -----  \n",
      " 0   HomePlanet     8693 non-null   object \n",
      " 1   CryoSleep      8693 non-null   bool   \n",
      " 2   Destination    8693 non-null   object \n",
      " 3   Age            8693 non-null   float64\n",
      " 4   RoomService    8693 non-null   float64\n",
      " 5   Transported    8693 non-null   bool   \n",
      " 6   luxry_spend    8693 non-null   float64\n",
      " 7   normal_spend   8693 non-null   float64\n",
      " 8   No_spending    8693 non-null   int64  \n",
      " 9   Under_18       8693 non-null   int64  \n",
      " 10  18_to_25       8693 non-null   int64  \n",
      " 11  Over_25        8693 non-null   int64  \n",
      " 12  Group_size     8693 non-null   int64  \n",
      " 13  Solo           8693 non-null   int64  \n",
      " 14  Cabin_deck     8693 non-null   object \n",
      " 15  Cabin_side     8693 non-null   object \n",
      " 16  Cabin_region1  8693 non-null   int64  \n",
      " 17  Cabin_region2  8693 non-null   int64  \n",
      " 18  Cabin_region3  8693 non-null   int64  \n",
      " 19  Cabin_region4  8693 non-null   int64  \n",
      " 20  Cabin_region5  8693 non-null   int64  \n",
      " 21  Cabin_region6  8693 non-null   int64  \n",
      " 22  Cabin_region7  8693 non-null   int64  \n",
      " 23  Family_size    8693 non-null   int64  \n",
      "dtypes: bool(2), float64(4), int64(14), object(4)\n",
      "memory usage: 1.5+ MB\n",
      "None\n"
     ]
    }
   ],
   "source": [
    "print(train_data.info())"
   ]
  },
  {
   "cell_type": "code",
   "execution_count": 33,
   "id": "330cecfd",
   "metadata": {
    "execution": {
     "iopub.execute_input": "2022-04-11T06:21:13.701955Z",
     "iopub.status.busy": "2022-04-11T06:21:13.700965Z",
     "iopub.status.idle": "2022-04-11T06:21:13.716819Z",
     "shell.execute_reply": "2022-04-11T06:21:13.717368Z",
     "shell.execute_reply.started": "2022-04-11T06:19:08.528800Z"
    },
    "papermill": {
     "duration": 0.150994,
     "end_time": "2022-04-11T06:21:13.717570",
     "exception": false,
     "start_time": "2022-04-11T06:21:13.566576",
     "status": "completed"
    },
    "tags": []
   },
   "outputs": [
    {
     "name": "stdout",
     "output_type": "stream",
     "text": [
      "HomePlanet       0\n",
      "CryoSleep        0\n",
      "Destination      0\n",
      "Age              0\n",
      "RoomService      0\n",
      "Transported      0\n",
      "luxry_spend      0\n",
      "normal_spend     0\n",
      "No_spending      0\n",
      "Under_18         0\n",
      "18_to_25         0\n",
      "Over_25          0\n",
      "Group_size       0\n",
      "Solo             0\n",
      "Cabin_deck       0\n",
      "Cabin_side       0\n",
      "Cabin_region1    0\n",
      "Cabin_region2    0\n",
      "Cabin_region3    0\n",
      "Cabin_region4    0\n",
      "Cabin_region5    0\n",
      "Cabin_region6    0\n",
      "Cabin_region7    0\n",
      "Family_size      0\n",
      "dtype: int64\n",
      "HomePlanet       0\n",
      "CryoSleep        0\n",
      "Destination      0\n",
      "Age              0\n",
      "RoomService      0\n",
      "luxry_spend      0\n",
      "normal_spend     0\n",
      "No_spending      0\n",
      "Under_18         0\n",
      "18_to_25         0\n",
      "Over_25          0\n",
      "Group_size       0\n",
      "Solo             0\n",
      "Cabin_deck       0\n",
      "Cabin_side       0\n",
      "Cabin_region1    0\n",
      "Cabin_region2    0\n",
      "Cabin_region3    0\n",
      "Cabin_region4    0\n",
      "Cabin_region5    0\n",
      "Cabin_region6    0\n",
      "Cabin_region7    0\n",
      "Family_size      0\n",
      "dtype: int64\n"
     ]
    }
   ],
   "source": [
    "print(train_data.isnull().sum())\n",
    "print(test_data.isnull().sum())"
   ]
  },
  {
   "cell_type": "markdown",
   "id": "61227faa",
   "metadata": {
    "papermill": {
     "duration": 0.131784,
     "end_time": "2022-04-11T06:21:13.980983",
     "exception": false,
     "start_time": "2022-04-11T06:21:13.849199",
     "status": "completed"
    },
    "tags": []
   },
   "source": [
    "- 결측치 제거 완료"
   ]
  },
  {
   "cell_type": "code",
   "execution_count": 34,
   "id": "d023aac0",
   "metadata": {
    "execution": {
     "iopub.execute_input": "2022-04-11T06:21:14.248727Z",
     "iopub.status.busy": "2022-04-11T06:21:14.248085Z",
     "iopub.status.idle": "2022-04-11T06:21:14.254711Z",
     "shell.execute_reply": "2022-04-11T06:21:14.255243Z",
     "shell.execute_reply.started": "2022-04-11T06:19:08.548057Z"
    },
    "papermill": {
     "duration": 0.141699,
     "end_time": "2022-04-11T06:21:14.255412",
     "exception": false,
     "start_time": "2022-04-11T06:21:14.113713",
     "status": "completed"
    },
    "tags": []
   },
   "outputs": [],
   "source": [
    "# Sklearn\n",
    "from sklearn.model_selection import train_test_split, GridSearchCV, RandomizedSearchCV, StratifiedKFold\n",
    "from sklearn.metrics import accuracy_score, confusion_matrix, recall_score, precision_score, f1_score\n",
    "from sklearn.metrics import roc_auc_score, plot_confusion_matrix, plot_roc_curve, roc_curve\n",
    "from sklearn.preprocessing import StandardScaler, MinMaxScaler, OneHotEncoder, LabelEncoder\n",
    "from sklearn.feature_selection import mutual_info_classif\n",
    "from sklearn.decomposition import PCA\n",
    "from sklearn.compose import ColumnTransformer\n",
    "from sklearn.pipeline import Pipeline\n",
    "from sklearn.impute import SimpleImputer\n",
    "import eli5\n",
    "from eli5.sklearn import PermutationImportance\n",
    "from sklearn.utils import resample"
   ]
  },
  {
   "cell_type": "markdown",
   "id": "95bc5fd4",
   "metadata": {
    "papermill": {
     "duration": 0.130584,
     "end_time": "2022-04-11T06:21:14.518601",
     "exception": false,
     "start_time": "2022-04-11T06:21:14.388017",
     "status": "completed"
    },
    "tags": []
   },
   "source": [
    "Lables (정답) 생성"
   ]
  },
  {
   "cell_type": "code",
   "execution_count": 35,
   "id": "b238235e",
   "metadata": {
    "_kg_hide-output": true,
    "execution": {
     "iopub.execute_input": "2022-04-11T06:21:14.786433Z",
     "iopub.status.busy": "2022-04-11T06:21:14.785764Z",
     "iopub.status.idle": "2022-04-11T06:21:14.847991Z",
     "shell.execute_reply": "2022-04-11T06:21:14.847364Z",
     "shell.execute_reply.started": "2022-04-11T06:19:08.557575Z"
    },
    "papermill": {
     "duration": 0.196618,
     "end_time": "2022-04-11T06:21:14.848115",
     "exception": false,
     "start_time": "2022-04-11T06:21:14.651497",
     "status": "completed"
    },
    "tags": []
   },
   "outputs": [
    {
     "name": "stdout",
     "output_type": "stream",
     "text": [
      "(8693, 23)\n"
     ]
    },
    {
     "data": {
      "text/html": [
       "<div>\n",
       "<style scoped>\n",
       "    .dataframe tbody tr th:only-of-type {\n",
       "        vertical-align: middle;\n",
       "    }\n",
       "\n",
       "    .dataframe tbody tr th {\n",
       "        vertical-align: top;\n",
       "    }\n",
       "\n",
       "    .dataframe thead th {\n",
       "        text-align: right;\n",
       "    }\n",
       "</style>\n",
       "<table border=\"1\" class=\"dataframe\">\n",
       "  <thead>\n",
       "    <tr style=\"text-align: right;\">\n",
       "      <th></th>\n",
       "      <th>HomePlanet</th>\n",
       "      <th>CryoSleep</th>\n",
       "      <th>Destination</th>\n",
       "      <th>Age</th>\n",
       "      <th>RoomService</th>\n",
       "      <th>luxry_spend</th>\n",
       "      <th>normal_spend</th>\n",
       "      <th>No_spending</th>\n",
       "      <th>Under_18</th>\n",
       "      <th>18_to_25</th>\n",
       "      <th>...</th>\n",
       "      <th>Cabin_deck</th>\n",
       "      <th>Cabin_side</th>\n",
       "      <th>Cabin_region1</th>\n",
       "      <th>Cabin_region2</th>\n",
       "      <th>Cabin_region3</th>\n",
       "      <th>Cabin_region4</th>\n",
       "      <th>Cabin_region5</th>\n",
       "      <th>Cabin_region6</th>\n",
       "      <th>Cabin_region7</th>\n",
       "      <th>Family_size</th>\n",
       "    </tr>\n",
       "  </thead>\n",
       "  <tbody>\n",
       "    <tr>\n",
       "      <th>0</th>\n",
       "      <td>Earth</td>\n",
       "      <td>True</td>\n",
       "      <td>TRAPPIST-1e</td>\n",
       "      <td>27.0</td>\n",
       "      <td>0.0</td>\n",
       "      <td>0.0</td>\n",
       "      <td>0.0</td>\n",
       "      <td>1</td>\n",
       "      <td>0</td>\n",
       "      <td>0</td>\n",
       "      <td>...</td>\n",
       "      <td>G</td>\n",
       "      <td>S</td>\n",
       "      <td>1</td>\n",
       "      <td>0</td>\n",
       "      <td>0</td>\n",
       "      <td>0</td>\n",
       "      <td>0</td>\n",
       "      <td>0</td>\n",
       "      <td>0</td>\n",
       "      <td>4</td>\n",
       "    </tr>\n",
       "    <tr>\n",
       "      <th>1</th>\n",
       "      <td>Earth</td>\n",
       "      <td>False</td>\n",
       "      <td>TRAPPIST-1e</td>\n",
       "      <td>19.0</td>\n",
       "      <td>0.0</td>\n",
       "      <td>2823.0</td>\n",
       "      <td>9.0</td>\n",
       "      <td>0</td>\n",
       "      <td>0</td>\n",
       "      <td>1</td>\n",
       "      <td>...</td>\n",
       "      <td>F</td>\n",
       "      <td>S</td>\n",
       "      <td>1</td>\n",
       "      <td>0</td>\n",
       "      <td>0</td>\n",
       "      <td>0</td>\n",
       "      <td>0</td>\n",
       "      <td>0</td>\n",
       "      <td>0</td>\n",
       "      <td>1</td>\n",
       "    </tr>\n",
       "    <tr>\n",
       "      <th>2</th>\n",
       "      <td>Europa</td>\n",
       "      <td>True</td>\n",
       "      <td>55 Cancri e</td>\n",
       "      <td>31.0</td>\n",
       "      <td>0.0</td>\n",
       "      <td>0.0</td>\n",
       "      <td>0.0</td>\n",
       "      <td>1</td>\n",
       "      <td>0</td>\n",
       "      <td>0</td>\n",
       "      <td>...</td>\n",
       "      <td>C</td>\n",
       "      <td>S</td>\n",
       "      <td>1</td>\n",
       "      <td>0</td>\n",
       "      <td>0</td>\n",
       "      <td>0</td>\n",
       "      <td>0</td>\n",
       "      <td>0</td>\n",
       "      <td>0</td>\n",
       "      <td>1</td>\n",
       "    </tr>\n",
       "    <tr>\n",
       "      <th>3</th>\n",
       "      <td>Europa</td>\n",
       "      <td>False</td>\n",
       "      <td>TRAPPIST-1e</td>\n",
       "      <td>38.0</td>\n",
       "      <td>0.0</td>\n",
       "      <td>766.0</td>\n",
       "      <td>6652.0</td>\n",
       "      <td>0</td>\n",
       "      <td>0</td>\n",
       "      <td>0</td>\n",
       "      <td>...</td>\n",
       "      <td>C</td>\n",
       "      <td>S</td>\n",
       "      <td>1</td>\n",
       "      <td>0</td>\n",
       "      <td>0</td>\n",
       "      <td>0</td>\n",
       "      <td>0</td>\n",
       "      <td>0</td>\n",
       "      <td>0</td>\n",
       "      <td>1</td>\n",
       "    </tr>\n",
       "    <tr>\n",
       "      <th>4</th>\n",
       "      <td>Earth</td>\n",
       "      <td>False</td>\n",
       "      <td>TRAPPIST-1e</td>\n",
       "      <td>20.0</td>\n",
       "      <td>10.0</td>\n",
       "      <td>10.0</td>\n",
       "      <td>635.0</td>\n",
       "      <td>0</td>\n",
       "      <td>0</td>\n",
       "      <td>1</td>\n",
       "      <td>...</td>\n",
       "      <td>F</td>\n",
       "      <td>S</td>\n",
       "      <td>1</td>\n",
       "      <td>0</td>\n",
       "      <td>0</td>\n",
       "      <td>0</td>\n",
       "      <td>0</td>\n",
       "      <td>0</td>\n",
       "      <td>0</td>\n",
       "      <td>3</td>\n",
       "    </tr>\n",
       "    <tr>\n",
       "      <th>5</th>\n",
       "      <td>Earth</td>\n",
       "      <td>False</td>\n",
       "      <td>TRAPPIST-1e</td>\n",
       "      <td>31.0</td>\n",
       "      <td>0.0</td>\n",
       "      <td>173.0</td>\n",
       "      <td>1878.0</td>\n",
       "      <td>0</td>\n",
       "      <td>0</td>\n",
       "      <td>0</td>\n",
       "      <td>...</td>\n",
       "      <td>F</td>\n",
       "      <td>P</td>\n",
       "      <td>1</td>\n",
       "      <td>0</td>\n",
       "      <td>0</td>\n",
       "      <td>0</td>\n",
       "      <td>0</td>\n",
       "      <td>0</td>\n",
       "      <td>0</td>\n",
       "      <td>4</td>\n",
       "    </tr>\n",
       "    <tr>\n",
       "      <th>6</th>\n",
       "      <td>Europa</td>\n",
       "      <td>True</td>\n",
       "      <td>55 Cancri e</td>\n",
       "      <td>21.0</td>\n",
       "      <td>0.0</td>\n",
       "      <td>0.0</td>\n",
       "      <td>0.0</td>\n",
       "      <td>1</td>\n",
       "      <td>0</td>\n",
       "      <td>1</td>\n",
       "      <td>...</td>\n",
       "      <td>B</td>\n",
       "      <td>P</td>\n",
       "      <td>1</td>\n",
       "      <td>0</td>\n",
       "      <td>0</td>\n",
       "      <td>0</td>\n",
       "      <td>0</td>\n",
       "      <td>0</td>\n",
       "      <td>0</td>\n",
       "      <td>1</td>\n",
       "    </tr>\n",
       "    <tr>\n",
       "      <th>7</th>\n",
       "      <td>Europa</td>\n",
       "      <td>True</td>\n",
       "      <td>TRAPPIST-1e</td>\n",
       "      <td>20.0</td>\n",
       "      <td>0.0</td>\n",
       "      <td>0.0</td>\n",
       "      <td>0.0</td>\n",
       "      <td>1</td>\n",
       "      <td>0</td>\n",
       "      <td>1</td>\n",
       "      <td>...</td>\n",
       "      <td>D</td>\n",
       "      <td>S</td>\n",
       "      <td>1</td>\n",
       "      <td>0</td>\n",
       "      <td>0</td>\n",
       "      <td>0</td>\n",
       "      <td>0</td>\n",
       "      <td>0</td>\n",
       "      <td>0</td>\n",
       "      <td>2</td>\n",
       "    </tr>\n",
       "    <tr>\n",
       "      <th>8</th>\n",
       "      <td>Europa</td>\n",
       "      <td>True</td>\n",
       "      <td>55 Cancri e</td>\n",
       "      <td>23.0</td>\n",
       "      <td>0.0</td>\n",
       "      <td>0.0</td>\n",
       "      <td>0.0</td>\n",
       "      <td>1</td>\n",
       "      <td>0</td>\n",
       "      <td>1</td>\n",
       "      <td>...</td>\n",
       "      <td>D</td>\n",
       "      <td>S</td>\n",
       "      <td>1</td>\n",
       "      <td>0</td>\n",
       "      <td>0</td>\n",
       "      <td>0</td>\n",
       "      <td>0</td>\n",
       "      <td>0</td>\n",
       "      <td>0</td>\n",
       "      <td>2</td>\n",
       "    </tr>\n",
       "    <tr>\n",
       "      <th>9</th>\n",
       "      <td>Earth</td>\n",
       "      <td>False</td>\n",
       "      <td>55 Cancri e</td>\n",
       "      <td>24.0</td>\n",
       "      <td>0.0</td>\n",
       "      <td>0.0</td>\n",
       "      <td>639.0</td>\n",
       "      <td>0</td>\n",
       "      <td>0</td>\n",
       "      <td>1</td>\n",
       "      <td>...</td>\n",
       "      <td>F</td>\n",
       "      <td>S</td>\n",
       "      <td>1</td>\n",
       "      <td>0</td>\n",
       "      <td>0</td>\n",
       "      <td>0</td>\n",
       "      <td>0</td>\n",
       "      <td>0</td>\n",
       "      <td>0</td>\n",
       "      <td>2</td>\n",
       "    </tr>\n",
       "    <tr>\n",
       "      <th>10</th>\n",
       "      <td>Earth</td>\n",
       "      <td>False</td>\n",
       "      <td>TRAPPIST-1e</td>\n",
       "      <td>19.0</td>\n",
       "      <td>339.0</td>\n",
       "      <td>576.0</td>\n",
       "      <td>139.0</td>\n",
       "      <td>0</td>\n",
       "      <td>0</td>\n",
       "      <td>1</td>\n",
       "      <td>...</td>\n",
       "      <td>F</td>\n",
       "      <td>S</td>\n",
       "      <td>1</td>\n",
       "      <td>0</td>\n",
       "      <td>0</td>\n",
       "      <td>0</td>\n",
       "      <td>0</td>\n",
       "      <td>0</td>\n",
       "      <td>0</td>\n",
       "      <td>3</td>\n",
       "    </tr>\n",
       "    <tr>\n",
       "      <th>11</th>\n",
       "      <td>Europa</td>\n",
       "      <td>False</td>\n",
       "      <td>TRAPPIST-1e</td>\n",
       "      <td>45.0</td>\n",
       "      <td>932.0</td>\n",
       "      <td>1949.0</td>\n",
       "      <td>74.0</td>\n",
       "      <td>0</td>\n",
       "      <td>0</td>\n",
       "      <td>0</td>\n",
       "      <td>...</td>\n",
       "      <td>D</td>\n",
       "      <td>P</td>\n",
       "      <td>1</td>\n",
       "      <td>0</td>\n",
       "      <td>0</td>\n",
       "      <td>0</td>\n",
       "      <td>0</td>\n",
       "      <td>0</td>\n",
       "      <td>0</td>\n",
       "      <td>6</td>\n",
       "    </tr>\n",
       "    <tr>\n",
       "      <th>12</th>\n",
       "      <td>Europa</td>\n",
       "      <td>False</td>\n",
       "      <td>TRAPPIST-1e</td>\n",
       "      <td>44.0</td>\n",
       "      <td>0.0</td>\n",
       "      <td>238.0</td>\n",
       "      <td>1561.0</td>\n",
       "      <td>0</td>\n",
       "      <td>0</td>\n",
       "      <td>0</td>\n",
       "      <td>...</td>\n",
       "      <td>D</td>\n",
       "      <td>P</td>\n",
       "      <td>1</td>\n",
       "      <td>0</td>\n",
       "      <td>0</td>\n",
       "      <td>0</td>\n",
       "      <td>0</td>\n",
       "      <td>0</td>\n",
       "      <td>0</td>\n",
       "      <td>6</td>\n",
       "    </tr>\n",
       "    <tr>\n",
       "      <th>13</th>\n",
       "      <td>Mars</td>\n",
       "      <td>True</td>\n",
       "      <td>TRAPPIST-1e</td>\n",
       "      <td>46.0</td>\n",
       "      <td>0.0</td>\n",
       "      <td>0.0</td>\n",
       "      <td>0.0</td>\n",
       "      <td>1</td>\n",
       "      <td>0</td>\n",
       "      <td>0</td>\n",
       "      <td>...</td>\n",
       "      <td>E</td>\n",
       "      <td>P</td>\n",
       "      <td>1</td>\n",
       "      <td>0</td>\n",
       "      <td>0</td>\n",
       "      <td>0</td>\n",
       "      <td>0</td>\n",
       "      <td>0</td>\n",
       "      <td>0</td>\n",
       "      <td>1</td>\n",
       "    </tr>\n",
       "    <tr>\n",
       "      <th>14</th>\n",
       "      <td>Earth</td>\n",
       "      <td>False</td>\n",
       "      <td>TRAPPIST-1e</td>\n",
       "      <td>21.0</td>\n",
       "      <td>0.0</td>\n",
       "      <td>1779.0</td>\n",
       "      <td>0.0</td>\n",
       "      <td>0</td>\n",
       "      <td>0</td>\n",
       "      <td>1</td>\n",
       "      <td>...</td>\n",
       "      <td>G</td>\n",
       "      <td>P</td>\n",
       "      <td>1</td>\n",
       "      <td>0</td>\n",
       "      <td>0</td>\n",
       "      <td>0</td>\n",
       "      <td>0</td>\n",
       "      <td>0</td>\n",
       "      <td>0</td>\n",
       "      <td>4</td>\n",
       "    </tr>\n",
       "    <tr>\n",
       "      <th>15</th>\n",
       "      <td>Earth</td>\n",
       "      <td>False</td>\n",
       "      <td>TRAPPIST-1e</td>\n",
       "      <td>27.0</td>\n",
       "      <td>0.0</td>\n",
       "      <td>903.0</td>\n",
       "      <td>0.0</td>\n",
       "      <td>0</td>\n",
       "      <td>0</td>\n",
       "      <td>0</td>\n",
       "      <td>...</td>\n",
       "      <td>F</td>\n",
       "      <td>P</td>\n",
       "      <td>1</td>\n",
       "      <td>0</td>\n",
       "      <td>0</td>\n",
       "      <td>0</td>\n",
       "      <td>0</td>\n",
       "      <td>0</td>\n",
       "      <td>0</td>\n",
       "      <td>4</td>\n",
       "    </tr>\n",
       "    <tr>\n",
       "      <th>16</th>\n",
       "      <td>Earth</td>\n",
       "      <td>False</td>\n",
       "      <td>TRAPPIST-1e</td>\n",
       "      <td>20.0</td>\n",
       "      <td>2.0</td>\n",
       "      <td>1149.0</td>\n",
       "      <td>265.0</td>\n",
       "      <td>0</td>\n",
       "      <td>0</td>\n",
       "      <td>1</td>\n",
       "      <td>...</td>\n",
       "      <td>F</td>\n",
       "      <td>P</td>\n",
       "      <td>1</td>\n",
       "      <td>0</td>\n",
       "      <td>0</td>\n",
       "      <td>0</td>\n",
       "      <td>0</td>\n",
       "      <td>0</td>\n",
       "      <td>0</td>\n",
       "      <td>4</td>\n",
       "    </tr>\n",
       "    <tr>\n",
       "      <th>17</th>\n",
       "      <td>Europa</td>\n",
       "      <td>True</td>\n",
       "      <td>TRAPPIST-1e</td>\n",
       "      <td>44.0</td>\n",
       "      <td>0.0</td>\n",
       "      <td>0.0</td>\n",
       "      <td>0.0</td>\n",
       "      <td>1</td>\n",
       "      <td>0</td>\n",
       "      <td>0</td>\n",
       "      <td>...</td>\n",
       "      <td>B</td>\n",
       "      <td>S</td>\n",
       "      <td>1</td>\n",
       "      <td>0</td>\n",
       "      <td>0</td>\n",
       "      <td>0</td>\n",
       "      <td>0</td>\n",
       "      <td>0</td>\n",
       "      <td>0</td>\n",
       "      <td>3</td>\n",
       "    </tr>\n",
       "    <tr>\n",
       "      <th>18</th>\n",
       "      <td>Europa</td>\n",
       "      <td>False</td>\n",
       "      <td>TRAPPIST-1e</td>\n",
       "      <td>29.0</td>\n",
       "      <td>0.0</td>\n",
       "      <td>912.0</td>\n",
       "      <td>7951.0</td>\n",
       "      <td>0</td>\n",
       "      <td>0</td>\n",
       "      <td>0</td>\n",
       "      <td>...</td>\n",
       "      <td>Z</td>\n",
       "      <td>Z</td>\n",
       "      <td>0</td>\n",
       "      <td>0</td>\n",
       "      <td>0</td>\n",
       "      <td>0</td>\n",
       "      <td>0</td>\n",
       "      <td>0</td>\n",
       "      <td>1</td>\n",
       "      <td>3</td>\n",
       "    </tr>\n",
       "    <tr>\n",
       "      <th>19</th>\n",
       "      <td>Europa</td>\n",
       "      <td>False</td>\n",
       "      <td>TRAPPIST-1e</td>\n",
       "      <td>40.0</td>\n",
       "      <td>26.0</td>\n",
       "      <td>3233.0</td>\n",
       "      <td>1933.0</td>\n",
       "      <td>0</td>\n",
       "      <td>0</td>\n",
       "      <td>0</td>\n",
       "      <td>...</td>\n",
       "      <td>B</td>\n",
       "      <td>S</td>\n",
       "      <td>1</td>\n",
       "      <td>0</td>\n",
       "      <td>0</td>\n",
       "      <td>0</td>\n",
       "      <td>0</td>\n",
       "      <td>0</td>\n",
       "      <td>0</td>\n",
       "      <td>94</td>\n",
       "    </tr>\n",
       "    <tr>\n",
       "      <th>20</th>\n",
       "      <td>Earth</td>\n",
       "      <td>False</td>\n",
       "      <td>TRAPPIST-1e</td>\n",
       "      <td>30.0</td>\n",
       "      <td>0.0</td>\n",
       "      <td>3.0</td>\n",
       "      <td>904.0</td>\n",
       "      <td>0</td>\n",
       "      <td>0</td>\n",
       "      <td>0</td>\n",
       "      <td>...</td>\n",
       "      <td>G</td>\n",
       "      <td>S</td>\n",
       "      <td>1</td>\n",
       "      <td>0</td>\n",
       "      <td>0</td>\n",
       "      <td>0</td>\n",
       "      <td>0</td>\n",
       "      <td>0</td>\n",
       "      <td>0</td>\n",
       "      <td>2</td>\n",
       "    </tr>\n",
       "    <tr>\n",
       "      <th>21</th>\n",
       "      <td>Earth</td>\n",
       "      <td>False</td>\n",
       "      <td>TRAPPIST-1e</td>\n",
       "      <td>14.0</td>\n",
       "      <td>0.0</td>\n",
       "      <td>1609.0</td>\n",
       "      <td>0.0</td>\n",
       "      <td>0</td>\n",
       "      <td>1</td>\n",
       "      <td>0</td>\n",
       "      <td>...</td>\n",
       "      <td>E</td>\n",
       "      <td>P</td>\n",
       "      <td>1</td>\n",
       "      <td>0</td>\n",
       "      <td>0</td>\n",
       "      <td>0</td>\n",
       "      <td>0</td>\n",
       "      <td>0</td>\n",
       "      <td>0</td>\n",
       "      <td>4</td>\n",
       "    </tr>\n",
       "    <tr>\n",
       "      <th>22</th>\n",
       "      <td>Europa</td>\n",
       "      <td>True</td>\n",
       "      <td>55 Cancri e</td>\n",
       "      <td>31.0</td>\n",
       "      <td>0.0</td>\n",
       "      <td>0.0</td>\n",
       "      <td>0.0</td>\n",
       "      <td>1</td>\n",
       "      <td>0</td>\n",
       "      <td>0</td>\n",
       "      <td>...</td>\n",
       "      <td>B</td>\n",
       "      <td>P</td>\n",
       "      <td>1</td>\n",
       "      <td>0</td>\n",
       "      <td>0</td>\n",
       "      <td>0</td>\n",
       "      <td>0</td>\n",
       "      <td>0</td>\n",
       "      <td>0</td>\n",
       "      <td>4</td>\n",
       "    </tr>\n",
       "    <tr>\n",
       "      <th>23</th>\n",
       "      <td>Europa</td>\n",
       "      <td>False</td>\n",
       "      <td>55 Cancri e</td>\n",
       "      <td>27.0</td>\n",
       "      <td>0.0</td>\n",
       "      <td>1239.0</td>\n",
       "      <td>6977.0</td>\n",
       "      <td>0</td>\n",
       "      <td>0</td>\n",
       "      <td>0</td>\n",
       "      <td>...</td>\n",
       "      <td>B</td>\n",
       "      <td>P</td>\n",
       "      <td>1</td>\n",
       "      <td>0</td>\n",
       "      <td>0</td>\n",
       "      <td>0</td>\n",
       "      <td>0</td>\n",
       "      <td>0</td>\n",
       "      <td>0</td>\n",
       "      <td>4</td>\n",
       "    </tr>\n",
       "    <tr>\n",
       "      <th>24</th>\n",
       "      <td>Europa</td>\n",
       "      <td>False</td>\n",
       "      <td>55 Cancri e</td>\n",
       "      <td>66.0</td>\n",
       "      <td>39.0</td>\n",
       "      <td>1603.0</td>\n",
       "      <td>6452.0</td>\n",
       "      <td>0</td>\n",
       "      <td>0</td>\n",
       "      <td>0</td>\n",
       "      <td>...</td>\n",
       "      <td>B</td>\n",
       "      <td>P</td>\n",
       "      <td>1</td>\n",
       "      <td>0</td>\n",
       "      <td>0</td>\n",
       "      <td>0</td>\n",
       "      <td>0</td>\n",
       "      <td>0</td>\n",
       "      <td>0</td>\n",
       "      <td>4</td>\n",
       "    </tr>\n",
       "    <tr>\n",
       "      <th>25</th>\n",
       "      <td>Earth</td>\n",
       "      <td>False</td>\n",
       "      <td>TRAPPIST-1e</td>\n",
       "      <td>24.0</td>\n",
       "      <td>1784.0</td>\n",
       "      <td>1802.0</td>\n",
       "      <td>26.0</td>\n",
       "      <td>0</td>\n",
       "      <td>0</td>\n",
       "      <td>1</td>\n",
       "      <td>...</td>\n",
       "      <td>G</td>\n",
       "      <td>P</td>\n",
       "      <td>1</td>\n",
       "      <td>0</td>\n",
       "      <td>0</td>\n",
       "      <td>0</td>\n",
       "      <td>0</td>\n",
       "      <td>0</td>\n",
       "      <td>0</td>\n",
       "      <td>3</td>\n",
       "    </tr>\n",
       "    <tr>\n",
       "      <th>26</th>\n",
       "      <td>Europa</td>\n",
       "      <td>False</td>\n",
       "      <td>55 Cancri e</td>\n",
       "      <td>19.0</td>\n",
       "      <td>293.0</td>\n",
       "      <td>833.0</td>\n",
       "      <td>8768.0</td>\n",
       "      <td>0</td>\n",
       "      <td>0</td>\n",
       "      <td>1</td>\n",
       "      <td>...</td>\n",
       "      <td>C</td>\n",
       "      <td>P</td>\n",
       "      <td>1</td>\n",
       "      <td>0</td>\n",
       "      <td>0</td>\n",
       "      <td>0</td>\n",
       "      <td>0</td>\n",
       "      <td>0</td>\n",
       "      <td>0</td>\n",
       "      <td>1</td>\n",
       "    </tr>\n",
       "    <tr>\n",
       "      <th>27</th>\n",
       "      <td>Earth</td>\n",
       "      <td>True</td>\n",
       "      <td>TRAPPIST-1e</td>\n",
       "      <td>36.0</td>\n",
       "      <td>0.0</td>\n",
       "      <td>0.0</td>\n",
       "      <td>0.0</td>\n",
       "      <td>1</td>\n",
       "      <td>0</td>\n",
       "      <td>0</td>\n",
       "      <td>...</td>\n",
       "      <td>E</td>\n",
       "      <td>P</td>\n",
       "      <td>1</td>\n",
       "      <td>0</td>\n",
       "      <td>0</td>\n",
       "      <td>0</td>\n",
       "      <td>0</td>\n",
       "      <td>0</td>\n",
       "      <td>0</td>\n",
       "      <td>3</td>\n",
       "    </tr>\n",
       "    <tr>\n",
       "      <th>28</th>\n",
       "      <td>Earth</td>\n",
       "      <td>False</td>\n",
       "      <td>TRAPPIST-1e</td>\n",
       "      <td>21.0</td>\n",
       "      <td>0.0</td>\n",
       "      <td>3.0</td>\n",
       "      <td>631.0</td>\n",
       "      <td>0</td>\n",
       "      <td>0</td>\n",
       "      <td>1</td>\n",
       "      <td>...</td>\n",
       "      <td>F</td>\n",
       "      <td>P</td>\n",
       "      <td>1</td>\n",
       "      <td>0</td>\n",
       "      <td>0</td>\n",
       "      <td>0</td>\n",
       "      <td>0</td>\n",
       "      <td>0</td>\n",
       "      <td>0</td>\n",
       "      <td>1</td>\n",
       "    </tr>\n",
       "    <tr>\n",
       "      <th>29</th>\n",
       "      <td>Earth</td>\n",
       "      <td>True</td>\n",
       "      <td>55 Cancri e</td>\n",
       "      <td>18.0</td>\n",
       "      <td>0.0</td>\n",
       "      <td>0.0</td>\n",
       "      <td>0.0</td>\n",
       "      <td>1</td>\n",
       "      <td>0</td>\n",
       "      <td>1</td>\n",
       "      <td>...</td>\n",
       "      <td>G</td>\n",
       "      <td>S</td>\n",
       "      <td>1</td>\n",
       "      <td>0</td>\n",
       "      <td>0</td>\n",
       "      <td>0</td>\n",
       "      <td>0</td>\n",
       "      <td>0</td>\n",
       "      <td>0</td>\n",
       "      <td>8</td>\n",
       "    </tr>\n",
       "    <tr>\n",
       "      <th>30</th>\n",
       "      <td>Earth</td>\n",
       "      <td>True</td>\n",
       "      <td>TRAPPIST-1e</td>\n",
       "      <td>26.0</td>\n",
       "      <td>0.0</td>\n",
       "      <td>0.0</td>\n",
       "      <td>0.0</td>\n",
       "      <td>1</td>\n",
       "      <td>0</td>\n",
       "      <td>0</td>\n",
       "      <td>...</td>\n",
       "      <td>G</td>\n",
       "      <td>S</td>\n",
       "      <td>1</td>\n",
       "      <td>0</td>\n",
       "      <td>0</td>\n",
       "      <td>0</td>\n",
       "      <td>0</td>\n",
       "      <td>0</td>\n",
       "      <td>0</td>\n",
       "      <td>2</td>\n",
       "    </tr>\n",
       "    <tr>\n",
       "      <th>31</th>\n",
       "      <td>Earth</td>\n",
       "      <td>False</td>\n",
       "      <td>TRAPPIST-1e</td>\n",
       "      <td>19.0</td>\n",
       "      <td>598.0</td>\n",
       "      <td>598.0</td>\n",
       "      <td>30.0</td>\n",
       "      <td>0</td>\n",
       "      <td>0</td>\n",
       "      <td>1</td>\n",
       "      <td>...</td>\n",
       "      <td>G</td>\n",
       "      <td>S</td>\n",
       "      <td>1</td>\n",
       "      <td>0</td>\n",
       "      <td>0</td>\n",
       "      <td>0</td>\n",
       "      <td>0</td>\n",
       "      <td>0</td>\n",
       "      <td>0</td>\n",
       "      <td>2</td>\n",
       "    </tr>\n",
       "    <tr>\n",
       "      <th>32</th>\n",
       "      <td>Earth</td>\n",
       "      <td>True</td>\n",
       "      <td>TRAPPIST-1e</td>\n",
       "      <td>48.0</td>\n",
       "      <td>0.0</td>\n",
       "      <td>0.0</td>\n",
       "      <td>0.0</td>\n",
       "      <td>1</td>\n",
       "      <td>0</td>\n",
       "      <td>0</td>\n",
       "      <td>...</td>\n",
       "      <td>G</td>\n",
       "      <td>S</td>\n",
       "      <td>1</td>\n",
       "      <td>0</td>\n",
       "      <td>0</td>\n",
       "      <td>0</td>\n",
       "      <td>0</td>\n",
       "      <td>0</td>\n",
       "      <td>0</td>\n",
       "      <td>3</td>\n",
       "    </tr>\n",
       "    <tr>\n",
       "      <th>33</th>\n",
       "      <td>Earth</td>\n",
       "      <td>False</td>\n",
       "      <td>TRAPPIST-1e</td>\n",
       "      <td>23.0</td>\n",
       "      <td>14.0</td>\n",
       "      <td>37.0</td>\n",
       "      <td>870.0</td>\n",
       "      <td>0</td>\n",
       "      <td>0</td>\n",
       "      <td>1</td>\n",
       "      <td>...</td>\n",
       "      <td>G</td>\n",
       "      <td>P</td>\n",
       "      <td>1</td>\n",
       "      <td>0</td>\n",
       "      <td>0</td>\n",
       "      <td>0</td>\n",
       "      <td>0</td>\n",
       "      <td>0</td>\n",
       "      <td>0</td>\n",
       "      <td>2</td>\n",
       "    </tr>\n",
       "    <tr>\n",
       "      <th>34</th>\n",
       "      <td>Earth</td>\n",
       "      <td>False</td>\n",
       "      <td>TRAPPIST-1e</td>\n",
       "      <td>24.0</td>\n",
       "      <td>483.0</td>\n",
       "      <td>697.0</td>\n",
       "      <td>87.0</td>\n",
       "      <td>0</td>\n",
       "      <td>0</td>\n",
       "      <td>1</td>\n",
       "      <td>...</td>\n",
       "      <td>G</td>\n",
       "      <td>P</td>\n",
       "      <td>1</td>\n",
       "      <td>0</td>\n",
       "      <td>0</td>\n",
       "      <td>0</td>\n",
       "      <td>0</td>\n",
       "      <td>0</td>\n",
       "      <td>0</td>\n",
       "      <td>8</td>\n",
       "    </tr>\n",
       "    <tr>\n",
       "      <th>35</th>\n",
       "      <td>Earth</td>\n",
       "      <td>False</td>\n",
       "      <td>TRAPPIST-1e</td>\n",
       "      <td>19.0</td>\n",
       "      <td>0.0</td>\n",
       "      <td>632.0</td>\n",
       "      <td>155.0</td>\n",
       "      <td>0</td>\n",
       "      <td>0</td>\n",
       "      <td>1</td>\n",
       "      <td>...</td>\n",
       "      <td>E</td>\n",
       "      <td>P</td>\n",
       "      <td>1</td>\n",
       "      <td>0</td>\n",
       "      <td>0</td>\n",
       "      <td>0</td>\n",
       "      <td>0</td>\n",
       "      <td>0</td>\n",
       "      <td>0</td>\n",
       "      <td>6</td>\n",
       "    </tr>\n",
       "    <tr>\n",
       "      <th>36</th>\n",
       "      <td>Mars</td>\n",
       "      <td>True</td>\n",
       "      <td>TRAPPIST-1e</td>\n",
       "      <td>24.0</td>\n",
       "      <td>0.0</td>\n",
       "      <td>0.0</td>\n",
       "      <td>0.0</td>\n",
       "      <td>1</td>\n",
       "      <td>0</td>\n",
       "      <td>1</td>\n",
       "      <td>...</td>\n",
       "      <td>F</td>\n",
       "      <td>S</td>\n",
       "      <td>1</td>\n",
       "      <td>0</td>\n",
       "      <td>0</td>\n",
       "      <td>0</td>\n",
       "      <td>0</td>\n",
       "      <td>0</td>\n",
       "      <td>0</td>\n",
       "      <td>2</td>\n",
       "    </tr>\n",
       "    <tr>\n",
       "      <th>37</th>\n",
       "      <td>Earth</td>\n",
       "      <td>False</td>\n",
       "      <td>TRAPPIST-1e</td>\n",
       "      <td>27.0</td>\n",
       "      <td>66.0</td>\n",
       "      <td>81.0</td>\n",
       "      <td>1736.0</td>\n",
       "      <td>0</td>\n",
       "      <td>0</td>\n",
       "      <td>0</td>\n",
       "      <td>...</td>\n",
       "      <td>G</td>\n",
       "      <td>P</td>\n",
       "      <td>1</td>\n",
       "      <td>0</td>\n",
       "      <td>0</td>\n",
       "      <td>0</td>\n",
       "      <td>0</td>\n",
       "      <td>0</td>\n",
       "      <td>0</td>\n",
       "      <td>3</td>\n",
       "    </tr>\n",
       "    <tr>\n",
       "      <th>38</th>\n",
       "      <td>Earth</td>\n",
       "      <td>True</td>\n",
       "      <td>TRAPPIST-1e</td>\n",
       "      <td>6.0</td>\n",
       "      <td>0.0</td>\n",
       "      <td>0.0</td>\n",
       "      <td>0.0</td>\n",
       "      <td>1</td>\n",
       "      <td>1</td>\n",
       "      <td>0</td>\n",
       "      <td>...</td>\n",
       "      <td>G</td>\n",
       "      <td>S</td>\n",
       "      <td>1</td>\n",
       "      <td>0</td>\n",
       "      <td>0</td>\n",
       "      <td>0</td>\n",
       "      <td>0</td>\n",
       "      <td>0</td>\n",
       "      <td>0</td>\n",
       "      <td>3</td>\n",
       "    </tr>\n",
       "    <tr>\n",
       "      <th>39</th>\n",
       "      <td>Earth</td>\n",
       "      <td>False</td>\n",
       "      <td>TRAPPIST-1e</td>\n",
       "      <td>33.0</td>\n",
       "      <td>0.0</td>\n",
       "      <td>866.0</td>\n",
       "      <td>0.0</td>\n",
       "      <td>0</td>\n",
       "      <td>0</td>\n",
       "      <td>0</td>\n",
       "      <td>...</td>\n",
       "      <td>F</td>\n",
       "      <td>S</td>\n",
       "      <td>1</td>\n",
       "      <td>0</td>\n",
       "      <td>0</td>\n",
       "      <td>0</td>\n",
       "      <td>0</td>\n",
       "      <td>0</td>\n",
       "      <td>0</td>\n",
       "      <td>3</td>\n",
       "    </tr>\n",
       "  </tbody>\n",
       "</table>\n",
       "<p>40 rows × 23 columns</p>\n",
       "</div>"
      ],
      "text/plain": [
       "   HomePlanet  CryoSleep  Destination   Age  RoomService  luxry_spend  \\\n",
       "0       Earth       True  TRAPPIST-1e  27.0          0.0          0.0   \n",
       "1       Earth      False  TRAPPIST-1e  19.0          0.0       2823.0   \n",
       "2      Europa       True  55 Cancri e  31.0          0.0          0.0   \n",
       "3      Europa      False  TRAPPIST-1e  38.0          0.0        766.0   \n",
       "4       Earth      False  TRAPPIST-1e  20.0         10.0         10.0   \n",
       "5       Earth      False  TRAPPIST-1e  31.0          0.0        173.0   \n",
       "6      Europa       True  55 Cancri e  21.0          0.0          0.0   \n",
       "7      Europa       True  TRAPPIST-1e  20.0          0.0          0.0   \n",
       "8      Europa       True  55 Cancri e  23.0          0.0          0.0   \n",
       "9       Earth      False  55 Cancri e  24.0          0.0          0.0   \n",
       "10      Earth      False  TRAPPIST-1e  19.0        339.0        576.0   \n",
       "11     Europa      False  TRAPPIST-1e  45.0        932.0       1949.0   \n",
       "12     Europa      False  TRAPPIST-1e  44.0          0.0        238.0   \n",
       "13       Mars       True  TRAPPIST-1e  46.0          0.0          0.0   \n",
       "14      Earth      False  TRAPPIST-1e  21.0          0.0       1779.0   \n",
       "15      Earth      False  TRAPPIST-1e  27.0          0.0        903.0   \n",
       "16      Earth      False  TRAPPIST-1e  20.0          2.0       1149.0   \n",
       "17     Europa       True  TRAPPIST-1e  44.0          0.0          0.0   \n",
       "18     Europa      False  TRAPPIST-1e  29.0          0.0        912.0   \n",
       "19     Europa      False  TRAPPIST-1e  40.0         26.0       3233.0   \n",
       "20      Earth      False  TRAPPIST-1e  30.0          0.0          3.0   \n",
       "21      Earth      False  TRAPPIST-1e  14.0          0.0       1609.0   \n",
       "22     Europa       True  55 Cancri e  31.0          0.0          0.0   \n",
       "23     Europa      False  55 Cancri e  27.0          0.0       1239.0   \n",
       "24     Europa      False  55 Cancri e  66.0         39.0       1603.0   \n",
       "25      Earth      False  TRAPPIST-1e  24.0       1784.0       1802.0   \n",
       "26     Europa      False  55 Cancri e  19.0        293.0        833.0   \n",
       "27      Earth       True  TRAPPIST-1e  36.0          0.0          0.0   \n",
       "28      Earth      False  TRAPPIST-1e  21.0          0.0          3.0   \n",
       "29      Earth       True  55 Cancri e  18.0          0.0          0.0   \n",
       "30      Earth       True  TRAPPIST-1e  26.0          0.0          0.0   \n",
       "31      Earth      False  TRAPPIST-1e  19.0        598.0        598.0   \n",
       "32      Earth       True  TRAPPIST-1e  48.0          0.0          0.0   \n",
       "33      Earth      False  TRAPPIST-1e  23.0         14.0         37.0   \n",
       "34      Earth      False  TRAPPIST-1e  24.0        483.0        697.0   \n",
       "35      Earth      False  TRAPPIST-1e  19.0          0.0        632.0   \n",
       "36       Mars       True  TRAPPIST-1e  24.0          0.0          0.0   \n",
       "37      Earth      False  TRAPPIST-1e  27.0         66.0         81.0   \n",
       "38      Earth       True  TRAPPIST-1e   6.0          0.0          0.0   \n",
       "39      Earth      False  TRAPPIST-1e  33.0          0.0        866.0   \n",
       "\n",
       "    normal_spend  No_spending  Under_18  18_to_25  ...  Cabin_deck  \\\n",
       "0            0.0            1         0         0  ...           G   \n",
       "1            9.0            0         0         1  ...           F   \n",
       "2            0.0            1         0         0  ...           C   \n",
       "3         6652.0            0         0         0  ...           C   \n",
       "4          635.0            0         0         1  ...           F   \n",
       "5         1878.0            0         0         0  ...           F   \n",
       "6            0.0            1         0         1  ...           B   \n",
       "7            0.0            1         0         1  ...           D   \n",
       "8            0.0            1         0         1  ...           D   \n",
       "9          639.0            0         0         1  ...           F   \n",
       "10         139.0            0         0         1  ...           F   \n",
       "11          74.0            0         0         0  ...           D   \n",
       "12        1561.0            0         0         0  ...           D   \n",
       "13           0.0            1         0         0  ...           E   \n",
       "14           0.0            0         0         1  ...           G   \n",
       "15           0.0            0         0         0  ...           F   \n",
       "16         265.0            0         0         1  ...           F   \n",
       "17           0.0            1         0         0  ...           B   \n",
       "18        7951.0            0         0         0  ...           Z   \n",
       "19        1933.0            0         0         0  ...           B   \n",
       "20         904.0            0         0         0  ...           G   \n",
       "21           0.0            0         1         0  ...           E   \n",
       "22           0.0            1         0         0  ...           B   \n",
       "23        6977.0            0         0         0  ...           B   \n",
       "24        6452.0            0         0         0  ...           B   \n",
       "25          26.0            0         0         1  ...           G   \n",
       "26        8768.0            0         0         1  ...           C   \n",
       "27           0.0            1         0         0  ...           E   \n",
       "28         631.0            0         0         1  ...           F   \n",
       "29           0.0            1         0         1  ...           G   \n",
       "30           0.0            1         0         0  ...           G   \n",
       "31          30.0            0         0         1  ...           G   \n",
       "32           0.0            1         0         0  ...           G   \n",
       "33         870.0            0         0         1  ...           G   \n",
       "34          87.0            0         0         1  ...           G   \n",
       "35         155.0            0         0         1  ...           E   \n",
       "36           0.0            1         0         1  ...           F   \n",
       "37        1736.0            0         0         0  ...           G   \n",
       "38           0.0            1         1         0  ...           G   \n",
       "39           0.0            0         0         0  ...           F   \n",
       "\n",
       "    Cabin_side  Cabin_region1 Cabin_region2 Cabin_region3  Cabin_region4  \\\n",
       "0            S              1             0             0              0   \n",
       "1            S              1             0             0              0   \n",
       "2            S              1             0             0              0   \n",
       "3            S              1             0             0              0   \n",
       "4            S              1             0             0              0   \n",
       "5            P              1             0             0              0   \n",
       "6            P              1             0             0              0   \n",
       "7            S              1             0             0              0   \n",
       "8            S              1             0             0              0   \n",
       "9            S              1             0             0              0   \n",
       "10           S              1             0             0              0   \n",
       "11           P              1             0             0              0   \n",
       "12           P              1             0             0              0   \n",
       "13           P              1             0             0              0   \n",
       "14           P              1             0             0              0   \n",
       "15           P              1             0             0              0   \n",
       "16           P              1             0             0              0   \n",
       "17           S              1             0             0              0   \n",
       "18           Z              0             0             0              0   \n",
       "19           S              1             0             0              0   \n",
       "20           S              1             0             0              0   \n",
       "21           P              1             0             0              0   \n",
       "22           P              1             0             0              0   \n",
       "23           P              1             0             0              0   \n",
       "24           P              1             0             0              0   \n",
       "25           P              1             0             0              0   \n",
       "26           P              1             0             0              0   \n",
       "27           P              1             0             0              0   \n",
       "28           P              1             0             0              0   \n",
       "29           S              1             0             0              0   \n",
       "30           S              1             0             0              0   \n",
       "31           S              1             0             0              0   \n",
       "32           S              1             0             0              0   \n",
       "33           P              1             0             0              0   \n",
       "34           P              1             0             0              0   \n",
       "35           P              1             0             0              0   \n",
       "36           S              1             0             0              0   \n",
       "37           P              1             0             0              0   \n",
       "38           S              1             0             0              0   \n",
       "39           S              1             0             0              0   \n",
       "\n",
       "    Cabin_region5  Cabin_region6  Cabin_region7  Family_size  \n",
       "0               0              0              0            4  \n",
       "1               0              0              0            1  \n",
       "2               0              0              0            1  \n",
       "3               0              0              0            1  \n",
       "4               0              0              0            3  \n",
       "5               0              0              0            4  \n",
       "6               0              0              0            1  \n",
       "7               0              0              0            2  \n",
       "8               0              0              0            2  \n",
       "9               0              0              0            2  \n",
       "10              0              0              0            3  \n",
       "11              0              0              0            6  \n",
       "12              0              0              0            6  \n",
       "13              0              0              0            1  \n",
       "14              0              0              0            4  \n",
       "15              0              0              0            4  \n",
       "16              0              0              0            4  \n",
       "17              0              0              0            3  \n",
       "18              0              0              1            3  \n",
       "19              0              0              0           94  \n",
       "20              0              0              0            2  \n",
       "21              0              0              0            4  \n",
       "22              0              0              0            4  \n",
       "23              0              0              0            4  \n",
       "24              0              0              0            4  \n",
       "25              0              0              0            3  \n",
       "26              0              0              0            1  \n",
       "27              0              0              0            3  \n",
       "28              0              0              0            1  \n",
       "29              0              0              0            8  \n",
       "30              0              0              0            2  \n",
       "31              0              0              0            2  \n",
       "32              0              0              0            3  \n",
       "33              0              0              0            2  \n",
       "34              0              0              0            8  \n",
       "35              0              0              0            6  \n",
       "36              0              0              0            2  \n",
       "37              0              0              0            3  \n",
       "38              0              0              0            3  \n",
       "39              0              0              0            3  \n",
       "\n",
       "[40 rows x 23 columns]"
      ]
     },
     "execution_count": 35,
     "metadata": {},
     "output_type": "execute_result"
    }
   ],
   "source": [
    "y=train_data['Transported'].copy().astype(int) # label생성 이것 또한 인코딩이 된 것\n",
    "X=train_data.drop('Transported', axis=1).copy() # label 을 drop 시킨 데이터 생성\n",
    "X_test_data=test_data.copy() # X_test_data 에는  test_data 를 copy 해준다\n",
    "X_test_data.shape\n",
    "print(X.shape)\n",
    "X_test_data.head(40)\n",
    "\n",
    "\n"
   ]
  },
  {
   "cell_type": "markdown",
   "id": "ef5b0cbb",
   "metadata": {
    "papermill": {
     "duration": 0.133999,
     "end_time": "2022-04-11T06:21:15.116149",
     "exception": false,
     "start_time": "2022-04-11T06:21:14.982150",
     "status": "completed"
    },
    "tags": []
   },
   "source": [
    "### 범주형 변수 인코딩과 스케일링\n"
   ]
  },
  {
   "cell_type": "markdown",
   "id": "6e7035d6",
   "metadata": {
    "papermill": {
     "duration": 0.135086,
     "end_time": "2022-04-11T06:21:15.384471",
     "exception": false,
     "start_time": "2022-04-11T06:21:15.249385",
     "status": "completed"
    },
    "tags": []
   },
   "source": []
  },
  {
   "cell_type": "code",
   "execution_count": 36,
   "id": "309d51a3",
   "metadata": {
    "_kg_hide-input": false,
    "_kg_hide-output": true,
    "execution": {
     "iopub.execute_input": "2022-04-11T06:21:15.673489Z",
     "iopub.status.busy": "2022-04-11T06:21:15.672823Z",
     "iopub.status.idle": "2022-04-11T06:21:15.698567Z",
     "shell.execute_reply": "2022-04-11T06:21:15.697848Z",
     "shell.execute_reply.started": "2022-04-11T06:19:08.623513Z"
    },
    "papermill": {
     "duration": 0.179025,
     "end_time": "2022-04-11T06:21:15.698709",
     "exception": false,
     "start_time": "2022-04-11T06:21:15.519684",
     "status": "completed"
    },
    "tags": []
   },
   "outputs": [
    {
     "name": "stdout",
     "output_type": "stream",
     "text": [
      "(8693, 19)\n"
     ]
    }
   ],
   "source": [
    "cat_col=['HomePlanet','CryoSleep','Destination','Cabin_deck','Cabin_side']\n",
    "pre=train_data[cat_col]\n",
    "\n",
    "pre_enc=pd.get_dummies(pre)\n",
    "\n",
    "pre_enc['CryoSleep']=pre_enc['CryoSleep'].map({True:1,False:0})\n",
    "\n",
    "print(pre_enc.shape)"
   ]
  },
  {
   "cell_type": "code",
   "execution_count": 37,
   "id": "e8c25852",
   "metadata": {
    "execution": {
     "iopub.execute_input": "2022-04-11T06:21:15.973920Z",
     "iopub.status.busy": "2022-04-11T06:21:15.973303Z",
     "iopub.status.idle": "2022-04-11T06:21:15.990732Z",
     "shell.execute_reply": "2022-04-11T06:21:15.991360Z",
     "shell.execute_reply.started": "2022-04-11T06:19:08.645223Z"
    },
    "papermill": {
     "duration": 0.156199,
     "end_time": "2022-04-11T06:21:15.991595",
     "exception": false,
     "start_time": "2022-04-11T06:21:15.835396",
     "status": "completed"
    },
    "tags": []
   },
   "outputs": [
    {
     "name": "stdout",
     "output_type": "stream",
     "text": [
      "(4277, 19)\n"
     ]
    }
   ],
   "source": [
    "\n",
    "cat_col=['HomePlanet','CryoSleep','Destination','Cabin_deck','Cabin_side']\n",
    "pre1=test_data[cat_col]\n",
    "\n",
    "pre_enc1=pd.get_dummies(pre1)\n",
    "\n",
    "pre_enc1['CryoSleep']=pre_enc1['CryoSleep'].map({True:1,False:0})\n",
    "\n",
    "print(pre_enc1.shape)\n",
    "\n",
    "\n"
   ]
  },
  {
   "cell_type": "code",
   "execution_count": 38,
   "id": "9b7e2e23",
   "metadata": {
    "execution": {
     "iopub.execute_input": "2022-04-11T06:21:16.265337Z",
     "iopub.status.busy": "2022-04-11T06:21:16.264673Z",
     "iopub.status.idle": "2022-04-11T06:21:16.284289Z",
     "shell.execute_reply": "2022-04-11T06:21:16.285098Z",
     "shell.execute_reply.started": "2022-04-11T06:19:08.667188Z"
    },
    "papermill": {
     "duration": 0.158535,
     "end_time": "2022-04-11T06:21:16.285302",
     "exception": false,
     "start_time": "2022-04-11T06:21:16.126767",
     "status": "completed"
    },
    "tags": []
   },
   "outputs": [
    {
     "name": "stdout",
     "output_type": "stream",
     "text": [
      "(8693, 23)\n",
      "(4277, 23)\n",
      "<class 'pandas.core.frame.DataFrame'>\n",
      "RangeIndex: 8693 entries, 0 to 8692\n",
      "Data columns (total 23 columns):\n",
      " #   Column         Non-Null Count  Dtype  \n",
      "---  ------         --------------  -----  \n",
      " 0   HomePlanet     8693 non-null   object \n",
      " 1   CryoSleep      8693 non-null   bool   \n",
      " 2   Destination    8693 non-null   object \n",
      " 3   Age            8693 non-null   float64\n",
      " 4   RoomService    8693 non-null   float64\n",
      " 5   luxry_spend    8693 non-null   float64\n",
      " 6   normal_spend   8693 non-null   float64\n",
      " 7   No_spending    8693 non-null   int64  \n",
      " 8   Under_18       8693 non-null   int64  \n",
      " 9   18_to_25       8693 non-null   int64  \n",
      " 10  Over_25        8693 non-null   int64  \n",
      " 11  Group_size     8693 non-null   int64  \n",
      " 12  Solo           8693 non-null   int64  \n",
      " 13  Cabin_deck     8693 non-null   object \n",
      " 14  Cabin_side     8693 non-null   object \n",
      " 15  Cabin_region1  8693 non-null   int64  \n",
      " 16  Cabin_region2  8693 non-null   int64  \n",
      " 17  Cabin_region3  8693 non-null   int64  \n",
      " 18  Cabin_region4  8693 non-null   int64  \n",
      " 19  Cabin_region5  8693 non-null   int64  \n",
      " 20  Cabin_region6  8693 non-null   int64  \n",
      " 21  Cabin_region7  8693 non-null   int64  \n",
      " 22  Family_size    8693 non-null   int64  \n",
      "dtypes: bool(1), float64(4), int64(14), object(4)\n",
      "memory usage: 1.5+ MB\n"
     ]
    }
   ],
   "source": [
    "print(X.shape)\n",
    "print(X_test_data.shape)\n",
    "X.info()\n",
    "X=X.drop(['HomePlanet','CryoSleep','Destination','Cabin_deck','Cabin_side'],axis=1)\n",
    "X_test_data=X_test_data.drop(['HomePlanet','CryoSleep','Destination','Cabin_deck','Cabin_side'],axis=1)\n"
   ]
  },
  {
   "cell_type": "code",
   "execution_count": 39,
   "id": "18da1829",
   "metadata": {
    "execution": {
     "iopub.execute_input": "2022-04-11T06:21:16.564884Z",
     "iopub.status.busy": "2022-04-11T06:21:16.564170Z",
     "iopub.status.idle": "2022-04-11T06:21:16.572831Z",
     "shell.execute_reply": "2022-04-11T06:21:16.572234Z",
     "shell.execute_reply.started": "2022-04-11T06:19:08.691198Z"
    },
    "papermill": {
     "duration": 0.149415,
     "end_time": "2022-04-11T06:21:16.572964",
     "exception": false,
     "start_time": "2022-04-11T06:21:16.423549",
     "status": "completed"
    },
    "tags": []
   },
   "outputs": [
    {
     "name": "stdout",
     "output_type": "stream",
     "text": [
      "(8693, 18)\n",
      "(4277, 18)\n",
      "(8693, 19)\n",
      "(4277, 19)\n"
     ]
    }
   ],
   "source": [
    "print(X.shape)\n",
    "print(X_test_data.shape)\n",
    "print(pre_enc.shape)\n",
    "print(pre_enc1.shape)\n",
    "X=pd.concat([X,pre_enc],axis=1)\n",
    "X_test_data=pd.concat([X_test_data,pre_enc1],axis=1)"
   ]
  },
  {
   "cell_type": "code",
   "execution_count": 40,
   "id": "b3f6260c",
   "metadata": {
    "execution": {
     "iopub.execute_input": "2022-04-11T06:21:16.769198Z",
     "iopub.status.busy": "2022-04-11T06:21:16.768704Z",
     "iopub.status.idle": "2022-04-11T06:21:16.771288Z",
     "shell.execute_reply": "2022-04-11T06:21:16.771789Z",
     "shell.execute_reply.started": "2022-04-11T06:19:08.702086Z"
    },
    "papermill": {
     "duration": 0.101589,
     "end_time": "2022-04-11T06:21:16.771972",
     "exception": false,
     "start_time": "2022-04-11T06:21:16.670383",
     "status": "completed"
    },
    "tags": []
   },
   "outputs": [
    {
     "name": "stdout",
     "output_type": "stream",
     "text": [
      "(8693, 37)\n",
      "(4277, 37)\n"
     ]
    }
   ],
   "source": [
    "print(X.shape)\n",
    "print(X_test_data.shape)\n"
   ]
  },
  {
   "cell_type": "code",
   "execution_count": null,
   "id": "11116235",
   "metadata": {
    "papermill": {
     "duration": 0.135775,
     "end_time": "2022-04-11T06:21:17.005444",
     "exception": false,
     "start_time": "2022-04-11T06:21:16.869669",
     "status": "completed"
    },
    "tags": []
   },
   "outputs": [],
   "source": []
  },
  {
   "cell_type": "markdown",
   "id": "694c343c",
   "metadata": {
    "papermill": {
     "duration": 0.137745,
     "end_time": "2022-04-11T06:21:17.281792",
     "exception": false,
     "start_time": "2022-04-11T06:21:17.144047",
     "status": "completed"
    },
    "tags": []
   },
   "source": [
    "# Step 4. 머신러닝 모형 개발\n",
    "- 모형에 대한 설명 필요\n",
    "- 모형을 1-2개 사용\n",
    "- 교차 검증\n",
    "- 하이퍼파라미터 튜닝"
   ]
  },
  {
   "cell_type": "markdown",
   "id": "50dae7dc",
   "metadata": {
    "papermill": {
     "duration": 0.136156,
     "end_time": "2022-04-11T06:21:17.557849",
     "exception": false,
     "start_time": "2022-04-11T06:21:17.421693",
     "status": "completed"
    },
    "tags": []
   },
   "source": [
    "### 검증데이터를 만들어 준다. "
   ]
  },
  {
   "cell_type": "code",
   "execution_count": 41,
   "id": "33a905ae",
   "metadata": {
    "execution": {
     "iopub.execute_input": "2022-04-11T06:21:17.836615Z",
     "iopub.status.busy": "2022-04-11T06:21:17.835894Z",
     "iopub.status.idle": "2022-04-11T06:21:17.850551Z",
     "shell.execute_reply": "2022-04-11T06:21:17.849899Z",
     "shell.execute_reply.started": "2022-04-11T06:19:08.709952Z"
    },
    "papermill": {
     "duration": 0.155406,
     "end_time": "2022-04-11T06:21:17.850682",
     "exception": false,
     "start_time": "2022-04-11T06:21:17.695276",
     "status": "completed"
    },
    "tags": []
   },
   "outputs": [
    {
     "data": {
      "text/plain": [
       "((6085, 37), (2608, 37), (6085,), (2608,))"
      ]
     },
     "execution_count": 41,
     "metadata": {},
     "output_type": "execute_result"
    }
   ],
   "source": [
    "from sklearn.model_selection import train_test_split\n",
    "X_train, X_val, y_train, y_val = train_test_split(X, y, test_size=0.3, random_state=42)\n",
    "X_train.shape, X_val.shape, y_train.shape, y_val.shape"
   ]
  },
  {
   "cell_type": "markdown",
   "id": "8b68cdeb",
   "metadata": {
    "papermill": {
     "duration": 0.139291,
     "end_time": "2022-04-11T06:21:18.128398",
     "exception": false,
     "start_time": "2022-04-11T06:21:17.989107",
     "status": "completed"
    },
    "tags": []
   },
   "source": [
    "- 이번에는 LightGBM 클래스를 부른 후 모형을 학습한다. "
   ]
  },
  {
   "cell_type": "markdown",
   "id": "90876acf",
   "metadata": {
    "papermill": {
     "duration": 0.13647,
     "end_time": "2022-04-11T06:21:18.403186",
     "exception": false,
     "start_time": "2022-04-11T06:21:18.266716",
     "status": "completed"
    },
    "tags": []
   },
   "source": [
    "# 하이퍼파라미터 튜닝\n",
    "- 랜덤서치 (매개변수, max_depth) / 0.796\n",
    "- 그리드서치 / 0.791"
   ]
  },
  {
   "cell_type": "code",
   "execution_count": 42,
   "id": "d1e01323",
   "metadata": {
    "execution": {
     "iopub.execute_input": "2022-04-11T06:21:18.683350Z",
     "iopub.status.busy": "2022-04-11T06:21:18.682496Z",
     "iopub.status.idle": "2022-04-11T06:21:18.690199Z",
     "shell.execute_reply": "2022-04-11T06:21:18.690739Z",
     "shell.execute_reply.started": "2022-04-11T06:19:08.730891Z"
    },
    "papermill": {
     "duration": 0.150353,
     "end_time": "2022-04-11T06:21:18.690932",
     "exception": false,
     "start_time": "2022-04-11T06:21:18.540579",
     "status": "completed"
    },
    "tags": []
   },
   "outputs": [
    {
     "data": {
      "text/plain": [
       "LGBMClassifier(max_depth=4, n_estimators=150, random_state=42)"
      ]
     },
     "execution_count": 42,
     "metadata": {},
     "output_type": "execute_result"
    }
   ],
   "source": [
    "from lightgbm import LGBMClassifier\n",
    "\n",
    "\n",
    "lgb = LGBMClassifier(random_state=42,n_estimators=150,max_depth=4,)\n",
    "lgb"
   ]
  },
  {
   "cell_type": "markdown",
   "id": "e3a14b25",
   "metadata": {
    "papermill": {
     "duration": 0.136732,
     "end_time": "2022-04-11T06:21:18.966070",
     "exception": false,
     "start_time": "2022-04-11T06:21:18.829338",
     "status": "completed"
    },
    "tags": []
   },
   "source": [
    "# Step 5. 모형 평가\n",
    "- 훈련데이터 쪼갠다. 훈련데이터 + 검증데이터 분리\n",
    "- 정확도 비교\n",
    "- 혼동행렬 (Confusion Matrix) 설명"
   ]
  },
  {
   "cell_type": "markdown",
   "id": "88f89b81",
   "metadata": {
    "papermill": {
     "duration": 0.137929,
     "end_time": "2022-04-11T06:21:19.241596",
     "exception": false,
     "start_time": "2022-04-11T06:21:19.103667",
     "status": "completed"
    },
    "tags": []
   },
   "source": [
    "- 먼저 cross_validate() 활용한다. "
   ]
  },
  {
   "cell_type": "code",
   "execution_count": 43,
   "id": "bea36d28",
   "metadata": {
    "execution": {
     "iopub.execute_input": "2022-04-11T06:21:19.525681Z",
     "iopub.status.busy": "2022-04-11T06:21:19.525032Z",
     "iopub.status.idle": "2022-04-11T06:21:20.308240Z",
     "shell.execute_reply": "2022-04-11T06:21:20.309111Z",
     "shell.execute_reply.started": "2022-04-11T06:19:08.743710Z"
    },
    "papermill": {
     "duration": 0.927723,
     "end_time": "2022-04-11T06:21:20.309294",
     "exception": false,
     "start_time": "2022-04-11T06:21:19.381571",
     "status": "completed"
    },
    "tags": []
   },
   "outputs": [
    {
     "name": "stdout",
     "output_type": "stream",
     "text": [
      "train Acc. 0.8624897288414133\n",
      "test Acc. 0.8131470829909613\n"
     ]
    }
   ],
   "source": [
    "\n",
    "from sklearn.model_selection import StratifiedKFold\n",
    "from sklearn.model_selection import cross_validate\n",
    "\n",
    "splitter = StratifiedKFold(n_splits = 5, shuffle = True, random_state=42)\n",
    "scores = cross_validate(lgb, X_train, y_train, return_train_score = True, cv=splitter)\n",
    "\n",
    "print(\"train Acc.\", np.mean(scores['train_score']))\n",
    "print(\"test Acc.\", np.mean(scores['test_score']))"
   ]
  },
  {
   "cell_type": "markdown",
   "id": "7bf23422",
   "metadata": {
    "papermill": {
     "duration": 0.138941,
     "end_time": "2022-04-11T06:21:20.590144",
     "exception": false,
     "start_time": "2022-04-11T06:21:20.451203",
     "status": "completed"
    },
    "tags": []
   },
   "source": [
    "- 이번에는 검증 데이터를 활용하여 정확도를 예상해본다. "
   ]
  },
  {
   "cell_type": "code",
   "execution_count": 44,
   "id": "91310cdd",
   "metadata": {
    "execution": {
     "iopub.execute_input": "2022-04-11T06:21:20.868661Z",
     "iopub.status.busy": "2022-04-11T06:21:20.868030Z",
     "iopub.status.idle": "2022-04-11T06:21:21.019184Z",
     "shell.execute_reply": "2022-04-11T06:21:21.019781Z",
     "shell.execute_reply.started": "2022-04-11T06:19:09.407394Z"
    },
    "papermill": {
     "duration": 0.291661,
     "end_time": "2022-04-11T06:21:21.019953",
     "exception": false,
     "start_time": "2022-04-11T06:21:20.728292",
     "status": "completed"
    },
    "tags": []
   },
   "outputs": [
    {
     "name": "stdout",
     "output_type": "stream",
     "text": [
      "Acc. 0.7979294478527608\n"
     ]
    }
   ],
   "source": [
    "\n",
    "from sklearn.metrics import accuracy_score\n",
    "\n",
    "lgb.fit(X_train, y_train)\n",
    "y_pred = lgb.predict(X_val)\n",
    "print(\"Acc.\", accuracy_score(y_val, y_pred))\n",
    "\n",
    "## confusion matrix\n",
    "\n",
    "\n",
    "\n"
   ]
  },
  {
   "cell_type": "markdown",
   "id": "dda3d40f",
   "metadata": {
    "papermill": {
     "duration": 0.138668,
     "end_time": "2022-04-11T06:21:21.300102",
     "exception": false,
     "start_time": "2022-04-11T06:21:21.161434",
     "status": "completed"
    },
    "tags": []
   },
   "source": [
    "# Step 6. 제출\n",
    "- 제출 양식은 샘플 만들어드림"
   ]
  },
  {
   "cell_type": "code",
   "execution_count": 45,
   "id": "d99bb5b3",
   "metadata": {
    "execution": {
     "iopub.execute_input": "2022-04-11T06:21:21.588876Z",
     "iopub.status.busy": "2022-04-11T06:21:21.588083Z",
     "iopub.status.idle": "2022-04-11T06:21:21.617353Z",
     "shell.execute_reply": "2022-04-11T06:21:21.616744Z",
     "shell.execute_reply.started": "2022-04-11T06:19:09.534981Z"
    },
    "papermill": {
     "duration": 0.175109,
     "end_time": "2022-04-11T06:21:21.617522",
     "exception": false,
     "start_time": "2022-04-11T06:21:21.442413",
     "status": "completed"
    },
    "tags": []
   },
   "outputs": [
    {
     "name": "stdout",
     "output_type": "stream",
     "text": [
      "(4277,)\n",
      "(2608, 37)\n",
      "(4277, 37)\n"
     ]
    }
   ],
   "source": [
    "test_preds = lgb.predict(X_test_data.to_numpy())\n",
    "sample_submission['Transported'] = test_preds.astype(\"bool\")\n",
    "sample_submission.to_csv(\"submission.csv\",index=False)\n",
    "sample_submission.head()\n",
    "\n",
    "print(test_preds.shape)\n",
    "print(X_val.shape)\n",
    "print(X_test_data.shape)\n",
    "\n"
   ]
  },
  {
   "cell_type": "markdown",
   "id": "ee3a0bfe",
   "metadata": {
    "papermill": {
     "duration": 0.138094,
     "end_time": "2022-04-11T06:21:21.895673",
     "exception": false,
     "start_time": "2022-04-11T06:21:21.757579",
     "status": "completed"
    },
    "tags": []
   },
   "source": [
    "# 혼동행렬"
   ]
  },
  {
   "cell_type": "code",
   "execution_count": 46,
   "id": "a62b3632",
   "metadata": {
    "execution": {
     "iopub.execute_input": "2022-04-11T06:21:22.177957Z",
     "iopub.status.busy": "2022-04-11T06:21:22.177213Z",
     "iopub.status.idle": "2022-04-11T06:21:22.344642Z",
     "shell.execute_reply": "2022-04-11T06:21:22.343960Z",
     "shell.execute_reply.started": "2022-04-11T06:19:09.572202Z"
    },
    "papermill": {
     "duration": 0.310209,
     "end_time": "2022-04-11T06:21:22.344795",
     "exception": false,
     "start_time": "2022-04-11T06:21:22.034586",
     "status": "completed"
    },
    "tags": []
   },
   "outputs": [
    {
     "name": "stdout",
     "output_type": "stream",
     "text": [
      "[[1007  282]\n",
      " [ 245 1074]]\n"
     ]
    },
    {
     "data": {
      "image/png": "[encoded data removed]",
      "text/plain": [
       "<Figure size 432x288 with 2 Axes>"
      ]
     },
     "metadata": {},
     "output_type": "display_data"
    }
   ],
   "source": [
    "import sklearn.metrics as metrics\n",
    "\n",
    "cm=metrics.confusion_matrix(y_val,y_pred)\n",
    "print(cm)\n",
    "\n",
    "\n",
    "sns.heatmap(cm, annot=True, cmap='Blues',\n",
    "           xticklabels=['postive', 'negative'],       # 예측\n",
    "           yticklabels=['True', 'False'])               # 실제\n",
    "plt.show()\n",
    "\n",
    "\n"
   ]
  },
  {
   "cell_type": "markdown",
   "id": "47c899ae",
   "metadata": {
    "papermill": {
     "duration": 0.141612,
     "end_time": "2022-04-11T06:21:22.628159",
     "exception": false,
     "start_time": "2022-04-11T06:21:22.486547",
     "status": "completed"
    },
    "tags": []
   },
   "source": [
    "# 정밀도\n",
    "- 'True' 으로 예측했을때 실제도 'True' 인 비율"
   ]
  },
  {
   "cell_type": "code",
   "execution_count": 47,
   "id": "07704b56",
   "metadata": {
    "execution": {
     "iopub.execute_input": "2022-04-11T06:21:22.918643Z",
     "iopub.status.busy": "2022-04-11T06:21:22.917985Z",
     "iopub.status.idle": "2022-04-11T06:21:22.925807Z",
     "shell.execute_reply": "2022-04-11T06:21:22.926223Z",
     "shell.execute_reply.started": "2022-04-11T06:19:09.796776Z"
    },
    "papermill": {
     "duration": 0.157479,
     "end_time": "2022-04-11T06:21:22.926383",
     "exception": false,
     "start_time": "2022-04-11T06:21:22.768904",
     "status": "completed"
    },
    "tags": []
   },
   "outputs": [
    {
     "data": {
      "text/plain": [
       "0.7920353982300885"
      ]
     },
     "execution_count": 47,
     "metadata": {},
     "output_type": "execute_result"
    }
   ],
   "source": [
    "# 72/(72+1)\n",
    "p = metrics.precision_score(y_val, y_pred)\n",
    "p\n",
    "\n",
    "\n"
   ]
  },
  {
   "cell_type": "markdown",
   "id": "d0530420",
   "metadata": {
    "papermill": {
     "duration": 0.141252,
     "end_time": "2022-04-11T06:21:23.203214",
     "exception": false,
     "start_time": "2022-04-11T06:21:23.061962",
     "status": "completed"
    },
    "tags": []
   },
   "source": [
    "# 재현율\n",
    "- 실제로 True 를 True 로 예측한 비율"
   ]
  },
  {
   "cell_type": "code",
   "execution_count": 48,
   "id": "964dd8d0",
   "metadata": {
    "execution": {
     "iopub.execute_input": "2022-04-11T06:21:23.490960Z",
     "iopub.status.busy": "2022-04-11T06:21:23.489522Z",
     "iopub.status.idle": "2022-04-11T06:21:23.496985Z",
     "shell.execute_reply": "2022-04-11T06:21:23.497587Z",
     "shell.execute_reply.started": "2022-04-11T06:19:09.808266Z"
    },
    "papermill": {
     "duration": 0.15241,
     "end_time": "2022-04-11T06:21:23.497767",
     "exception": false,
     "start_time": "2022-04-11T06:21:23.345357",
     "status": "completed"
    },
    "tags": []
   },
   "outputs": [
    {
     "data": {
      "text/plain": [
       "0.8142532221379833"
      ]
     },
     "execution_count": 48,
     "metadata": {},
     "output_type": "execute_result"
    }
   ],
   "source": [
    "r = metrics.recall_score(y_val, y_pred)\n",
    "r\n"
   ]
  },
  {
   "cell_type": "markdown",
   "id": "d3845be6",
   "metadata": {
    "papermill": {
     "duration": 0.141237,
     "end_time": "2022-04-11T06:21:23.781112",
     "exception": false,
     "start_time": "2022-04-11T06:21:23.639875",
     "status": "completed"
    },
    "tags": []
   },
   "source": [
    "# F1 score \n",
    "- 정밀도와 재현율의 조화평균"
   ]
  },
  {
   "cell_type": "code",
   "execution_count": 49,
   "id": "afd70f43",
   "metadata": {
    "execution": {
     "iopub.execute_input": "2022-04-11T06:21:24.068110Z",
     "iopub.status.busy": "2022-04-11T06:21:24.067496Z",
     "iopub.status.idle": "2022-04-11T06:21:24.074741Z",
     "shell.execute_reply": "2022-04-11T06:21:24.075227Z",
     "shell.execute_reply.started": "2022-04-11T06:19:09.819323Z"
    },
    "papermill": {
     "duration": 0.152297,
     "end_time": "2022-04-11T06:21:24.075400",
     "exception": false,
     "start_time": "2022-04-11T06:21:23.923103",
     "status": "completed"
    },
    "tags": []
   },
   "outputs": [
    {
     "data": {
      "text/plain": [
       "0.8029906542056076"
      ]
     },
     "execution_count": 49,
     "metadata": {},
     "output_type": "execute_result"
    }
   ],
   "source": [
    "metrics.f1_score(y_val, y_pred)\n",
    "\n"
   ]
  },
  {
   "cell_type": "markdown",
   "id": "7ad547c1",
   "metadata": {
    "papermill": {
     "duration": 0.142233,
     "end_time": "2022-04-11T06:21:24.360717",
     "exception": false,
     "start_time": "2022-04-11T06:21:24.218484",
     "status": "completed"
    },
    "tags": []
   },
   "source": [
    "# 곡선하 면정, 민감도 또는 1- 특이성 그래프 \n",
    "\n",
    "- 참 긍정율과 거짓 부정률 사이를 표현하기 위해 사용"
   ]
  },
  {
   "cell_type": "code",
   "execution_count": 50,
   "id": "fb5a182e",
   "metadata": {
    "execution": {
     "iopub.execute_input": "2022-04-11T06:21:24.650918Z",
     "iopub.status.busy": "2022-04-11T06:21:24.650224Z",
     "iopub.status.idle": "2022-04-11T06:21:24.954261Z",
     "shell.execute_reply": "2022-04-11T06:21:24.954842Z",
     "shell.execute_reply.started": "2022-04-11T06:19:09.829182Z"
    },
    "papermill": {
     "duration": 0.449685,
     "end_time": "2022-04-11T06:21:24.955047",
     "exception": false,
     "start_time": "2022-04-11T06:21:24.505362",
     "status": "completed"
    },
    "tags": []
   },
   "outputs": [
    {
     "data": {
      "text/plain": [
       "<AxesSubplot:xlabel='FPR', ylabel='TPR'>"
      ]
     },
     "execution_count": 50,
     "metadata": {},
     "output_type": "execute_result"
    },
    {
     "data": {
      "image/png": "[encoded data removed]",
      "text/plain": [
       "<Figure size 720x576 with 1 Axes>"
      ]
     },
     "metadata": {},
     "output_type": "display_data"
    }
   ],
   "source": [
    "proba=lgb.predict_proba(X_train)\n",
    "fig,ax=plt.subplots(figsize=(10,8))\n",
    "fpr, tpr, thressholds = metrics.roc_curve(y_train, proba[:,1])\n",
    "ax.plot(fpr,tpr,'r--',label='LGBM')\n",
    "ax.plot([0, 1],[0, 1], 'k--', label='guess')\n",
    "ax.set_xlabel('FPR')\n",
    "ax.set_ylabel('TPR')\n",
    "ax.legend()\n",
    "ax\n",
    "\n",
    "\n",
    "\n",
    "\n",
    "\n",
    "\n",
    "\n",
    "\n"
   ]
  }
 ],
 "metadata": {
  "kernelspec": {
   "display_name": "Python 3",
   "language": "python",
   "name": "python3"
  },
  "language_info": {
   "codemirror_mode": {
    "name": "ipython",
    "version": 3
   },
   "file_extension": ".py",
   "mimetype": "text/x-python",
   "name": "python",
   "nbconvert_exporter": "python",
   "pygments_lexer": "ipython3",
   "version": "3.7.12"
  },
  "papermill": {
   "default_parameters": {},
   "duration": 110.140863,
   "end_time": "2022-04-11T06:21:28.401088",
   "environment_variables": {},
   "exception": null,
   "input_path": "__notebook__.ipynb",
   "output_path": "__notebook__.ipynb",
   "parameters": {},
   "start_time": "2022-04-11T06:19:38.260225",
   "version": "2.3.3"
  }
 },
 "nbformat": 4,
 "nbformat_minor": 5
}
