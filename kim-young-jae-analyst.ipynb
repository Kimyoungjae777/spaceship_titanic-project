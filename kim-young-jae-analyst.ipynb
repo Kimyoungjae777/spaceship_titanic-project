{
 "cells": [
  {
   "cell_type": "code",
   "execution_count": null,
   "id": "88c407fa",
   "metadata": {
    "papermill": {
     "duration": 0.014885,
     "end_time": "2022-04-01T03:37:38.202293",
     "exception": false,
     "start_time": "2022-04-01T03:37:38.187408",
     "status": "completed"
    },
    "tags": []
   },
   "outputs": [],
   "source": []
  },
  {
   "cell_type": "code",
   "execution_count": 1,
   "id": "d110aee9",
   "metadata": {
    "_cell_guid": "b1076dfc-b9ad-4769-8c92-a6c4dae69d19",
    "_uuid": "8f2839f25d086af736a60e9eeb907d3b93b6e0e5",
    "execution": {
     "iopub.execute_input": "2022-04-01T03:37:38.242116Z",
     "iopub.status.busy": "2022-04-01T03:37:38.241021Z",
     "iopub.status.idle": "2022-04-01T03:37:38.249090Z",
     "shell.execute_reply": "2022-04-01T03:37:38.249563Z",
     "shell.execute_reply.started": "2022-04-01T03:36:03.391602Z"
    },
    "papermill": {
     "duration": 0.032235,
     "end_time": "2022-04-01T03:37:38.249952",
     "exception": false,
     "start_time": "2022-04-01T03:37:38.217717",
     "status": "completed"
    },
    "tags": []
   },
   "outputs": [
    {
     "name": "stdout",
     "output_type": "stream",
     "text": [
      "/kaggle/input/spaceship-titanic/sample_submission.csv\n",
      "/kaggle/input/spaceship-titanic/train.csv\n",
      "/kaggle/input/spaceship-titanic/test.csv\n"
     ]
    }
   ],
   "source": [
    "# This Python 3 environment comes with many helpful analytics libraries installed\n",
    "# It is defined by the kaggle/python Docker image: https://github.com/kaggle/docker-python\n",
    "# For example, here's several helpful packages to load\n",
    "\n",
    "import numpy as np # linear algebra\n",
    "import pandas as pd # data processing, CSV file I/O (e.g. pd.read_csv)\n",
    "\n",
    "# Input data files are available in the read-only \"../input/\" directory\n",
    "# For example, running this (by clicking run or pressing Shift+Enter) will list all files under the input directory\n",
    "\n",
    "import os\n",
    "for dirname, _, filenames in os.walk('/kaggle/input'):\n",
    "    for filename in filenames:\n",
    "        print(os.path.join(dirname, filename))\n",
    "\n",
    "# You can write up to 20GB to the current directory (/kaggle/working/) that gets preserved as output when you create a version using \"Save & Run All\" \n",
    "# You can also write temporary files to /kaggle/temp/, but they won't be saved outside of the current session"
   ]
  },
  {
   "cell_type": "markdown",
   "id": "e9f4480d",
   "metadata": {
    "papermill": {
     "duration": 0.013677,
     "end_time": "2022-04-01T03:37:38.278359",
     "exception": false,
     "start_time": "2022-04-01T03:37:38.264682",
     "status": "completed"
    },
    "tags": []
   },
   "source": [
    "1. ## step 1.)라이브러리 및 데이터 불러오기 \n",
    "- 라이브러리 버젼 확인"
   ]
  },
  {
   "cell_type": "code",
   "execution_count": null,
   "id": "91da319d",
   "metadata": {
    "papermill": {
     "duration": 0.013585,
     "end_time": "2022-04-01T03:37:38.306023",
     "exception": false,
     "start_time": "2022-04-01T03:37:38.292438",
     "status": "completed"
    },
    "tags": []
   },
   "outputs": [],
   "source": []
  },
  {
   "cell_type": "code",
   "execution_count": 2,
   "id": "2ce17f0b",
   "metadata": {
    "execution": {
     "iopub.execute_input": "2022-04-01T03:37:38.338795Z",
     "iopub.status.busy": "2022-04-01T03:37:38.337654Z",
     "iopub.status.idle": "2022-04-01T03:37:38.341108Z",
     "shell.execute_reply": "2022-04-01T03:37:38.341726Z",
     "shell.execute_reply.started": "2022-04-01T03:36:03.404036Z"
    },
    "papermill": {
     "duration": 0.021848,
     "end_time": "2022-04-01T03:37:38.341932",
     "exception": false,
     "start_time": "2022-04-01T03:37:38.320084",
     "status": "completed"
    },
    "tags": []
   },
   "outputs": [],
   "source": [
    "#from IPython.display import clear_output\n",
    "#!pip#tall -U lazypredict\n",
    "#!pip3 install -U pandas #Upgrading pandas\n"
   ]
  },
  {
   "cell_type": "code",
   "execution_count": null,
   "id": "91633796",
   "metadata": {
    "papermill": {
     "duration": 0.013584,
     "end_time": "2022-04-01T03:37:38.369812",
     "exception": false,
     "start_time": "2022-04-01T03:37:38.356228",
     "status": "completed"
    },
    "tags": []
   },
   "outputs": [],
   "source": []
  },
  {
   "cell_type": "code",
   "execution_count": 3,
   "id": "530470e3",
   "metadata": {
    "execution": {
     "iopub.execute_input": "2022-04-01T03:37:38.404108Z",
     "iopub.status.busy": "2022-04-01T03:37:38.402926Z",
     "iopub.status.idle": "2022-04-01T03:37:38.504410Z",
     "shell.execute_reply": "2022-04-01T03:37:38.503799Z",
     "shell.execute_reply.started": "2022-04-01T03:36:03.416279Z"
    },
    "papermill": {
     "duration": 0.119669,
     "end_time": "2022-04-01T03:37:38.504581",
     "exception": false,
     "start_time": "2022-04-01T03:37:38.384912",
     "status": "completed"
    },
    "tags": []
   },
   "outputs": [
    {
     "data": {
      "text/plain": [
       "((8693, 14), (4277, 13), (4277, 2))"
      ]
     },
     "execution_count": 3,
     "metadata": {},
     "output_type": "execute_result"
    }
   ],
   "source": [
    "BASE_DIR = \"/kaggle/input/spaceship-titanic/\"\n",
    "train = pd.read_csv(BASE_DIR + \"train.csv\")\n",
    "test = pd.read_csv(BASE_DIR + \"test.csv\")\n",
    "sample_submission = pd.read_csv(BASE_DIR + \"sample_submission.csv\")\n",
    "train.shape, test.shape, sample_submission.shape"
   ]
  },
  {
   "cell_type": "markdown",
   "id": "1e300b78",
   "metadata": {
    "papermill": {
     "duration": 0.01419,
     "end_time": "2022-04-01T03:37:38.533923",
     "exception": false,
     "start_time": "2022-04-01T03:37:38.519733",
     "status": "completed"
    },
    "tags": []
   },
   "source": [
    "# 변수분석\n",
    "- passengerId-> 승객번호, gggg 는 그룹으로 이주를 간 사람들을 뜻 하고, pp 는 그 그룹안에서의 숫자이다. 종종 그들은 가족이지만 항상 그런것은 아니다. \n",
    "- HomePlant- "
   ]
  },
  {
   "cell_type": "code",
   "execution_count": null,
   "id": "a5bdc67e",
   "metadata": {
    "papermill": {
     "duration": 0.014334,
     "end_time": "2022-04-01T03:37:38.563000",
     "exception": false,
     "start_time": "2022-04-01T03:37:38.548666",
     "status": "completed"
    },
    "tags": []
   },
   "outputs": [],
   "source": []
  },
  {
   "cell_type": "markdown",
   "id": "492f4c5d",
   "metadata": {
    "papermill": {
     "duration": 0.013974,
     "end_time": "2022-04-01T03:37:38.591687",
     "exception": false,
     "start_time": "2022-04-01T03:37:38.577713",
     "status": "completed"
    },
    "tags": []
   },
   "source": [
    "## step 2. 탐색적 자료 분석(EDA)\n",
    "- 데이터 시각화\n",
    "- 산점도,막대그래프 \n",
    "- 그래프에 대해 설명을 달아야 함. \n",
    "- 약간의 데이터 전처리"
   ]
  },
  {
   "cell_type": "code",
   "execution_count": 4,
   "id": "fb4cad86",
   "metadata": {
    "execution": {
     "iopub.execute_input": "2022-04-01T03:37:38.625246Z",
     "iopub.status.busy": "2022-04-01T03:37:38.624160Z",
     "iopub.status.idle": "2022-04-01T03:37:38.653537Z",
     "shell.execute_reply": "2022-04-01T03:37:38.654077Z",
     "shell.execute_reply.started": "2022-04-01T03:36:03.503591Z"
    },
    "papermill": {
     "duration": 0.048146,
     "end_time": "2022-04-01T03:37:38.654284",
     "exception": false,
     "start_time": "2022-04-01T03:37:38.606138",
     "status": "completed"
    },
    "tags": []
   },
   "outputs": [
    {
     "data": {
      "text/html": [
       "<div>\n",
       "<style scoped>\n",
       "    .dataframe tbody tr th:only-of-type {\n",
       "        vertical-align: middle;\n",
       "    }\n",
       "\n",
       "    .dataframe tbody tr th {\n",
       "        vertical-align: top;\n",
       "    }\n",
       "\n",
       "    .dataframe thead th {\n",
       "        text-align: right;\n",
       "    }\n",
       "</style>\n",
       "<table border=\"1\" class=\"dataframe\">\n",
       "  <thead>\n",
       "    <tr style=\"text-align: right;\">\n",
       "      <th></th>\n",
       "      <th>PassengerId</th>\n",
       "      <th>HomePlanet</th>\n",
       "      <th>CryoSleep</th>\n",
       "      <th>Cabin</th>\n",
       "      <th>Destination</th>\n",
       "      <th>Age</th>\n",
       "      <th>VIP</th>\n",
       "      <th>RoomService</th>\n",
       "      <th>FoodCourt</th>\n",
       "      <th>ShoppingMall</th>\n",
       "      <th>Spa</th>\n",
       "      <th>VRDeck</th>\n",
       "      <th>Name</th>\n",
       "      <th>Transported</th>\n",
       "    </tr>\n",
       "  </thead>\n",
       "  <tbody>\n",
       "    <tr>\n",
       "      <th>0</th>\n",
       "      <td>0001_01</td>\n",
       "      <td>Europa</td>\n",
       "      <td>False</td>\n",
       "      <td>B/0/P</td>\n",
       "      <td>TRAPPIST-1e</td>\n",
       "      <td>39.0</td>\n",
       "      <td>False</td>\n",
       "      <td>0.0</td>\n",
       "      <td>0.0</td>\n",
       "      <td>0.0</td>\n",
       "      <td>0.0</td>\n",
       "      <td>0.0</td>\n",
       "      <td>Maham Ofracculy</td>\n",
       "      <td>False</td>\n",
       "    </tr>\n",
       "    <tr>\n",
       "      <th>1</th>\n",
       "      <td>0002_01</td>\n",
       "      <td>Earth</td>\n",
       "      <td>False</td>\n",
       "      <td>F/0/S</td>\n",
       "      <td>TRAPPIST-1e</td>\n",
       "      <td>24.0</td>\n",
       "      <td>False</td>\n",
       "      <td>109.0</td>\n",
       "      <td>9.0</td>\n",
       "      <td>25.0</td>\n",
       "      <td>549.0</td>\n",
       "      <td>44.0</td>\n",
       "      <td>Juanna Vines</td>\n",
       "      <td>True</td>\n",
       "    </tr>\n",
       "    <tr>\n",
       "      <th>2</th>\n",
       "      <td>0003_01</td>\n",
       "      <td>Europa</td>\n",
       "      <td>False</td>\n",
       "      <td>A/0/S</td>\n",
       "      <td>TRAPPIST-1e</td>\n",
       "      <td>58.0</td>\n",
       "      <td>True</td>\n",
       "      <td>43.0</td>\n",
       "      <td>3576.0</td>\n",
       "      <td>0.0</td>\n",
       "      <td>6715.0</td>\n",
       "      <td>49.0</td>\n",
       "      <td>Altark Susent</td>\n",
       "      <td>False</td>\n",
       "    </tr>\n",
       "    <tr>\n",
       "      <th>3</th>\n",
       "      <td>0003_02</td>\n",
       "      <td>Europa</td>\n",
       "      <td>False</td>\n",
       "      <td>A/0/S</td>\n",
       "      <td>TRAPPIST-1e</td>\n",
       "      <td>33.0</td>\n",
       "      <td>False</td>\n",
       "      <td>0.0</td>\n",
       "      <td>1283.0</td>\n",
       "      <td>371.0</td>\n",
       "      <td>3329.0</td>\n",
       "      <td>193.0</td>\n",
       "      <td>Solam Susent</td>\n",
       "      <td>False</td>\n",
       "    </tr>\n",
       "    <tr>\n",
       "      <th>4</th>\n",
       "      <td>0004_01</td>\n",
       "      <td>Earth</td>\n",
       "      <td>False</td>\n",
       "      <td>F/1/S</td>\n",
       "      <td>TRAPPIST-1e</td>\n",
       "      <td>16.0</td>\n",
       "      <td>False</td>\n",
       "      <td>303.0</td>\n",
       "      <td>70.0</td>\n",
       "      <td>151.0</td>\n",
       "      <td>565.0</td>\n",
       "      <td>2.0</td>\n",
       "      <td>Willy Santantines</td>\n",
       "      <td>True</td>\n",
       "    </tr>\n",
       "  </tbody>\n",
       "</table>\n",
       "</div>"
      ],
      "text/plain": [
       "  PassengerId HomePlanet CryoSleep  Cabin  Destination   Age    VIP  \\\n",
       "0     0001_01     Europa     False  B/0/P  TRAPPIST-1e  39.0  False   \n",
       "1     0002_01      Earth     False  F/0/S  TRAPPIST-1e  24.0  False   \n",
       "2     0003_01     Europa     False  A/0/S  TRAPPIST-1e  58.0   True   \n",
       "3     0003_02     Europa     False  A/0/S  TRAPPIST-1e  33.0  False   \n",
       "4     0004_01      Earth     False  F/1/S  TRAPPIST-1e  16.0  False   \n",
       "\n",
       "   RoomService  FoodCourt  ShoppingMall     Spa  VRDeck               Name  \\\n",
       "0          0.0        0.0           0.0     0.0     0.0    Maham Ofracculy   \n",
       "1        109.0        9.0          25.0   549.0    44.0       Juanna Vines   \n",
       "2         43.0     3576.0           0.0  6715.0    49.0      Altark Susent   \n",
       "3          0.0     1283.0         371.0  3329.0   193.0       Solam Susent   \n",
       "4        303.0       70.0         151.0   565.0     2.0  Willy Santantines   \n",
       "\n",
       "   Transported  \n",
       "0        False  \n",
       "1         True  \n",
       "2        False  \n",
       "3        False  \n",
       "4         True  "
      ]
     },
     "execution_count": 4,
     "metadata": {},
     "output_type": "execute_result"
    }
   ],
   "source": [
    "train.head()\n",
    "\n"
   ]
  },
  {
   "cell_type": "markdown",
   "id": "2bc7f48b",
   "metadata": {
    "papermill": {
     "duration": 0.014744,
     "end_time": "2022-04-01T03:37:38.684108",
     "exception": false,
     "start_time": "2022-04-01T03:37:38.669364",
     "status": "completed"
    },
    "tags": []
   },
   "source": [
    "# step 3. 데이터 전처리\n",
    "- Feature Engineering \n",
    "- ML 모형을 돌리기 위해 표준화 등 / 원핫-인코딩 \n",
    "- 파생변수(도출변수)\n",
    " + 왜 이 변수를 만들었는지에 대한 우리의 설명 필요 .\n",
    "- 교차검증\n",
    "- 하이퍼파라미터 튜닝 \n",
    " "
   ]
  },
  {
   "cell_type": "markdown",
   "id": "a282f0fe",
   "metadata": {
    "papermill": {
     "duration": 0.014712,
     "end_time": "2022-04-01T03:37:38.714019",
     "exception": false,
     "start_time": "2022-04-01T03:37:38.699307",
     "status": "completed"
    },
    "tags": []
   },
   "source": [
    "# step4. 머신러닝 모형 개발 \n",
    "- 모형에 대한 설명 필요.\n",
    "- 모형을 1-2개 사용 "
   ]
  },
  {
   "cell_type": "markdown",
   "id": "c0570dbf",
   "metadata": {
    "papermill": {
     "duration": 0.014562,
     "end_time": "2022-04-01T03:37:38.743761",
     "exception": false,
     "start_time": "2022-04-01T03:37:38.729199",
     "status": "completed"
    },
    "tags": []
   },
   "source": [
    "# step 6. 제출 \n",
    "- 제출 양식은 샘플 만들어드림\n"
   ]
  },
  {
   "cell_type": "markdown",
   "id": "2527a79d",
   "metadata": {
    "papermill": {
     "duration": 0.014495,
     "end_time": "2022-04-01T03:37:38.773175",
     "exception": false,
     "start_time": "2022-04-01T03:37:38.758680",
     "status": "completed"
    },
    "tags": []
   },
   "source": [
    "# 참고 \n",
    "- 다른 사람의 code 설명을 쭉 따라침.\n",
    "- 노트북 표절 방지 위해, 여러분들이 참조한 코드는 반드시 링크 걸어둘 것.\n",
    "- 저자이름, 글 제목 , 링크주소"
   ]
  },
  {
   "cell_type": "markdown",
   "id": "f9ab6579",
   "metadata": {
    "papermill": {
     "duration": 0.014674,
     "end_time": "2022-04-01T03:37:38.802886",
     "exception": false,
     "start_time": "2022-04-01T03:37:38.788212",
     "status": "completed"
    },
    "tags": []
   },
   "source": [
    "# 마감일 \n",
    "- 4월 12일 17시 40분\n",
    "- 제출 형태\n",
    " + Leaderborad 래잉 사진 캡쳐\n",
    " + 고용노동부 보고 양식"
   ]
  }
 ],
 "metadata": {
  "kernelspec": {
   "display_name": "Python 3",
   "language": "python",
   "name": "python3"
  },
  "language_info": {
   "codemirror_mode": {
    "name": "ipython",
    "version": 3
   },
   "file_extension": ".py",
   "mimetype": "text/x-python",
   "name": "python",
   "nbconvert_exporter": "python",
   "pygments_lexer": "ipython3",
   "version": "3.7.12"
  },
  "papermill": {
   "default_parameters": {},
   "duration": 12.702666,
   "end_time": "2022-04-01T03:37:39.730875",
   "environment_variables": {},
   "exception": null,
   "input_path": "__notebook__.ipynb",
   "output_path": "__notebook__.ipynb",
   "parameters": {},
   "start_time": "2022-04-01T03:37:27.028209",
   "version": "2.3.3"
  }
 },
 "nbformat": 4,
 "nbformat_minor": 5
}
