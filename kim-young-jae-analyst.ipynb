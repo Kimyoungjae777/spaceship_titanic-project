{
 "cells": [
  {
   "cell_type": "code",
   "execution_count": 1,
   "id": "9d5d9567",
   "metadata": {
    "_cell_guid": "b1076dfc-b9ad-4769-8c92-a6c4dae69d19",
    "_uuid": "8f2839f25d086af736a60e9eeb907d3b93b6e0e5",
    "execution": {
     "iopub.execute_input": "2022-04-07T07:48:44.789520Z",
     "iopub.status.busy": "2022-04-07T07:48:44.788844Z",
     "iopub.status.idle": "2022-04-07T07:48:44.800380Z",
     "shell.execute_reply": "2022-04-07T07:48:44.799663Z",
     "shell.execute_reply.started": "2022-04-07T06:14:20.596570Z"
    },
    "papermill": {
     "duration": 0.103034,
     "end_time": "2022-04-07T07:48:44.800550",
     "exception": false,
     "start_time": "2022-04-07T07:48:44.697516",
     "status": "completed"
    },
    "tags": []
   },
   "outputs": [
    {
     "name": "stdout",
     "output_type": "stream",
     "text": [
      "/kaggle/input/spaceship-titanic/sample_submission.csv\n",
      "/kaggle/input/spaceship-titanic/train.csv\n",
      "/kaggle/input/spaceship-titanic/test.csv\n"
     ]
    }
   ],
   "source": [
    "# This Python 3 environment comes with many helpful analytics libraries installed\n",
    "# It is defined by the kaggle/python Docker image: https://github.com/kaggle/docker-python\n",
    "# For example, here's several helpful packages to load\n",
    "\n",
    "import numpy as np # linear algebra\n",
    "import pandas as pd # data processing, CSV file I/O (e.g. pd.read_csv)\n",
    "\n",
    "# Input data files are available in the read-only \"../input/\" directory\n",
    "# For example, running this (by clicking run or pressing Shift+Enter) will list all files under the input directory\n",
    "\n",
    "import os\n",
    "for dirname, _, filenames in os.walk('/kaggle/input'):\n",
    "    for filename in filenames:\n",
    "        print(os.path.join(dirname, filename))\n",
    "\n",
    "# You can write up to 20GB to the current directory (/kaggle/working/) that gets preserved as output when you create a version using \"Save & Run All\" \n",
    "# You can also write temporary files to /kaggle/temp/, but they won't be saved outside of the current session"
   ]
  },
  {
   "cell_type": "markdown",
   "id": "50f2ce3d",
   "metadata": {
    "papermill": {
     "duration": 0.080936,
     "end_time": "2022-04-07T07:48:44.962034",
     "exception": false,
     "start_time": "2022-04-07T07:48:44.881098",
     "status": "completed"
    },
    "tags": []
   },
   "source": [
    "# 프로젝트 개요\n",
    "- 강의명 : 2022년 K-디지털 직업훈련(Training) 사업 \n",
    "- AI데=이터플랫폼을 활용한 빅데이터 분석전문가 과정\n",
    "- 교과목명 : 빅데이터 분석 및 시각화, AI개발 기초, 인공지능 프로그래밍\n",
    "- 프로젝트 주제 : Spaceship Titanic 데이터를 활용한 탑승유무 분류모형 개발\n",
    "- 프로젝트 마감일 : 2022년 4월 12일 화요일\n",
    "- 수강생명 : 김영재"
   ]
  },
  {
   "cell_type": "markdown",
   "id": "b54966a0",
   "metadata": {
    "papermill": {
     "duration": 0.080336,
     "end_time": "2022-04-07T07:48:45.124463",
     "exception": false,
     "start_time": "2022-04-07T07:48:45.044127",
     "status": "completed"
    },
    "tags": []
   },
   "source": [
    "# reference:https://www.kaggle.com/code/samuelcortinhas/spaceship-titanic-a-complete-guide"
   ]
  },
  {
   "cell_type": "markdown",
   "id": "03993429",
   "metadata": {
    "papermill": {
     "duration": 0.079366,
     "end_time": "2022-04-07T07:48:45.284867",
     "exception": false,
     "start_time": "2022-04-07T07:48:45.205501",
     "status": "completed"
    },
    "tags": []
   },
   "source": [
    "# Step 1. 라이브러리 및 데이터 불러오기\n",
    "- 본 프로젝트 수행을 위한 필수 라이브러리를 불러온다. "
   ]
  },
  {
   "cell_type": "code",
   "execution_count": 2,
   "id": "45292686",
   "metadata": {
    "execution": {
     "iopub.execute_input": "2022-04-07T07:48:45.448719Z",
     "iopub.status.busy": "2022-04-07T07:48:45.447699Z",
     "iopub.status.idle": "2022-04-07T07:48:46.524865Z",
     "shell.execute_reply": "2022-04-07T07:48:46.525546Z",
     "shell.execute_reply.started": "2022-04-07T06:14:20.628486Z"
    },
    "papermill": {
     "duration": 1.160609,
     "end_time": "2022-04-07T07:48:46.525717",
     "exception": false,
     "start_time": "2022-04-07T07:48:45.365108",
     "status": "completed"
    },
    "tags": []
   },
   "outputs": [
    {
     "name": "stdout",
     "output_type": "stream",
     "text": [
      "numpy version: 1.20.3\n",
      "pandas version: 1.3.5\n",
      "matplotlib version: 3.5.1\n",
      "seaborn version: 0.11.2\n"
     ]
    }
   ],
   "source": [
    "# 데이터 가공 \n",
    "import numpy as np \n",
    "import pandas as pd \n",
    "\n",
    "print(\"numpy version:\", np.__version__)\n",
    "print(\"pandas version:\", pd.__version__)\n",
    "\n",
    "# 데이터 시각화\n",
    "import matplotlib\n",
    "import matplotlib.pyplot as plt \n",
    "import seaborn as sns \n",
    "print(\"matplotlib version:\", matplotlib.__version__)\n",
    "print(\"seaborn version:\", sns.__version__)\n",
    "\n",
    "#데이터 전처리\n",
    "\n",
    "\n"
   ]
  },
  {
   "cell_type": "code",
   "execution_count": 3,
   "id": "94b791a3",
   "metadata": {
    "execution": {
     "iopub.execute_input": "2022-04-07T07:48:46.694492Z",
     "iopub.status.busy": "2022-04-07T07:48:46.693833Z",
     "iopub.status.idle": "2022-04-07T07:48:46.826689Z",
     "shell.execute_reply": "2022-04-07T07:48:46.827227Z",
     "shell.execute_reply.started": "2022-04-07T06:14:21.744725Z"
    },
    "papermill": {
     "duration": 0.221101,
     "end_time": "2022-04-07T07:48:46.827397",
     "exception": false,
     "start_time": "2022-04-07T07:48:46.606296",
     "status": "completed"
    },
    "tags": []
   },
   "outputs": [
    {
     "data": {
      "text/plain": [
       "((8693, 14), (4277, 13), (4277, 2))"
      ]
     },
     "execution_count": 3,
     "metadata": {},
     "output_type": "execute_result"
    }
   ],
   "source": [
    "train_data = pd.read_csv(\"../input/spaceship-titanic/train.csv\")\n",
    "test_data = pd.read_csv(\"../input/spaceship-titanic/test.csv\")\n",
    "sample_submission = pd.read_csv(\"../input/spaceship-titanic/sample_submission.csv\")\n",
    "\n",
    "train_data.shape, test_data.shape, sample_submission.shape"
   ]
  },
  {
   "cell_type": "markdown",
   "id": "a7c99513",
   "metadata": {
    "papermill": {
     "duration": 0.078639,
     "end_time": "2022-04-07T07:48:46.990153",
     "exception": false,
     "start_time": "2022-04-07T07:48:46.911514",
     "status": "completed"
    },
    "tags": []
   },
   "source": [
    "# 컬럼별 결측치 퍼센트 확인하기"
   ]
  },
  {
   "cell_type": "code",
   "execution_count": 4,
   "id": "1c2b8351",
   "metadata": {
    "execution": {
     "iopub.execute_input": "2022-04-07T07:48:47.149729Z",
     "iopub.status.busy": "2022-04-07T07:48:47.149074Z",
     "iopub.status.idle": "2022-04-07T07:48:47.177908Z",
     "shell.execute_reply": "2022-04-07T07:48:47.178404Z",
     "shell.execute_reply.started": "2022-04-07T06:14:21.842749Z"
    },
    "papermill": {
     "duration": 0.110773,
     "end_time": "2022-04-07T07:48:47.178568",
     "exception": false,
     "start_time": "2022-04-07T07:48:47.067795",
     "status": "completed"
    },
    "tags": []
   },
   "outputs": [
    {
     "data": {
      "text/html": [
       "<div>\n",
       "<style scoped>\n",
       "    .dataframe tbody tr th:only-of-type {\n",
       "        vertical-align: middle;\n",
       "    }\n",
       "\n",
       "    .dataframe tbody tr th {\n",
       "        vertical-align: top;\n",
       "    }\n",
       "\n",
       "    .dataframe thead th {\n",
       "        text-align: right;\n",
       "    }\n",
       "</style>\n",
       "<table border=\"1\" class=\"dataframe\">\n",
       "  <thead>\n",
       "    <tr style=\"text-align: right;\">\n",
       "      <th></th>\n",
       "      <th>sum_missing</th>\n",
       "      <th>percetage_null</th>\n",
       "    </tr>\n",
       "  </thead>\n",
       "  <tbody>\n",
       "    <tr>\n",
       "      <th>PassengerId</th>\n",
       "      <td>0</td>\n",
       "      <td>0.000000</td>\n",
       "    </tr>\n",
       "    <tr>\n",
       "      <th>Transported</th>\n",
       "      <td>0</td>\n",
       "      <td>0.000000</td>\n",
       "    </tr>\n",
       "    <tr>\n",
       "      <th>Age</th>\n",
       "      <td>179</td>\n",
       "      <td>2.059128</td>\n",
       "    </tr>\n",
       "    <tr>\n",
       "      <th>RoomService</th>\n",
       "      <td>181</td>\n",
       "      <td>2.082135</td>\n",
       "    </tr>\n",
       "    <tr>\n",
       "      <th>Destination</th>\n",
       "      <td>182</td>\n",
       "      <td>2.093639</td>\n",
       "    </tr>\n",
       "    <tr>\n",
       "      <th>FoodCourt</th>\n",
       "      <td>183</td>\n",
       "      <td>2.105142</td>\n",
       "    </tr>\n",
       "    <tr>\n",
       "      <th>Spa</th>\n",
       "      <td>183</td>\n",
       "      <td>2.105142</td>\n",
       "    </tr>\n",
       "    <tr>\n",
       "      <th>VRDeck</th>\n",
       "      <td>188</td>\n",
       "      <td>2.162660</td>\n",
       "    </tr>\n",
       "    <tr>\n",
       "      <th>Cabin</th>\n",
       "      <td>199</td>\n",
       "      <td>2.289198</td>\n",
       "    </tr>\n",
       "    <tr>\n",
       "      <th>Name</th>\n",
       "      <td>200</td>\n",
       "      <td>2.300702</td>\n",
       "    </tr>\n",
       "    <tr>\n",
       "      <th>HomePlanet</th>\n",
       "      <td>201</td>\n",
       "      <td>2.312205</td>\n",
       "    </tr>\n",
       "    <tr>\n",
       "      <th>VIP</th>\n",
       "      <td>203</td>\n",
       "      <td>2.335212</td>\n",
       "    </tr>\n",
       "    <tr>\n",
       "      <th>ShoppingMall</th>\n",
       "      <td>208</td>\n",
       "      <td>2.392730</td>\n",
       "    </tr>\n",
       "    <tr>\n",
       "      <th>CryoSleep</th>\n",
       "      <td>217</td>\n",
       "      <td>2.496261</td>\n",
       "    </tr>\n",
       "  </tbody>\n",
       "</table>\n",
       "</div>"
      ],
      "text/plain": [
       "              sum_missing  percetage_null\n",
       "PassengerId             0        0.000000\n",
       "Transported             0        0.000000\n",
       "Age                   179        2.059128\n",
       "RoomService           181        2.082135\n",
       "Destination           182        2.093639\n",
       "FoodCourt             183        2.105142\n",
       "Spa                   183        2.105142\n",
       "VRDeck                188        2.162660\n",
       "Cabin                 199        2.289198\n",
       "Name                  200        2.300702\n",
       "HomePlanet            201        2.312205\n",
       "VIP                   203        2.335212\n",
       "ShoppingMall          208        2.392730\n",
       "CryoSleep             217        2.496261"
      ]
     },
     "execution_count": 4,
     "metadata": {},
     "output_type": "execute_result"
    }
   ],
   "source": [
    "missing=pd.DataFrame(train_data.isnull().sum().sort_values(),columns=['sum_missing'])\n",
    "missing['percetage_null']=missing['sum_missing']/train_data.shape[0]*100\n",
    "missing"
   ]
  },
  {
   "cell_type": "markdown",
   "id": "f9f82efa",
   "metadata": {
    "papermill": {
     "duration": 0.077655,
     "end_time": "2022-04-07T07:48:47.333799",
     "exception": false,
     "start_time": "2022-04-07T07:48:47.256144",
     "status": "completed"
    },
    "tags": []
   },
   "source": [
    "# 숫자로 되어있는 데이터들만 모아놓기"
   ]
  },
  {
   "cell_type": "code",
   "execution_count": 5,
   "id": "c403e57b",
   "metadata": {
    "execution": {
     "iopub.execute_input": "2022-04-07T07:48:47.490269Z",
     "iopub.status.busy": "2022-04-07T07:48:47.489651Z",
     "iopub.status.idle": "2022-04-07T07:48:47.515551Z",
     "shell.execute_reply": "2022-04-07T07:48:47.516018Z",
     "shell.execute_reply.started": "2022-04-07T06:14:21.878955Z"
    },
    "papermill": {
     "duration": 0.105471,
     "end_time": "2022-04-07T07:48:47.516190",
     "exception": false,
     "start_time": "2022-04-07T07:48:47.410719",
     "status": "completed"
    },
    "tags": []
   },
   "outputs": [
    {
     "data": {
      "text/html": [
       "<div>\n",
       "<style scoped>\n",
       "    .dataframe tbody tr th:only-of-type {\n",
       "        vertical-align: middle;\n",
       "    }\n",
       "\n",
       "    .dataframe tbody tr th {\n",
       "        vertical-align: top;\n",
       "    }\n",
       "\n",
       "    .dataframe thead th {\n",
       "        text-align: right;\n",
       "    }\n",
       "</style>\n",
       "<table border=\"1\" class=\"dataframe\">\n",
       "  <thead>\n",
       "    <tr style=\"text-align: right;\">\n",
       "      <th></th>\n",
       "      <th>Age</th>\n",
       "      <th>RoomService</th>\n",
       "      <th>FoodCourt</th>\n",
       "      <th>ShoppingMall</th>\n",
       "      <th>Spa</th>\n",
       "      <th>VRDeck</th>\n",
       "    </tr>\n",
       "  </thead>\n",
       "  <tbody>\n",
       "    <tr>\n",
       "      <th>0</th>\n",
       "      <td>39.0</td>\n",
       "      <td>0.0</td>\n",
       "      <td>0.0</td>\n",
       "      <td>0.0</td>\n",
       "      <td>0.0</td>\n",
       "      <td>0.0</td>\n",
       "    </tr>\n",
       "    <tr>\n",
       "      <th>1</th>\n",
       "      <td>24.0</td>\n",
       "      <td>109.0</td>\n",
       "      <td>9.0</td>\n",
       "      <td>25.0</td>\n",
       "      <td>549.0</td>\n",
       "      <td>44.0</td>\n",
       "    </tr>\n",
       "    <tr>\n",
       "      <th>2</th>\n",
       "      <td>58.0</td>\n",
       "      <td>43.0</td>\n",
       "      <td>3576.0</td>\n",
       "      <td>0.0</td>\n",
       "      <td>6715.0</td>\n",
       "      <td>49.0</td>\n",
       "    </tr>\n",
       "    <tr>\n",
       "      <th>3</th>\n",
       "      <td>33.0</td>\n",
       "      <td>0.0</td>\n",
       "      <td>1283.0</td>\n",
       "      <td>371.0</td>\n",
       "      <td>3329.0</td>\n",
       "      <td>193.0</td>\n",
       "    </tr>\n",
       "    <tr>\n",
       "      <th>4</th>\n",
       "      <td>16.0</td>\n",
       "      <td>303.0</td>\n",
       "      <td>70.0</td>\n",
       "      <td>151.0</td>\n",
       "      <td>565.0</td>\n",
       "      <td>2.0</td>\n",
       "    </tr>\n",
       "    <tr>\n",
       "      <th>...</th>\n",
       "      <td>...</td>\n",
       "      <td>...</td>\n",
       "      <td>...</td>\n",
       "      <td>...</td>\n",
       "      <td>...</td>\n",
       "      <td>...</td>\n",
       "    </tr>\n",
       "    <tr>\n",
       "      <th>8688</th>\n",
       "      <td>41.0</td>\n",
       "      <td>0.0</td>\n",
       "      <td>6819.0</td>\n",
       "      <td>0.0</td>\n",
       "      <td>1643.0</td>\n",
       "      <td>74.0</td>\n",
       "    </tr>\n",
       "    <tr>\n",
       "      <th>8689</th>\n",
       "      <td>18.0</td>\n",
       "      <td>0.0</td>\n",
       "      <td>0.0</td>\n",
       "      <td>0.0</td>\n",
       "      <td>0.0</td>\n",
       "      <td>0.0</td>\n",
       "    </tr>\n",
       "    <tr>\n",
       "      <th>8690</th>\n",
       "      <td>26.0</td>\n",
       "      <td>0.0</td>\n",
       "      <td>0.0</td>\n",
       "      <td>1872.0</td>\n",
       "      <td>1.0</td>\n",
       "      <td>0.0</td>\n",
       "    </tr>\n",
       "    <tr>\n",
       "      <th>8691</th>\n",
       "      <td>32.0</td>\n",
       "      <td>0.0</td>\n",
       "      <td>1049.0</td>\n",
       "      <td>0.0</td>\n",
       "      <td>353.0</td>\n",
       "      <td>3235.0</td>\n",
       "    </tr>\n",
       "    <tr>\n",
       "      <th>8692</th>\n",
       "      <td>44.0</td>\n",
       "      <td>126.0</td>\n",
       "      <td>4688.0</td>\n",
       "      <td>0.0</td>\n",
       "      <td>0.0</td>\n",
       "      <td>12.0</td>\n",
       "    </tr>\n",
       "  </tbody>\n",
       "</table>\n",
       "<p>8693 rows × 6 columns</p>\n",
       "</div>"
      ],
      "text/plain": [
       "       Age  RoomService  FoodCourt  ShoppingMall     Spa  VRDeck\n",
       "0     39.0          0.0        0.0           0.0     0.0     0.0\n",
       "1     24.0        109.0        9.0          25.0   549.0    44.0\n",
       "2     58.0         43.0     3576.0           0.0  6715.0    49.0\n",
       "3     33.0          0.0     1283.0         371.0  3329.0   193.0\n",
       "4     16.0        303.0       70.0         151.0   565.0     2.0\n",
       "...    ...          ...        ...           ...     ...     ...\n",
       "8688  41.0          0.0     6819.0           0.0  1643.0    74.0\n",
       "8689  18.0          0.0        0.0           0.0     0.0     0.0\n",
       "8690  26.0          0.0        0.0        1872.0     1.0     0.0\n",
       "8691  32.0          0.0     1049.0           0.0   353.0  3235.0\n",
       "8692  44.0        126.0     4688.0           0.0     0.0    12.0\n",
       "\n",
       "[8693 rows x 6 columns]"
      ]
     },
     "execution_count": 5,
     "metadata": {},
     "output_type": "execute_result"
    }
   ],
   "source": [
    "num_data=train_data.select_dtypes(include='number')\n",
    "num_data"
   ]
  },
  {
   "cell_type": "markdown",
   "id": "0047b864",
   "metadata": {
    "papermill": {
     "duration": 0.077601,
     "end_time": "2022-04-07T07:48:47.671180",
     "exception": false,
     "start_time": "2022-04-07T07:48:47.593579",
     "status": "completed"
    },
    "tags": []
   },
   "source": [
    "# nunique () unique 한 변수의 개수를 추출해주는 메소드"
   ]
  },
  {
   "cell_type": "code",
   "execution_count": 6,
   "id": "9ca1cc50",
   "metadata": {
    "execution": {
     "iopub.execute_input": "2022-04-07T07:48:47.846237Z",
     "iopub.status.busy": "2022-04-07T07:48:47.845524Z",
     "iopub.status.idle": "2022-04-07T07:48:47.877703Z",
     "shell.execute_reply": "2022-04-07T07:48:47.878324Z",
     "shell.execute_reply.started": "2022-04-07T06:14:21.909818Z"
    },
    "papermill": {
     "duration": 0.118567,
     "end_time": "2022-04-07T07:48:47.878505",
     "exception": false,
     "start_time": "2022-04-07T07:48:47.759938",
     "status": "completed"
    },
    "tags": []
   },
   "outputs": [
    {
     "data": {
      "text/plain": [
       "PassengerId     8693\n",
       "HomePlanet         3\n",
       "CryoSleep          2\n",
       "Cabin           6560\n",
       "Destination        3\n",
       "Age               80\n",
       "VIP                2\n",
       "RoomService     1273\n",
       "FoodCourt       1507\n",
       "ShoppingMall    1115\n",
       "Spa             1327\n",
       "VRDeck          1306\n",
       "Name            8473\n",
       "Transported        2\n",
       "dtype: int64"
      ]
     },
     "execution_count": 6,
     "metadata": {},
     "output_type": "execute_result"
    }
   ],
   "source": [
    "train_data.nunique()   # 변수들이 passenger id 처럼 의미없는 값으로 되어 있는지 알 수 있음"
   ]
  },
  {
   "cell_type": "markdown",
   "id": "e1a46af8",
   "metadata": {
    "papermill": {
     "duration": 0.086492,
     "end_time": "2022-04-07T07:48:48.057796",
     "exception": false,
     "start_time": "2022-04-07T07:48:47.971304",
     "status": "completed"
    },
    "tags": []
   },
   "source": [
    "####  종속변수의 비율 확인하여 주기."
   ]
  },
  {
   "cell_type": "code",
   "execution_count": 7,
   "id": "dd917d55",
   "metadata": {
    "execution": {
     "iopub.execute_input": "2022-04-07T07:48:48.222805Z",
     "iopub.status.busy": "2022-04-07T07:48:48.221800Z",
     "iopub.status.idle": "2022-04-07T07:48:48.377759Z",
     "shell.execute_reply": "2022-04-07T07:48:48.378663Z",
     "shell.execute_reply.started": "2022-04-07T06:14:21.932082Z"
    },
    "papermill": {
     "duration": 0.240703,
     "end_time": "2022-04-07T07:48:48.378955",
     "exception": false,
     "start_time": "2022-04-07T07:48:48.138252",
     "status": "completed"
    },
    "tags": []
   },
   "outputs": [
    {
     "data": {
      "image/png": "[encoded data removed]",
      "text/plain": [
       "<Figure size 432x288 with 1 Axes>"
      ]
     },
     "metadata": {},
     "output_type": "display_data"
    }
   ],
   "source": [
    "plt.figsize=(10,6)\n",
    "plt.pie(train_data['Transported'].value_counts(),explode=[0,0.1],\n",
    "       shadow=True,autopct='%.2f%%',labels=['True','False'])\n",
    "plt.title(\"target_distribution\")\n",
    "plt.show()"
   ]
  },
  {
   "cell_type": "markdown",
   "id": "d953b5b5",
   "metadata": {
    "papermill": {
     "duration": 0.07847,
     "end_time": "2022-04-07T07:48:48.567805",
     "exception": false,
     "start_time": "2022-04-07T07:48:48.489335",
     "status": "completed"
    },
    "tags": []
   },
   "source": [
    "- 언더샘플링이나 오버샘플링이 되어있지 않음"
   ]
  },
  {
   "cell_type": "markdown",
   "id": "423e6d14",
   "metadata": {
    "papermill": {
     "duration": 0.078371,
     "end_time": "2022-04-07T07:48:48.729238",
     "exception": false,
     "start_time": "2022-04-07T07:48:48.650867",
     "status": "completed"
    },
    "tags": []
   },
   "source": [
    "#### features 들을 분석하여보자"
   ]
  },
  {
   "cell_type": "code",
   "execution_count": 8,
   "id": "a60c0452",
   "metadata": {
    "execution": {
     "iopub.execute_input": "2022-04-07T07:48:48.897150Z",
     "iopub.status.busy": "2022-04-07T07:48:48.896160Z",
     "iopub.status.idle": "2022-04-07T07:48:49.404031Z",
     "shell.execute_reply": "2022-04-07T07:48:49.404574Z",
     "shell.execute_reply.started": "2022-04-07T06:14:22.101567Z"
    },
    "papermill": {
     "duration": 0.595433,
     "end_time": "2022-04-07T07:48:49.404756",
     "exception": false,
     "start_time": "2022-04-07T07:48:48.809323",
     "status": "completed"
    },
    "tags": []
   },
   "outputs": [
    {
     "data": {
      "image/png": "[encoded data removed]",
      "text/plain": [
       "<Figure size 720x432 with 1 Axes>"
      ]
     },
     "metadata": {
      "needs_background": "light"
     },
     "output_type": "display_data"
    }
   ],
   "source": [
    "plt.figure(figsize=(10,6))\n",
    "sns.histplot(data=train_data,x='Age',hue='Transported',kde=True)\n",
    "plt.title('Age Distribution')\n",
    "plt.show()\n"
   ]
  },
  {
   "cell_type": "markdown",
   "id": "4a594332",
   "metadata": {
    "papermill": {
     "duration": 0.082727,
     "end_time": "2022-04-07T07:48:49.571634",
     "exception": false,
     "start_time": "2022-04-07T07:48:49.488907",
     "status": "completed"
    },
    "tags": []
   },
   "source": [
    "- 0~18세 까지는 비행기에 탑승한 사람이 더 많다.\n",
    "- 18~25세 까지는 비행기에 탑승하지 못한 사람이 더 많다 \n",
    "- 25세 이상은 그리 특별하진 않고 비슷 또는 동등하다\n",
    "\n",
    "- 그리하여 0~18(child) , 18~25(adolecent) , 25~(adult) 로 새로운 변수를 만들어 줄 수 있게 된다."
   ]
  },
  {
   "cell_type": "markdown",
   "id": "32934815",
   "metadata": {
    "papermill": {
     "duration": 0.080473,
     "end_time": "2022-04-07T07:48:49.733174",
     "exception": false,
     "start_time": "2022-04-07T07:48:49.652701",
     "status": "completed"
    },
    "tags": []
   },
   "source": [
    "### 비용 변수"
   ]
  },
  {
   "cell_type": "code",
   "execution_count": 9,
   "id": "d08929bb",
   "metadata": {
    "execution": {
     "iopub.execute_input": "2022-04-07T07:48:49.914354Z",
     "iopub.status.busy": "2022-04-07T07:48:49.913638Z",
     "iopub.status.idle": "2022-04-07T07:48:53.504733Z",
     "shell.execute_reply": "2022-04-07T07:48:53.505269Z",
     "shell.execute_reply.started": "2022-04-07T06:14:22.596858Z"
    },
    "papermill": {
     "duration": 3.689444,
     "end_time": "2022-04-07T07:48:53.505444",
     "exception": false,
     "start_time": "2022-04-07T07:48:49.816000",
     "status": "completed"
    },
    "tags": []
   },
   "outputs": [
    {
     "data": {
      "image/png": "[encoded data removed]",
      "text/plain": [
       "<Figure size 720x1440 with 10 Axes>"
      ]
     },
     "metadata": {
      "needs_background": "light"
     },
     "output_type": "display_data"
    }
   ],
   "source": [
    "exp_features=['RoomService','FoodCourt','ShoppingMall','Spa','VRDeck']\n",
    "fig = plt.figure(figsize = (10, 20))\n",
    "for i, col in enumerate(exp_features):\n",
    "    #왼쪽 그래프\n",
    "    ax=fig.add_subplot(5,2,2*i+1) # 3번쨰 파라미터는 index 이다.\n",
    "    sns.histplot(data=train_data,x=col,bins=30,hue='Transported',ax=ax)\n",
    "    #오른쪽 그래프 \n",
    "    ax=fig.add_subplot(5,2,2*i+2)\n",
    "    sns.histplot(data=train_data,x=col,bins=30,hue='Transported',kde=True,ax=ax)\n",
    "    plt.ylim([0,100])  # count 의 범위를 낮춤으로써, 변화를 급격하게 보여준다\n",
    "fig.tight_layout()\n",
    "plt.show()"
   ]
  },
  {
   "cell_type": "markdown",
   "id": "0e771b0d",
   "metadata": {
    "papermill": {
     "duration": 0.085386,
     "end_time": "2022-04-07T07:48:53.675466",
     "exception": false,
     "start_time": "2022-04-07T07:48:53.590080",
     "status": "completed"
    },
    "tags": []
   },
   "source": [
    "- 대부분의 사람들은 돈을 쓰지 않았다\n",
    "- 탑승을 한 사람들은 대부분 돈을 적게썼다.\n",
    "- roomservice,vrdeck,spa(팁승하지 못한 사람 많음)  vs shoppingmall,foodcourt(탑승한 사람 많음) -> 고가 부대시설을 즐긴 사람 vs 그렇지 않은 사람\n",
    "\n",
    "- 5개 편의시설 전체에 총 지출을 추적하는 feature 생성가능\n",
    "- 돈을 쓴 사람과 쓰지 않은 사람을 나누는 feature 생성가능"
   ]
  },
  {
   "cell_type": "markdown",
   "id": "348d17f8",
   "metadata": {
    "papermill": {
     "duration": 0.086027,
     "end_time": "2022-04-07T07:48:53.845760",
     "exception": false,
     "start_time": "2022-04-07T07:48:53.759733",
     "status": "completed"
    },
    "tags": []
   },
   "source": [
    "### 범주형 변수.\n"
   ]
  },
  {
   "cell_type": "code",
   "execution_count": 10,
   "id": "8a193922",
   "metadata": {
    "execution": {
     "iopub.execute_input": "2022-04-07T07:48:54.056463Z",
     "iopub.status.busy": "2022-04-07T07:48:54.040329Z",
     "iopub.status.idle": "2022-04-07T07:48:54.753530Z",
     "shell.execute_reply": "2022-04-07T07:48:54.752986Z",
     "shell.execute_reply.started": "2022-04-07T06:14:25.880100Z"
    },
    "papermill": {
     "duration": 0.822065,
     "end_time": "2022-04-07T07:48:54.753679",
     "exception": false,
     "start_time": "2022-04-07T07:48:53.931614",
     "status": "completed"
    },
    "tags": []
   },
   "outputs": [
    {
     "data": {
      "image/png": "[encoded data removed]",
      "text/plain": [
       "<Figure size 720x1440 with 4 Axes>"
      ]
     },
     "metadata": {
      "needs_background": "light"
     },
     "output_type": "display_data"
    }
   ],
   "source": [
    "features=['HomePlanet', 'CryoSleep', 'Destination', 'VIP']\n",
    "fig=plt.figure(figsize=(10,20))\n",
    "for i,col in enumerate(features):\n",
    "    ax=fig.add_subplot(4,1,i+1)\n",
    "    sns.countplot(data=train_data,x=col,hue='Transported',ax=ax,palette='viridis')\n",
    "\n",
    "fig.tight_layout()\n",
    "plt.show()"
   ]
  },
  {
   "cell_type": "markdown",
   "id": "1523ac7a",
   "metadata": {
    "papermill": {
     "duration": 0.086975,
     "end_time": "2022-04-07T07:48:54.928596",
     "exception": false,
     "start_time": "2022-04-07T07:48:54.841621",
     "status": "completed"
    },
    "tags": []
   },
   "source": [
    "- vip 변수는 transported true,false 비율이 비슷하기 떄문에 drop 시킨다\n",
    "- cryosleep 변수가 대조적으로 굉장히 큰 차이를 준다."
   ]
  },
  {
   "cell_type": "markdown",
   "id": "852b59d9",
   "metadata": {
    "papermill": {
     "duration": 0.087243,
     "end_time": "2022-04-07T07:48:55.103321",
     "exception": false,
     "start_time": "2022-04-07T07:48:55.016078",
     "status": "completed"
    },
    "tags": []
   },
   "source": [
    "### age 결측치 제거"
   ]
  },
  {
   "cell_type": "markdown",
   "id": "2398721a",
   "metadata": {
    "papermill": {
     "duration": 0.085275,
     "end_time": "2022-04-07T07:48:55.274379",
     "exception": false,
     "start_time": "2022-04-07T07:48:55.189104",
     "status": "completed"
    },
    "tags": []
   },
   "source": [
    "- 중앙값으로 결측치를 채워준다"
   ]
  },
  {
   "cell_type": "code",
   "execution_count": 11,
   "id": "82dc892c",
   "metadata": {
    "execution": {
     "iopub.execute_input": "2022-04-07T07:48:55.452665Z",
     "iopub.status.busy": "2022-04-07T07:48:55.452028Z",
     "iopub.status.idle": "2022-04-07T07:48:55.455389Z",
     "shell.execute_reply": "2022-04-07T07:48:55.454864Z",
     "shell.execute_reply.started": "2022-04-07T06:14:26.587213Z"
    },
    "papermill": {
     "duration": 0.095156,
     "end_time": "2022-04-07T07:48:55.455534",
     "exception": false,
     "start_time": "2022-04-07T07:48:55.360378",
     "status": "completed"
    },
    "tags": []
   },
   "outputs": [
    {
     "data": {
      "text/plain": [
       "179"
      ]
     },
     "execution_count": 11,
     "metadata": {},
     "output_type": "execute_result"
    }
   ],
   "source": [
    "train_data['Age'].isnull().sum() # age의 결측치 179개"
   ]
  },
  {
   "cell_type": "code",
   "execution_count": 12,
   "id": "6c16ec2c",
   "metadata": {
    "execution": {
     "iopub.execute_input": "2022-04-07T07:48:55.630714Z",
     "iopub.status.busy": "2022-04-07T07:48:55.630067Z",
     "iopub.status.idle": "2022-04-07T07:48:55.637762Z",
     "shell.execute_reply": "2022-04-07T07:48:55.638294Z",
     "shell.execute_reply.started": "2022-04-07T06:14:26.595360Z"
    },
    "papermill": {
     "duration": 0.096864,
     "end_time": "2022-04-07T07:48:55.638467",
     "exception": false,
     "start_time": "2022-04-07T07:48:55.541603",
     "status": "completed"
    },
    "tags": []
   },
   "outputs": [
    {
     "data": {
      "text/plain": [
       "0"
      ]
     },
     "execution_count": 12,
     "metadata": {},
     "output_type": "execute_result"
    }
   ],
   "source": [
    "\n",
    "train_data['Age'].fillna(train_data['Age'].median(), inplace=True)\n",
    "test_data['Age'].fillna(train_data['Age'].median(), inplace=True) # 데이터누수가 일어나지 않게 , test_data 도 똑같이 !!\n",
    "train_data['Age'].isnull().sum()\n"
   ]
  },
  {
   "cell_type": "markdown",
   "id": "42b3d133",
   "metadata": {
    "papermill": {
     "duration": 0.086232,
     "end_time": "2022-04-07T07:48:55.812637",
     "exception": false,
     "start_time": "2022-04-07T07:48:55.726405",
     "status": "completed"
    },
    "tags": []
   },
   "source": [
    "#### 질적변수"
   ]
  },
  {
   "cell_type": "code",
   "execution_count": 13,
   "id": "e4d9f985",
   "metadata": {
    "execution": {
     "iopub.execute_input": "2022-04-07T07:48:55.990925Z",
     "iopub.status.busy": "2022-04-07T07:48:55.990250Z",
     "iopub.status.idle": "2022-04-07T07:48:56.000821Z",
     "shell.execute_reply": "2022-04-07T07:48:56.001338Z",
     "shell.execute_reply.started": "2022-04-07T06:14:26.613991Z"
    },
    "papermill": {
     "duration": 0.100496,
     "end_time": "2022-04-07T07:48:56.001644",
     "exception": false,
     "start_time": "2022-04-07T07:48:55.901148",
     "status": "completed"
    },
    "tags": []
   },
   "outputs": [
    {
     "data": {
      "text/html": [
       "<div>\n",
       "<style scoped>\n",
       "    .dataframe tbody tr th:only-of-type {\n",
       "        vertical-align: middle;\n",
       "    }\n",
       "\n",
       "    .dataframe tbody tr th {\n",
       "        vertical-align: top;\n",
       "    }\n",
       "\n",
       "    .dataframe thead th {\n",
       "        text-align: right;\n",
       "    }\n",
       "</style>\n",
       "<table border=\"1\" class=\"dataframe\">\n",
       "  <thead>\n",
       "    <tr style=\"text-align: right;\">\n",
       "      <th></th>\n",
       "      <th>PassengerId</th>\n",
       "      <th>Cabin</th>\n",
       "      <th>Name</th>\n",
       "    </tr>\n",
       "  </thead>\n",
       "  <tbody>\n",
       "    <tr>\n",
       "      <th>0</th>\n",
       "      <td>0001_01</td>\n",
       "      <td>B/0/P</td>\n",
       "      <td>Maham Ofracculy</td>\n",
       "    </tr>\n",
       "    <tr>\n",
       "      <th>1</th>\n",
       "      <td>0002_01</td>\n",
       "      <td>F/0/S</td>\n",
       "      <td>Juanna Vines</td>\n",
       "    </tr>\n",
       "    <tr>\n",
       "      <th>2</th>\n",
       "      <td>0003_01</td>\n",
       "      <td>A/0/S</td>\n",
       "      <td>Altark Susent</td>\n",
       "    </tr>\n",
       "    <tr>\n",
       "      <th>3</th>\n",
       "      <td>0003_02</td>\n",
       "      <td>A/0/S</td>\n",
       "      <td>Solam Susent</td>\n",
       "    </tr>\n",
       "    <tr>\n",
       "      <th>4</th>\n",
       "      <td>0004_01</td>\n",
       "      <td>F/1/S</td>\n",
       "      <td>Willy Santantines</td>\n",
       "    </tr>\n",
       "  </tbody>\n",
       "</table>\n",
       "</div>"
      ],
      "text/plain": [
       "  PassengerId  Cabin               Name\n",
       "0     0001_01  B/0/P    Maham Ofracculy\n",
       "1     0002_01  F/0/S       Juanna Vines\n",
       "2     0003_01  A/0/S      Altark Susent\n",
       "3     0003_02  A/0/S       Solam Susent\n",
       "4     0004_01  F/1/S  Willy Santantines"
      ]
     },
     "execution_count": 13,
     "metadata": {},
     "output_type": "execute_result"
    }
   ],
   "source": [
    "qual_features=['PassengerId', 'Cabin' ,'Name']\n",
    "train_data[qual_features].head()"
   ]
  },
  {
   "cell_type": "markdown",
   "id": "265cc639",
   "metadata": {
    "papermill": {
     "duration": 0.087235,
     "end_time": "2022-04-07T07:48:56.178895",
     "exception": false,
     "start_time": "2022-04-07T07:48:56.091660",
     "status": "completed"
    },
    "tags": []
   },
   "source": [
    "- passengerid 는 111_00 형태로 이루어져 잇는데 앞 부분 111 은 함께 이동하는 그룹을 의미한다\n",
    " + \n",
    "- cabin의 형태는 갑판/번호/측면이며, 좌현에서는 p,우현에서는 s중 하나가 될 수 있습니다 \n",
    " + cabin 각각의 의미를 가지니까 갑판/번호/측면 으로 나누어 줄 수 있다."
   ]
  },
  {
   "cell_type": "markdown",
   "id": "919c4538",
   "metadata": {
    "papermill": {
     "duration": 0.086707,
     "end_time": "2022-04-07T07:48:56.352504",
     "exception": false,
     "start_time": "2022-04-07T07:48:56.265797",
     "status": "completed"
    },
    "tags": []
   },
   "source": [
    "#### categorical data\n",
    "- 결측치 처리 해주기 위해서, mode() 로 최빈값을 보여준다"
   ]
  },
  {
   "cell_type": "code",
   "execution_count": 14,
   "id": "54e9ea92",
   "metadata": {
    "execution": {
     "iopub.execute_input": "2022-04-07T07:48:56.531092Z",
     "iopub.status.busy": "2022-04-07T07:48:56.530475Z",
     "iopub.status.idle": "2022-04-07T07:48:56.546510Z",
     "shell.execute_reply": "2022-04-07T07:48:56.547042Z",
     "shell.execute_reply.started": "2022-04-07T06:14:26.632579Z"
    },
    "papermill": {
     "duration": 0.106593,
     "end_time": "2022-04-07T07:48:56.547235",
     "exception": false,
     "start_time": "2022-04-07T07:48:56.440642",
     "status": "completed"
    },
    "tags": []
   },
   "outputs": [
    {
     "data": {
      "text/html": [
       "<div>\n",
       "<style scoped>\n",
       "    .dataframe tbody tr th:only-of-type {\n",
       "        vertical-align: middle;\n",
       "    }\n",
       "\n",
       "    .dataframe tbody tr th {\n",
       "        vertical-align: top;\n",
       "    }\n",
       "\n",
       "    .dataframe thead th {\n",
       "        text-align: right;\n",
       "    }\n",
       "</style>\n",
       "<table border=\"1\" class=\"dataframe\">\n",
       "  <thead>\n",
       "    <tr style=\"text-align: right;\">\n",
       "      <th></th>\n",
       "      <th>HomePlanet</th>\n",
       "      <th>CryoSleep</th>\n",
       "      <th>Destination</th>\n",
       "      <th>VIP</th>\n",
       "    </tr>\n",
       "  </thead>\n",
       "  <tbody>\n",
       "    <tr>\n",
       "      <th>0</th>\n",
       "      <td>Earth</td>\n",
       "      <td>False</td>\n",
       "      <td>TRAPPIST-1e</td>\n",
       "      <td>False</td>\n",
       "    </tr>\n",
       "  </tbody>\n",
       "</table>\n",
       "</div>"
      ],
      "text/plain": [
       "  HomePlanet CryoSleep  Destination    VIP\n",
       "0      Earth     False  TRAPPIST-1e  False"
      ]
     },
     "execution_count": 14,
     "metadata": {},
     "output_type": "execute_result"
    }
   ],
   "source": [
    "train_data[['HomePlanet','CryoSleep','Destination','VIP']].mode()"
   ]
  },
  {
   "cell_type": "markdown",
   "id": "5cc05a97",
   "metadata": {
    "papermill": {
     "duration": 0.089366,
     "end_time": "2022-04-07T07:48:56.725999",
     "exception": false,
     "start_time": "2022-04-07T07:48:56.636633",
     "status": "completed"
    },
    "tags": []
   },
   "source": [
    "- 결측치 값들은 최빈값으로 대체 시켜주는 전처리"
   ]
  },
  {
   "cell_type": "code",
   "execution_count": 15,
   "id": "1386c9ee",
   "metadata": {
    "execution": {
     "iopub.execute_input": "2022-04-07T07:48:56.905502Z",
     "iopub.status.busy": "2022-04-07T07:48:56.904817Z",
     "iopub.status.idle": "2022-04-07T07:48:56.923429Z",
     "shell.execute_reply": "2022-04-07T07:48:56.923872Z",
     "shell.execute_reply.started": "2022-04-07T06:14:26.656582Z"
    },
    "papermill": {
     "duration": 0.111019,
     "end_time": "2022-04-07T07:48:56.924069",
     "exception": false,
     "start_time": "2022-04-07T07:48:56.813050",
     "status": "completed"
    },
    "tags": []
   },
   "outputs": [],
   "source": [
    "train_data['HomePlanet'].fillna('Earth', inplace=True)\n",
    "test_data['HomePlanet'].fillna('Earth', inplace=True)\n",
    "\n",
    "train_data['CryoSleep'].fillna(False, inplace=True)\n",
    "test_data['CryoSleep'].fillna(False, inplace=True)\n",
    "\n",
    "train_data['Destination'].fillna('TRAPPIST-1e', inplace=True)\n",
    "test_data['Destination'].fillna('TRAPPIST-1e', inplace=True)\n",
    "\n",
    "train_data['VIP'].fillna(False, inplace=True)\n",
    "test_data['VIP'].fillna(False, inplace=True)\n",
    "\n"
   ]
  },
  {
   "cell_type": "code",
   "execution_count": 16,
   "id": "8032983b",
   "metadata": {
    "execution": {
     "iopub.execute_input": "2022-04-07T07:48:57.119449Z",
     "iopub.status.busy": "2022-04-07T07:48:57.101888Z",
     "iopub.status.idle": "2022-04-07T07:48:57.123232Z",
     "shell.execute_reply": "2022-04-07T07:48:57.122733Z",
     "shell.execute_reply.started": "2022-04-07T06:14:26.675708Z"
    },
    "papermill": {
     "duration": 0.111504,
     "end_time": "2022-04-07T07:48:57.123373",
     "exception": false,
     "start_time": "2022-04-07T07:48:57.011869",
     "status": "completed"
    },
    "tags": []
   },
   "outputs": [
    {
     "data": {
      "text/html": [
       "<div>\n",
       "<style scoped>\n",
       "    .dataframe tbody tr th:only-of-type {\n",
       "        vertical-align: middle;\n",
       "    }\n",
       "\n",
       "    .dataframe tbody tr th {\n",
       "        vertical-align: top;\n",
       "    }\n",
       "\n",
       "    .dataframe thead th {\n",
       "        text-align: right;\n",
       "    }\n",
       "</style>\n",
       "<table border=\"1\" class=\"dataframe\">\n",
       "  <thead>\n",
       "    <tr style=\"text-align: right;\">\n",
       "      <th></th>\n",
       "      <th>PassengerId</th>\n",
       "      <th>HomePlanet</th>\n",
       "      <th>CryoSleep</th>\n",
       "      <th>Cabin</th>\n",
       "      <th>Destination</th>\n",
       "      <th>Age</th>\n",
       "      <th>VIP</th>\n",
       "      <th>RoomService</th>\n",
       "      <th>FoodCourt</th>\n",
       "      <th>ShoppingMall</th>\n",
       "      <th>Spa</th>\n",
       "      <th>VRDeck</th>\n",
       "      <th>Name</th>\n",
       "      <th>Transported</th>\n",
       "    </tr>\n",
       "  </thead>\n",
       "  <tbody>\n",
       "    <tr>\n",
       "      <th>0</th>\n",
       "      <td>0001_01</td>\n",
       "      <td>Europa</td>\n",
       "      <td>False</td>\n",
       "      <td>B/0/P</td>\n",
       "      <td>TRAPPIST-1e</td>\n",
       "      <td>39.0</td>\n",
       "      <td>False</td>\n",
       "      <td>0.0</td>\n",
       "      <td>0.0</td>\n",
       "      <td>0.0</td>\n",
       "      <td>0.0</td>\n",
       "      <td>0.0</td>\n",
       "      <td>Maham Ofracculy</td>\n",
       "      <td>False</td>\n",
       "    </tr>\n",
       "    <tr>\n",
       "      <th>1</th>\n",
       "      <td>0002_01</td>\n",
       "      <td>Earth</td>\n",
       "      <td>False</td>\n",
       "      <td>F/0/S</td>\n",
       "      <td>TRAPPIST-1e</td>\n",
       "      <td>24.0</td>\n",
       "      <td>False</td>\n",
       "      <td>109.0</td>\n",
       "      <td>9.0</td>\n",
       "      <td>25.0</td>\n",
       "      <td>549.0</td>\n",
       "      <td>44.0</td>\n",
       "      <td>Juanna Vines</td>\n",
       "      <td>True</td>\n",
       "    </tr>\n",
       "    <tr>\n",
       "      <th>2</th>\n",
       "      <td>0003_01</td>\n",
       "      <td>Europa</td>\n",
       "      <td>False</td>\n",
       "      <td>A/0/S</td>\n",
       "      <td>TRAPPIST-1e</td>\n",
       "      <td>58.0</td>\n",
       "      <td>True</td>\n",
       "      <td>43.0</td>\n",
       "      <td>3576.0</td>\n",
       "      <td>0.0</td>\n",
       "      <td>6715.0</td>\n",
       "      <td>49.0</td>\n",
       "      <td>Altark Susent</td>\n",
       "      <td>False</td>\n",
       "    </tr>\n",
       "    <tr>\n",
       "      <th>3</th>\n",
       "      <td>0003_02</td>\n",
       "      <td>Europa</td>\n",
       "      <td>False</td>\n",
       "      <td>A/0/S</td>\n",
       "      <td>TRAPPIST-1e</td>\n",
       "      <td>33.0</td>\n",
       "      <td>False</td>\n",
       "      <td>0.0</td>\n",
       "      <td>1283.0</td>\n",
       "      <td>371.0</td>\n",
       "      <td>3329.0</td>\n",
       "      <td>193.0</td>\n",
       "      <td>Solam Susent</td>\n",
       "      <td>False</td>\n",
       "    </tr>\n",
       "    <tr>\n",
       "      <th>4</th>\n",
       "      <td>0004_01</td>\n",
       "      <td>Earth</td>\n",
       "      <td>False</td>\n",
       "      <td>F/1/S</td>\n",
       "      <td>TRAPPIST-1e</td>\n",
       "      <td>16.0</td>\n",
       "      <td>False</td>\n",
       "      <td>303.0</td>\n",
       "      <td>70.0</td>\n",
       "      <td>151.0</td>\n",
       "      <td>565.0</td>\n",
       "      <td>2.0</td>\n",
       "      <td>Willy Santantines</td>\n",
       "      <td>True</td>\n",
       "    </tr>\n",
       "  </tbody>\n",
       "</table>\n",
       "</div>"
      ],
      "text/plain": [
       "  PassengerId HomePlanet  CryoSleep  Cabin  Destination   Age    VIP  \\\n",
       "0     0001_01     Europa      False  B/0/P  TRAPPIST-1e  39.0  False   \n",
       "1     0002_01      Earth      False  F/0/S  TRAPPIST-1e  24.0  False   \n",
       "2     0003_01     Europa      False  A/0/S  TRAPPIST-1e  58.0   True   \n",
       "3     0003_02     Europa      False  A/0/S  TRAPPIST-1e  33.0  False   \n",
       "4     0004_01      Earth      False  F/1/S  TRAPPIST-1e  16.0  False   \n",
       "\n",
       "   RoomService  FoodCourt  ShoppingMall     Spa  VRDeck               Name  \\\n",
       "0          0.0        0.0           0.0     0.0     0.0    Maham Ofracculy   \n",
       "1        109.0        9.0          25.0   549.0    44.0       Juanna Vines   \n",
       "2         43.0     3576.0           0.0  6715.0    49.0      Altark Susent   \n",
       "3          0.0     1283.0         371.0  3329.0   193.0       Solam Susent   \n",
       "4        303.0       70.0         151.0   565.0     2.0  Willy Santantines   \n",
       "\n",
       "   Transported  \n",
       "0        False  \n",
       "1         True  \n",
       "2        False  \n",
       "3        False  \n",
       "4         True  "
      ]
     },
     "execution_count": 16,
     "metadata": {},
     "output_type": "execute_result"
    }
   ],
   "source": [
    "train_data.head()"
   ]
  },
  {
   "cell_type": "markdown",
   "id": "a9c7d96f",
   "metadata": {
    "papermill": {
     "duration": 0.087879,
     "end_time": "2022-04-07T07:48:57.299421",
     "exception": false,
     "start_time": "2022-04-07T07:48:57.211542",
     "status": "completed"
    },
    "tags": []
   },
   "source": [
    "#### 파생변수"
   ]
  },
  {
   "cell_type": "markdown",
   "id": "96ed0c59",
   "metadata": {
    "papermill": {
     "duration": 0.087483,
     "end_time": "2022-04-07T07:48:57.475339",
     "exception": false,
     "start_time": "2022-04-07T07:48:57.387856",
     "status": "completed"
    },
    "tags": []
   },
   "source": [
    "#### 아까  위에 말했던, 비용에 대한 값을 다 총합을 시켜주고 비용을 쓰지 않은 사람과 구분해 준다"
   ]
  },
  {
   "cell_type": "code",
   "execution_count": 17,
   "id": "9c371e1c",
   "metadata": {
    "execution": {
     "iopub.execute_input": "2022-04-07T07:48:57.659764Z",
     "iopub.status.busy": "2022-04-07T07:48:57.659138Z",
     "iopub.status.idle": "2022-04-07T07:48:57.668322Z",
     "shell.execute_reply": "2022-04-07T07:48:57.667789Z",
     "shell.execute_reply.started": "2022-04-07T06:14:26.703906Z"
    },
    "papermill": {
     "duration": 0.10473,
     "end_time": "2022-04-07T07:48:57.668455",
     "exception": false,
     "start_time": "2022-04-07T07:48:57.563725",
     "status": "completed"
    },
    "tags": []
   },
   "outputs": [],
   "source": [
    "# 비용을 아예 쓰지 않은 사람 구분 해주고 모든 비용들을 합쳐준다\n",
    "train_data['Expenditure']=train_data[exp_features].sum(axis=1)\n",
    "train_data['No_spending']=(train_data['Expenditure']==0).astype(int)\n",
    "\n",
    "test_data['Expenditure']=test_data[exp_features].sum(axis=1)\n",
    "test_data['No_spending']=(test_data['Expenditure']==0).astype(int)\n",
    "\n"
   ]
  },
  {
   "cell_type": "code",
   "execution_count": 18,
   "id": "dcc3f240",
   "metadata": {
    "execution": {
     "iopub.execute_input": "2022-04-07T07:48:57.853210Z",
     "iopub.status.busy": "2022-04-07T07:48:57.852544Z",
     "iopub.status.idle": "2022-04-07T07:48:57.862721Z",
     "shell.execute_reply": "2022-04-07T07:48:57.863196Z",
     "shell.execute_reply.started": "2022-04-07T06:14:26.719652Z"
    },
    "papermill": {
     "duration": 0.10562,
     "end_time": "2022-04-07T07:48:57.863371",
     "exception": false,
     "start_time": "2022-04-07T07:48:57.757751",
     "status": "completed"
    },
    "tags": []
   },
   "outputs": [],
   "source": [
    "# exp_features 에도, 최빈값인 0을 넣어줍니다\n",
    "for col in exp_features:\n",
    "    train_data.loc[train_data[col].isna(),col]=0\n",
    "    test_data.loc[test_data[col].isna(),col]=0"
   ]
  },
  {
   "cell_type": "code",
   "execution_count": 19,
   "id": "0facc01f",
   "metadata": {
    "execution": {
     "iopub.execute_input": "2022-04-07T07:48:58.051838Z",
     "iopub.status.busy": "2022-04-07T07:48:58.051181Z",
     "iopub.status.idle": "2022-04-07T07:48:58.054399Z",
     "shell.execute_reply": "2022-04-07T07:48:58.053752Z",
     "shell.execute_reply.started": "2022-04-07T06:14:26.734606Z"
    },
    "papermill": {
     "duration": 0.103008,
     "end_time": "2022-04-07T07:48:58.054536",
     "exception": false,
     "start_time": "2022-04-07T07:48:57.951528",
     "status": "completed"
    },
    "tags": []
   },
   "outputs": [],
   "source": [
    "#\n",
    "train_data['Cabin'].fillna('Z/9999/Z', inplace=True)\n",
    "test_data['Cabin'].fillna('Z/9999/Z', inplace=True)\n",
    "\n",
    "train_data['Name'].fillna('No Name', inplace=True)\n",
    "test_data['Name'].fillna('No Name', inplace=True)"
   ]
  },
  {
   "cell_type": "markdown",
   "id": "0b47e138",
   "metadata": {
    "papermill": {
     "duration": 0.087754,
     "end_time": "2022-04-07T07:48:58.230605",
     "exception": false,
     "start_time": "2022-04-07T07:48:58.142851",
     "status": "completed"
    },
    "tags": []
   },
   "source": [
    "### 파생변수"
   ]
  },
  {
   "cell_type": "code",
   "execution_count": 20,
   "id": "82d4c9ac",
   "metadata": {
    "execution": {
     "iopub.execute_input": "2022-04-07T07:48:58.427416Z",
     "iopub.status.busy": "2022-04-07T07:48:58.418644Z",
     "iopub.status.idle": "2022-04-07T07:48:58.609668Z",
     "shell.execute_reply": "2022-04-07T07:48:58.610161Z",
     "shell.execute_reply.started": "2022-04-07T06:14:26.748466Z"
    },
    "papermill": {
     "duration": 0.288045,
     "end_time": "2022-04-07T07:48:58.610337",
     "exception": false,
     "start_time": "2022-04-07T07:48:58.322292",
     "status": "completed"
    },
    "tags": []
   },
   "outputs": [
    {
     "data": {
      "image/png": "[encoded data removed]",
      "text/plain": [
       "<Figure size 720x432 with 1 Axes>"
      ]
     },
     "metadata": {
      "needs_background": "light"
     },
     "output_type": "display_data"
    }
   ],
   "source": [
    "#위에서 언급했던 나이대별로 타겟값이 차이를 보이기때문에, 나이별로 묶어주어, 과적합 방지\n",
    "\n",
    "train_data['Under_18']=(train_data['Age']<18).astype(int)\n",
    "train_data['18_to_25']=((train_data['Age']>=18) & (train_data['Age']<=25)).astype(int)\n",
    "train_data['Over_25']=(train_data['Age']>25).astype(int)\n",
    "\n",
    "test_data['Under_18']=(test_data['Age']<18).astype(int)\n",
    "test_data['18_to_25']=((test_data['Age']>=18) & (test_data['Age']<=25)).astype(int)\n",
    "test_data['Over_25']=(test_data['Age']>25).astype(int)\n",
    "\n",
    "train_data['Age_plot']=train_data['Under_18']+2*train_data['18_to_25']+3*train_data['Over_25']\n",
    "plt.figure(figsize=(10, 6))\n",
    "g=sns.countplot(data=train_data, x='Age_plot', hue='Transported')\n",
    "plt.title('Age status distribution')\n",
    "g.set_xticklabels(['Under 18', '18-25', 'Over 25'])\n",
    "train_data.drop('Age_plot', axis=1, inplace=True)\n"
   ]
  },
  {
   "cell_type": "markdown",
   "id": "10e575fb",
   "metadata": {
    "papermill": {
     "duration": 0.092174,
     "end_time": "2022-04-07T07:48:58.791942",
     "exception": false,
     "start_time": "2022-04-07T07:48:58.699768",
     "status": "completed"
    },
    "tags": []
   },
   "source": [
    "#### 비용에대한 파생변수\n",
    "\n",
    "- 비용을 지출한 사람은 비용의 총합이라는 feature 를 만들어주고\n",
    "- 비용을 지출하지 않은사람들은 따로 떼어준다."
   ]
  },
  {
   "cell_type": "code",
   "execution_count": 21,
   "id": "55f64644",
   "metadata": {
    "execution": {
     "iopub.execute_input": "2022-04-07T07:48:58.983941Z",
     "iopub.status.busy": "2022-04-07T07:48:58.982868Z",
     "iopub.status.idle": "2022-04-07T07:49:00.409879Z",
     "shell.execute_reply": "2022-04-07T07:49:00.410415Z",
     "shell.execute_reply.started": "2022-04-07T06:14:26.996661Z"
    },
    "papermill": {
     "duration": 1.528111,
     "end_time": "2022-04-07T07:49:00.410584",
     "exception": false,
     "start_time": "2022-04-07T07:48:58.882473",
     "status": "completed"
    },
    "tags": []
   },
   "outputs": [
    {
     "data": {
      "image/png": "[encoded data removed]",
      "text/plain": [
       "<Figure size 864x288 with 2 Axes>"
      ]
     },
     "metadata": {
      "needs_background": "light"
     },
     "output_type": "display_data"
    }
   ],
   "source": [
    "\n",
    "train_data['Expenditure']=train_data[exp_features].sum(axis=1)\n",
    "train_data['No_spending']=(train_data['Expenditure']==0).astype(int)\n",
    "\n",
    "# New features - test set\n",
    "test_data['Expenditure']=test_data[exp_features].sum(axis=1)\n",
    "test_data['No_spending']=(test_data['Expenditure']==0).astype(int)\n",
    "\n",
    "# Plot distribution of new features\n",
    "plt.figure(figsize=(12,4))\n",
    "plt.subplot(1,2,1)\n",
    "sns.histplot(data=train_data, x='Expenditure', hue='Transported', kde = True, bins=200)\n",
    "plt.title('Total expenditure (truncated)')\n",
    "plt.ylim([0,200])\n",
    "plt.xlim([0,15000])\n",
    "\n",
    "plt.subplot(1,2,2)\n",
    "sns.countplot(data=train_data, x='No_spending', hue='Transported', palette = 'viridis')\n",
    "plt.title('No spending indicator')\n",
    "plt.show()"
   ]
  },
  {
   "cell_type": "markdown",
   "id": "8cd4c034",
   "metadata": {
    "papermill": {
     "duration": 0.090336,
     "end_time": "2022-04-07T07:49:00.592412",
     "exception": false,
     "start_time": "2022-04-07T07:49:00.502076",
     "status": "completed"
    },
    "tags": []
   },
   "source": [
    "- 이 그래프에서도 확연히 볼 수 있듯이  비용을 안 쓴사람은 쓴 사람에 비해 탑승율이 더 높았다\n"
   ]
  },
  {
   "cell_type": "markdown",
   "id": "9bf1e143",
   "metadata": {
    "papermill": {
     "duration": 0.091438,
     "end_time": "2022-04-07T07:49:00.774046",
     "exception": false,
     "start_time": "2022-04-07T07:49:00.682608",
     "status": "completed"
    },
    "tags": []
   },
   "source": [
    "### passenger 는 그룹을 나타내 주기 때문에 그 룹을 나누어 준다. "
   ]
  },
  {
   "cell_type": "code",
   "execution_count": 22,
   "id": "7cfcf3fe",
   "metadata": {
    "execution": {
     "iopub.execute_input": "2022-04-07T07:49:00.972153Z",
     "iopub.status.busy": "2022-04-07T07:49:00.971136Z",
     "iopub.status.idle": "2022-04-07T07:49:11.746324Z",
     "shell.execute_reply": "2022-04-07T07:49:11.746815Z",
     "shell.execute_reply.started": "2022-04-07T06:14:28.351833Z"
    },
    "papermill": {
     "duration": 10.878507,
     "end_time": "2022-04-07T07:49:11.747006",
     "exception": false,
     "start_time": "2022-04-07T07:49:00.868499",
     "status": "completed"
    },
    "tags": []
   },
   "outputs": [
    {
     "data": {
      "image/png": "[encoded data removed]",
      "text/plain": [
       "<Figure size 864x864 with 2 Axes>"
      ]
     },
     "metadata": {
      "needs_background": "light"
     },
     "output_type": "display_data"
    }
   ],
   "source": [
    "# New features - training set\n",
    "train_data['Group'] = train_data['PassengerId'].apply(lambda x: x.split('_')[0]).astype(int)\n",
    "train_data['Group_size']=train_data['Group'].map(lambda x: train_data['Group'].value_counts()[x])\n",
    "\n",
    "# New features - test set\n",
    "test_data['Group'] = test_data['PassengerId'].apply(lambda x: x.split('_')[0]).astype(int)\n",
    "test_data['Group_size']=test_data['Group'].map(lambda x: test_data['Group'].value_counts()[x])\n",
    "\n",
    "# Plot distribution of new features\n",
    "plt.figure(figsize=(12,12))\n",
    "plt.subplot(2,1,1)\n",
    "sns.histplot(data=train_data, x='Group', hue='Transported', bins = 200, kde = True)\n",
    "\n",
    "plt.subplot(2,1,2)\n",
    "sns.countplot(data=train_data, x='Group_size', hue='Transported')\n",
    "fig.tight_layout()\n",
    "plt.show()"
   ]
  },
  {
   "cell_type": "markdown",
   "id": "efeb2b59",
   "metadata": {
    "papermill": {
     "duration": 0.093271,
     "end_time": "2022-04-07T07:49:11.937075",
     "exception": false,
     "start_time": "2022-04-07T07:49:11.843804",
     "status": "completed"
    },
    "tags": []
   },
   "source": [
    "- 그룹 지표는 종류가 너무 많기 떄문에 인코딩 불가\n",
    "- 반면 group_size 는 solo 로 온 사람을 색출 할 수 있기 떄문에 유용하다."
   ]
  },
  {
   "cell_type": "code",
   "execution_count": 23,
   "id": "adac9810",
   "metadata": {
    "execution": {
     "iopub.execute_input": "2022-04-07T07:49:12.128379Z",
     "iopub.status.busy": "2022-04-07T07:49:12.127425Z",
     "iopub.status.idle": "2022-04-07T07:49:12.305178Z",
     "shell.execute_reply": "2022-04-07T07:49:12.304683Z",
     "shell.execute_reply.started": "2022-04-07T06:14:39.185425Z"
    },
    "papermill": {
     "duration": 0.274029,
     "end_time": "2022-04-07T07:49:12.305317",
     "exception": false,
     "start_time": "2022-04-07T07:49:12.031288",
     "status": "completed"
    },
    "tags": []
   },
   "outputs": [
    {
     "data": {
      "text/plain": [
       "(0.0, 3000.0)"
      ]
     },
     "execution_count": 23,
     "metadata": {},
     "output_type": "execute_result"
    },
    {
     "data": {
      "image/png": "[encoded data removed]",
      "text/plain": [
       "<Figure size 720x432 with 1 Axes>"
      ]
     },
     "metadata": {
      "needs_background": "light"
     },
     "output_type": "display_data"
    }
   ],
   "source": [
    "# New feature\n",
    "train_data['Solo']=(train_data['Group_size']==1).astype(int)\n",
    "test_data['Solo']=(test_data['Group_size']==1).astype(int)\n",
    "\n",
    "# New feature distribution\n",
    "plt.figure(figsize=(10,6))\n",
    "sns.countplot(data=train_data, x='Solo', hue='Transported')\n",
    "plt.title('Passenger travelling solo or not')\n",
    "plt.ylim([0,3000])"
   ]
  },
  {
   "cell_type": "markdown",
   "id": "c67f77e9",
   "metadata": {
    "papermill": {
     "duration": 0.093135,
     "end_time": "2022-04-07T07:49:12.492408",
     "exception": false,
     "start_time": "2022-04-07T07:49:12.399273",
     "status": "completed"
    },
    "tags": []
   },
   "source": [
    "- 그룹으로 가지 않은 사람들은 탑승했을가능성이 크고 , 솔로로 간 사람들은 탑승하지 못했을 가능성이 크다"
   ]
  },
  {
   "cell_type": "markdown",
   "id": "b07ce087",
   "metadata": {
    "papermill": {
     "duration": 0.093472,
     "end_time": "2022-04-07T07:49:12.680107",
     "exception": false,
     "start_time": "2022-04-07T07:49:12.586635",
     "status": "completed"
    },
    "tags": []
   },
   "source": [
    "#### cabin의 위치\n",
    "-cabin deck 의 위치별로 true false 가 명확하게 구분되는 것을 볼 수 있다"
   ]
  },
  {
   "cell_type": "code",
   "execution_count": 24,
   "id": "4b187f83",
   "metadata": {
    "execution": {
     "iopub.execute_input": "2022-04-07T07:49:12.884636Z",
     "iopub.status.busy": "2022-04-07T07:49:12.883620Z",
     "iopub.status.idle": "2022-04-07T07:49:16.678639Z",
     "shell.execute_reply": "2022-04-07T07:49:16.679131Z",
     "shell.execute_reply.started": "2022-04-07T06:14:39.411074Z"
    },
    "papermill": {
     "duration": 3.901395,
     "end_time": "2022-04-07T07:49:16.679298",
     "exception": false,
     "start_time": "2022-04-07T07:49:12.777903",
     "status": "completed"
    },
    "tags": []
   },
   "outputs": [
    {
     "data": {
      "image/png": "[encoded data removed]",
      "text/plain": [
       "<Figure size 864x1296 with 3 Axes>"
      ]
     },
     "metadata": {
      "needs_background": "light"
     },
     "output_type": "display_data"
    }
   ],
   "source": [
    "# New features - training set\n",
    "train_data['Cabin_deck'] = train_data['Cabin'].apply(lambda x: x.split('/')[0])\n",
    "train_data['Cabin_number'] = train_data['Cabin'].apply(lambda x: x.split('/')[1]).astype(int)\n",
    "train_data['Cabin_side'] = train_data['Cabin'].apply(lambda x: x.split('/')[2])\n",
    "\n",
    "# New features - test set\n",
    "test_data['Cabin_deck'] = test_data['Cabin'].apply(lambda x: x.split('/')[0])\n",
    "test_data['Cabin_number'] = test_data['Cabin'].apply(lambda x: x.split('/')[1]).astype(int)\n",
    "test_data['Cabin_side'] = test_data['Cabin'].apply(lambda x: x.split('/')[2])\n",
    "\n",
    "# Plot distribution of new features\n",
    "fig=plt.figure(figsize=(12,18))\n",
    "plt.subplot(3,1,1)\n",
    "sns.countplot(data=train_data, x='Cabin_deck', hue='Transported', order=['A','B','C','D','E','F','G','T','Z'])\n",
    "plt.title('Cabin deck')\n",
    "\n",
    "plt.subplot(3,1,2)\n",
    "sns.histplot(data=train_data, x='Cabin_number', hue='Transported',binwidth=20, kde = True)\n",
    "plt.vlines(300, ymin=0, ymax=200, color='black')\n",
    "plt.vlines(600, ymin=0, ymax=200, color='black')\n",
    "plt.vlines(900, ymin=0, ymax=200, color='black')\n",
    "plt.vlines(1200, ymin=0, ymax=200, color='black')\n",
    "plt.vlines(1500, ymin=0, ymax=200, color='black')\n",
    "plt.vlines(1800, ymin=0, ymax=200, color='black')\n",
    "plt.title('Cabin number')\n",
    "plt.xlim([0,2000])\n",
    "\n",
    "plt.subplot(3,1,3)\n",
    "sns.countplot(data=train_data, x='Cabin_side', hue='Transported')\n",
    "plt.title('Cabin side')\n",
    "fig.tight_layout()"
   ]
  },
  {
   "cell_type": "markdown",
   "id": "ad54ca57",
   "metadata": {
    "papermill": {
     "duration": 0.098647,
     "end_time": "2022-04-07T07:49:16.874929",
     "exception": false,
     "start_time": "2022-04-07T07:49:16.776282",
     "status": "completed"
    },
    "tags": []
   },
   "source": [
    "- cabin number 를 보면 300개의 cabin 을 기준으로 그룹화 되는 것 을 확인 할 수 있다."
   ]
  },
  {
   "cell_type": "markdown",
   "id": "9c8c9fc6",
   "metadata": {
    "papermill": {
     "duration": 0.097347,
     "end_time": "2022-04-07T07:49:17.070405",
     "exception": false,
     "start_time": "2022-04-07T07:49:16.973058",
     "status": "completed"
    },
    "tags": []
   },
   "source": [
    "#### 위에서 얻은 인사이트로 cabin number 에 따라서 새로운 변수를 생성시켜 주어 보자 !!"
   ]
  },
  {
   "cell_type": "code",
   "execution_count": 25,
   "id": "2491d01d",
   "metadata": {
    "execution": {
     "iopub.execute_input": "2022-04-07T07:49:17.268776Z",
     "iopub.status.busy": "2022-04-07T07:49:17.268060Z",
     "iopub.status.idle": "2022-04-07T07:49:17.532205Z",
     "shell.execute_reply": "2022-04-07T07:49:17.532675Z",
     "shell.execute_reply.started": "2022-04-07T06:14:42.830553Z"
    },
    "papermill": {
     "duration": 0.364873,
     "end_time": "2022-04-07T07:49:17.532872",
     "exception": false,
     "start_time": "2022-04-07T07:49:17.167999",
     "status": "completed"
    },
    "tags": []
   },
   "outputs": [
    {
     "data": {
      "image/png": "[encoded data removed]",
      "text/plain": [
       "<Figure size 864x432 with 1 Axes>"
      ]
     },
     "metadata": {
      "needs_background": "light"
     },
     "output_type": "display_data"
    }
   ],
   "source": [
    "\n",
    "\n",
    "# New features - training set\n",
    "train_data['Cabin_region1']=(train_data['Cabin_number']<300).astype(int)   # one-hot encoding\n",
    "train_data['Cabin_region2']=((train_data['Cabin_number']>=300) & (train_data['Cabin_number']<600)).astype(int)\n",
    "train_data['Cabin_region3']=((train_data['Cabin_number']>=600) & (train_data['Cabin_number']<900)).astype(int)\n",
    "train_data['Cabin_region4']=((train_data['Cabin_number']>=900) & (train_data['Cabin_number']<1200)).astype(int)\n",
    "train_data['Cabin_region5']=((train_data['Cabin_number']>=1200) & (train_data['Cabin_number']<1500)).astype(int)\n",
    "train_data['Cabin_region6']=((train_data['Cabin_number']>=1500) & (train_data['Cabin_number']<1800)).astype(int)\n",
    "train_data['Cabin_region7']=(train_data['Cabin_number']>=1800).astype(int)\n",
    "\n",
    "# New features - test set\n",
    "test_data['Cabin_region1']=(test_data['Cabin_number']<300).astype(int)   # one-hot encoding\n",
    "test_data['Cabin_region2']=((test_data['Cabin_number']>=300) & (test_data['Cabin_number']<600)).astype(int)\n",
    "test_data['Cabin_region3']=((test_data['Cabin_number']>=600) & (test_data['Cabin_number']<900)).astype(int)\n",
    "test_data['Cabin_region4']=((test_data['Cabin_number']>=900) & (test_data['Cabin_number']<1200)).astype(int)\n",
    "test_data['Cabin_region5']=((test_data['Cabin_number']>=1200) & (test_data['Cabin_number']<1500)).astype(int)\n",
    "test_data['Cabin_region6']=((test_data['Cabin_number']>=1500) & (test_data['Cabin_number']<1800)).astype(int)\n",
    "test_data['Cabin_region7']=(test_data['Cabin_number']>=1800).astype(int)\n",
    "\n",
    "# Plot distribution of new features\n",
    "plt.figure(figsize=(12,6))\n",
    "train_data['Cabin_regions_plot']=(train_data['Cabin_region1']+2*train_data['Cabin_region2']+3*train_data['Cabin_region3']+4*train_data['Cabin_region4']+5*train_data['Cabin_region5']+6*train_data['Cabin_region6']+7*train_data['Cabin_region7']).astype(int)\n",
    "sns.countplot(data=train_data, x='Cabin_regions_plot', hue='Transported', palette = 'viridis')\n",
    "plt.title('Cabin regions')\n",
    "train_data.drop('Cabin_regions_plot', axis=1, inplace=True)"
   ]
  },
  {
   "cell_type": "code",
   "execution_count": 26,
   "id": "5f1268df",
   "metadata": {
    "execution": {
     "iopub.execute_input": "2022-04-07T07:49:17.732219Z",
     "iopub.status.busy": "2022-04-07T07:49:17.731541Z",
     "iopub.status.idle": "2022-04-07T07:49:49.643302Z",
     "shell.execute_reply": "2022-04-07T07:49:49.643825Z",
     "shell.execute_reply.started": "2022-04-07T06:14:43.141125Z"
    },
    "papermill": {
     "duration": 32.012553,
     "end_time": "2022-04-07T07:49:49.644031",
     "exception": false,
     "start_time": "2022-04-07T07:49:17.631478",
     "status": "completed"
    },
    "tags": []
   },
   "outputs": [
    {
     "data": {
      "image/png": "[encoded data removed]",
      "text/plain": [
       "<Figure size 864x432 with 1 Axes>"
      ]
     },
     "metadata": {
      "needs_background": "light"
     },
     "output_type": "display_data"
    }
   ],
   "source": [
    "# New features - training set\n",
    "train_data['Surname']=train_data['Name'].str.split().str[-1]\n",
    "train_data['Family_size']=train_data['Surname'].map(lambda x: train_data['Surname'].value_counts()[x])\n",
    "\n",
    "# New features - test set\n",
    "test_data['Surname']=test_data['Name'].str.split().str[-1]\n",
    "test_data['Family_size']=test_data['Surname'].map(lambda x: test_data['Surname'].value_counts()[x])\n",
    "\n",
    "# Set outliers (no name) to have no family\n",
    "train_data.loc[train_data['Family_size']==200,'Family_size']=0\n",
    "test_data.loc[test_data['Family_size']==200,'Family_size']=0\n",
    "\n",
    "# New feature distribution\n",
    "plt.figure(figsize=(12,6))\n",
    "sns.countplot(data=train_data, x='Family_size', hue='Transported')\n",
    "plt.show()"
   ]
  },
  {
   "cell_type": "markdown",
   "id": "a7118ef6",
   "metadata": {
    "papermill": {
     "duration": 0.099895,
     "end_time": "2022-04-07T07:49:49.842409",
     "exception": false,
     "start_time": "2022-04-07T07:49:49.742514",
     "status": "completed"
    },
    "tags": []
   },
   "source": [
    "### 불필요한 변수 제거"
   ]
  },
  {
   "cell_type": "code",
   "execution_count": 27,
   "id": "74965165",
   "metadata": {
    "execution": {
     "iopub.execute_input": "2022-04-07T07:49:50.048402Z",
     "iopub.status.busy": "2022-04-07T07:49:50.047739Z",
     "iopub.status.idle": "2022-04-07T07:49:50.076071Z",
     "shell.execute_reply": "2022-04-07T07:49:50.076673Z",
     "shell.execute_reply.started": "2022-04-07T06:15:05.245563Z"
    },
    "papermill": {
     "duration": 0.135365,
     "end_time": "2022-04-07T07:49:50.076836",
     "exception": false,
     "start_time": "2022-04-07T07:49:49.941471",
     "status": "completed"
    },
    "tags": []
   },
   "outputs": [
    {
     "data": {
      "text/html": [
       "<div>\n",
       "<style scoped>\n",
       "    .dataframe tbody tr th:only-of-type {\n",
       "        vertical-align: middle;\n",
       "    }\n",
       "\n",
       "    .dataframe tbody tr th {\n",
       "        vertical-align: top;\n",
       "    }\n",
       "\n",
       "    .dataframe thead th {\n",
       "        text-align: right;\n",
       "    }\n",
       "</style>\n",
       "<table border=\"1\" class=\"dataframe\">\n",
       "  <thead>\n",
       "    <tr style=\"text-align: right;\">\n",
       "      <th></th>\n",
       "      <th>HomePlanet</th>\n",
       "      <th>CryoSleep</th>\n",
       "      <th>Destination</th>\n",
       "      <th>Age</th>\n",
       "      <th>RoomService</th>\n",
       "      <th>FoodCourt</th>\n",
       "      <th>ShoppingMall</th>\n",
       "      <th>Spa</th>\n",
       "      <th>VRDeck</th>\n",
       "      <th>Transported</th>\n",
       "      <th>...</th>\n",
       "      <th>Cabin_deck</th>\n",
       "      <th>Cabin_side</th>\n",
       "      <th>Cabin_region1</th>\n",
       "      <th>Cabin_region2</th>\n",
       "      <th>Cabin_region3</th>\n",
       "      <th>Cabin_region4</th>\n",
       "      <th>Cabin_region5</th>\n",
       "      <th>Cabin_region6</th>\n",
       "      <th>Cabin_region7</th>\n",
       "      <th>Family_size</th>\n",
       "    </tr>\n",
       "  </thead>\n",
       "  <tbody>\n",
       "    <tr>\n",
       "      <th>0</th>\n",
       "      <td>Europa</td>\n",
       "      <td>False</td>\n",
       "      <td>TRAPPIST-1e</td>\n",
       "      <td>39.0</td>\n",
       "      <td>0.0</td>\n",
       "      <td>0.0</td>\n",
       "      <td>0.0</td>\n",
       "      <td>0.0</td>\n",
       "      <td>0.0</td>\n",
       "      <td>False</td>\n",
       "      <td>...</td>\n",
       "      <td>B</td>\n",
       "      <td>P</td>\n",
       "      <td>1</td>\n",
       "      <td>0</td>\n",
       "      <td>0</td>\n",
       "      <td>0</td>\n",
       "      <td>0</td>\n",
       "      <td>0</td>\n",
       "      <td>0</td>\n",
       "      <td>1</td>\n",
       "    </tr>\n",
       "    <tr>\n",
       "      <th>1</th>\n",
       "      <td>Earth</td>\n",
       "      <td>False</td>\n",
       "      <td>TRAPPIST-1e</td>\n",
       "      <td>24.0</td>\n",
       "      <td>109.0</td>\n",
       "      <td>9.0</td>\n",
       "      <td>25.0</td>\n",
       "      <td>549.0</td>\n",
       "      <td>44.0</td>\n",
       "      <td>True</td>\n",
       "      <td>...</td>\n",
       "      <td>F</td>\n",
       "      <td>S</td>\n",
       "      <td>1</td>\n",
       "      <td>0</td>\n",
       "      <td>0</td>\n",
       "      <td>0</td>\n",
       "      <td>0</td>\n",
       "      <td>0</td>\n",
       "      <td>0</td>\n",
       "      <td>4</td>\n",
       "    </tr>\n",
       "    <tr>\n",
       "      <th>2</th>\n",
       "      <td>Europa</td>\n",
       "      <td>False</td>\n",
       "      <td>TRAPPIST-1e</td>\n",
       "      <td>58.0</td>\n",
       "      <td>43.0</td>\n",
       "      <td>3576.0</td>\n",
       "      <td>0.0</td>\n",
       "      <td>6715.0</td>\n",
       "      <td>49.0</td>\n",
       "      <td>False</td>\n",
       "      <td>...</td>\n",
       "      <td>A</td>\n",
       "      <td>S</td>\n",
       "      <td>1</td>\n",
       "      <td>0</td>\n",
       "      <td>0</td>\n",
       "      <td>0</td>\n",
       "      <td>0</td>\n",
       "      <td>0</td>\n",
       "      <td>0</td>\n",
       "      <td>6</td>\n",
       "    </tr>\n",
       "    <tr>\n",
       "      <th>3</th>\n",
       "      <td>Europa</td>\n",
       "      <td>False</td>\n",
       "      <td>TRAPPIST-1e</td>\n",
       "      <td>33.0</td>\n",
       "      <td>0.0</td>\n",
       "      <td>1283.0</td>\n",
       "      <td>371.0</td>\n",
       "      <td>3329.0</td>\n",
       "      <td>193.0</td>\n",
       "      <td>False</td>\n",
       "      <td>...</td>\n",
       "      <td>A</td>\n",
       "      <td>S</td>\n",
       "      <td>1</td>\n",
       "      <td>0</td>\n",
       "      <td>0</td>\n",
       "      <td>0</td>\n",
       "      <td>0</td>\n",
       "      <td>0</td>\n",
       "      <td>0</td>\n",
       "      <td>6</td>\n",
       "    </tr>\n",
       "    <tr>\n",
       "      <th>4</th>\n",
       "      <td>Earth</td>\n",
       "      <td>False</td>\n",
       "      <td>TRAPPIST-1e</td>\n",
       "      <td>16.0</td>\n",
       "      <td>303.0</td>\n",
       "      <td>70.0</td>\n",
       "      <td>151.0</td>\n",
       "      <td>565.0</td>\n",
       "      <td>2.0</td>\n",
       "      <td>True</td>\n",
       "      <td>...</td>\n",
       "      <td>F</td>\n",
       "      <td>S</td>\n",
       "      <td>1</td>\n",
       "      <td>0</td>\n",
       "      <td>0</td>\n",
       "      <td>0</td>\n",
       "      <td>0</td>\n",
       "      <td>0</td>\n",
       "      <td>0</td>\n",
       "      <td>6</td>\n",
       "    </tr>\n",
       "  </tbody>\n",
       "</table>\n",
       "<p>5 rows × 27 columns</p>\n",
       "</div>"
      ],
      "text/plain": [
       "  HomePlanet  CryoSleep  Destination   Age  RoomService  FoodCourt  \\\n",
       "0     Europa      False  TRAPPIST-1e  39.0          0.0        0.0   \n",
       "1      Earth      False  TRAPPIST-1e  24.0        109.0        9.0   \n",
       "2     Europa      False  TRAPPIST-1e  58.0         43.0     3576.0   \n",
       "3     Europa      False  TRAPPIST-1e  33.0          0.0     1283.0   \n",
       "4      Earth      False  TRAPPIST-1e  16.0        303.0       70.0   \n",
       "\n",
       "   ShoppingMall     Spa  VRDeck  Transported  ...  Cabin_deck  Cabin_side  \\\n",
       "0           0.0     0.0     0.0        False  ...           B           P   \n",
       "1          25.0   549.0    44.0         True  ...           F           S   \n",
       "2           0.0  6715.0    49.0        False  ...           A           S   \n",
       "3         371.0  3329.0   193.0        False  ...           A           S   \n",
       "4         151.0   565.0     2.0         True  ...           F           S   \n",
       "\n",
       "   Cabin_region1  Cabin_region2  Cabin_region3  Cabin_region4  Cabin_region5  \\\n",
       "0              1              0              0              0              0   \n",
       "1              1              0              0              0              0   \n",
       "2              1              0              0              0              0   \n",
       "3              1              0              0              0              0   \n",
       "4              1              0              0              0              0   \n",
       "\n",
       "  Cabin_region6 Cabin_region7  Family_size  \n",
       "0             0             0            1  \n",
       "1             0             0            4  \n",
       "2             0             0            6  \n",
       "3             0             0            6  \n",
       "4             0             0            6  \n",
       "\n",
       "[5 rows x 27 columns]"
      ]
     },
     "execution_count": 27,
     "metadata": {},
     "output_type": "execute_result"
    }
   ],
   "source": [
    "# Drop qualitative/redundant/high cardinality features\n",
    "train_data.drop(['PassengerId', 'Cabin', 'Name', 'Surname', 'VIP', 'Group', 'Cabin_number'], axis=1, inplace=True)\n",
    "test_data.drop(['PassengerId', 'Cabin', 'Name', 'Surname', 'VIP', 'Group', 'Cabin_number'], axis=1, inplace=True)\n",
    "\n",
    "# Preview resulting training set\n",
    "train_data.head()"
   ]
  },
  {
   "cell_type": "code",
   "execution_count": 28,
   "id": "d6bc00e5",
   "metadata": {
    "execution": {
     "iopub.execute_input": "2022-04-07T07:49:50.278345Z",
     "iopub.status.busy": "2022-04-07T07:49:50.277643Z",
     "iopub.status.idle": "2022-04-07T07:49:50.293386Z",
     "shell.execute_reply": "2022-04-07T07:49:50.293848Z",
     "shell.execute_reply.started": "2022-04-07T06:15:05.279927Z"
    },
    "papermill": {
     "duration": 0.117785,
     "end_time": "2022-04-07T07:49:50.294034",
     "exception": false,
     "start_time": "2022-04-07T07:49:50.176249",
     "status": "completed"
    },
    "tags": []
   },
   "outputs": [
    {
     "name": "stdout",
     "output_type": "stream",
     "text": [
      "HomePlanet       0\n",
      "CryoSleep        0\n",
      "Destination      0\n",
      "Age              0\n",
      "RoomService      0\n",
      "FoodCourt        0\n",
      "ShoppingMall     0\n",
      "Spa              0\n",
      "VRDeck           0\n",
      "Transported      0\n",
      "Expenditure      0\n",
      "No_spending      0\n",
      "Under_18         0\n",
      "18_to_25         0\n",
      "Over_25          0\n",
      "Group_size       0\n",
      "Solo             0\n",
      "Cabin_deck       0\n",
      "Cabin_side       0\n",
      "Cabin_region1    0\n",
      "Cabin_region2    0\n",
      "Cabin_region3    0\n",
      "Cabin_region4    0\n",
      "Cabin_region5    0\n",
      "Cabin_region6    0\n",
      "Cabin_region7    0\n",
      "Family_size      0\n",
      "dtype: int64\n",
      "HomePlanet       0\n",
      "CryoSleep        0\n",
      "Destination      0\n",
      "Age              0\n",
      "RoomService      0\n",
      "FoodCourt        0\n",
      "ShoppingMall     0\n",
      "Spa              0\n",
      "VRDeck           0\n",
      "Expenditure      0\n",
      "No_spending      0\n",
      "Under_18         0\n",
      "18_to_25         0\n",
      "Over_25          0\n",
      "Group_size       0\n",
      "Solo             0\n",
      "Cabin_deck       0\n",
      "Cabin_side       0\n",
      "Cabin_region1    0\n",
      "Cabin_region2    0\n",
      "Cabin_region3    0\n",
      "Cabin_region4    0\n",
      "Cabin_region5    0\n",
      "Cabin_region6    0\n",
      "Cabin_region7    0\n",
      "Family_size      0\n",
      "dtype: int64\n"
     ]
    }
   ],
   "source": [
    "print(train_data.isnull().sum())\n",
    "print(test_data.isnull().sum())"
   ]
  },
  {
   "cell_type": "markdown",
   "id": "ba37db6e",
   "metadata": {
    "papermill": {
     "duration": 0.099561,
     "end_time": "2022-04-07T07:49:50.495309",
     "exception": false,
     "start_time": "2022-04-07T07:49:50.395748",
     "status": "completed"
    },
    "tags": []
   },
   "source": [
    "- 결측치 제거 완료"
   ]
  },
  {
   "cell_type": "code",
   "execution_count": 29,
   "id": "b84ee19b",
   "metadata": {
    "execution": {
     "iopub.execute_input": "2022-04-07T07:49:50.696503Z",
     "iopub.status.busy": "2022-04-07T07:49:50.695875Z",
     "iopub.status.idle": "2022-04-07T07:49:58.275225Z",
     "shell.execute_reply": "2022-04-07T07:49:58.274489Z",
     "shell.execute_reply.started": "2022-04-07T06:15:05.298408Z"
    },
    "papermill": {
     "duration": 7.681118,
     "end_time": "2022-04-07T07:49:58.275366",
     "exception": false,
     "start_time": "2022-04-07T07:49:50.594248",
     "status": "completed"
    },
    "tags": []
   },
   "outputs": [
    {
     "data": {
      "text/html": [
       "<style type='text/css'>\n",
       ".datatable table.frame { margin-bottom: 0; }\n",
       ".datatable table.frame thead { border-bottom: none; }\n",
       ".datatable table.frame tr.coltypes td {  color: #FFFFFF;  line-height: 6px;  padding: 0 0.5em;}\n",
       ".datatable .bool    { background: #DDDD99; }\n",
       ".datatable .object  { background: #565656; }\n",
       ".datatable .int     { background: #5D9E5D; }\n",
       ".datatable .float   { background: #4040CC; }\n",
       ".datatable .str     { background: #CC4040; }\n",
       ".datatable .time    { background: #40CC40; }\n",
       ".datatable .row_index {  background: var(--jp-border-color3);  border-right: 1px solid var(--jp-border-color0);  color: var(--jp-ui-font-color3);  font-size: 9px;}\n",
       ".datatable .frame tbody td { text-align: left; }\n",
       ".datatable .frame tr.coltypes .row_index {  background: var(--jp-border-color0);}\n",
       ".datatable th:nth-child(2) { padding-left: 12px; }\n",
       ".datatable .hellipsis {  color: var(--jp-cell-editor-border-color);}\n",
       ".datatable .vellipsis {  background: var(--jp-layout-color0);  color: var(--jp-cell-editor-border-color);}\n",
       ".datatable .na {  color: var(--jp-cell-editor-border-color);  font-size: 80%;}\n",
       ".datatable .sp {  opacity: 0.25;}\n",
       ".datatable .footer { font-size: 9px; }\n",
       ".datatable .frame_dimensions {  background: var(--jp-border-color3);  border-top: 1px solid var(--jp-border-color0);  color: var(--jp-ui-font-color3);  display: inline-block;  opacity: 0.6;  padding: 1px 10px 1px 5px;}\n",
       "</style>\n"
      ],
      "text/plain": [
       "<IPython.core.display.HTML object>"
      ]
     },
     "metadata": {},
     "output_type": "display_data"
    }
   ],
   "source": [
    "# Sklearn\n",
    "from sklearn.model_selection import train_test_split, GridSearchCV, RandomizedSearchCV, StratifiedKFold\n",
    "from sklearn.metrics import accuracy_score, confusion_matrix, recall_score, precision_score, f1_score\n",
    "from sklearn.metrics import roc_auc_score, plot_confusion_matrix, plot_roc_curve, roc_curve\n",
    "from sklearn.preprocessing import StandardScaler, MinMaxScaler, OneHotEncoder, LabelEncoder\n",
    "from sklearn.feature_selection import mutual_info_classif\n",
    "from sklearn.decomposition import PCA\n",
    "from sklearn.compose import ColumnTransformer\n",
    "from sklearn.pipeline import Pipeline\n",
    "from sklearn.impute import SimpleImputer\n",
    "import eli5\n",
    "from eli5.sklearn import PermutationImportance\n",
    "from sklearn.utils import resample"
   ]
  },
  {
   "cell_type": "markdown",
   "id": "40937df1",
   "metadata": {
    "papermill": {
     "duration": 0.099724,
     "end_time": "2022-04-07T07:49:58.477521",
     "exception": false,
     "start_time": "2022-04-07T07:49:58.377797",
     "status": "completed"
    },
    "tags": []
   },
   "source": [
    "## 범주형 변수 인코딩 "
   ]
  },
  {
   "cell_type": "markdown",
   "id": "77dc5498",
   "metadata": {
    "papermill": {
     "duration": 0.099491,
     "end_time": "2022-04-07T07:49:58.679987",
     "exception": false,
     "start_time": "2022-04-07T07:49:58.580496",
     "status": "completed"
    },
    "tags": []
   },
   "source": [
    "Lables (정답) 생성"
   ]
  },
  {
   "cell_type": "code",
   "execution_count": 30,
   "id": "3da95516",
   "metadata": {
    "_kg_hide-output": true,
    "execution": {
     "iopub.execute_input": "2022-04-07T07:49:58.892343Z",
     "iopub.status.busy": "2022-04-07T07:49:58.885790Z",
     "iopub.status.idle": "2022-04-07T07:49:58.953771Z",
     "shell.execute_reply": "2022-04-07T07:49:58.954294Z",
     "shell.execute_reply.started": "2022-04-07T06:15:13.212585Z"
    },
    "papermill": {
     "duration": 0.173785,
     "end_time": "2022-04-07T07:49:58.954469",
     "exception": false,
     "start_time": "2022-04-07T07:49:58.780684",
     "status": "completed"
    },
    "tags": []
   },
   "outputs": [
    {
     "name": "stdout",
     "output_type": "stream",
     "text": [
      "(8693, 26)\n"
     ]
    },
    {
     "data": {
      "text/html": [
       "<div>\n",
       "<style scoped>\n",
       "    .dataframe tbody tr th:only-of-type {\n",
       "        vertical-align: middle;\n",
       "    }\n",
       "\n",
       "    .dataframe tbody tr th {\n",
       "        vertical-align: top;\n",
       "    }\n",
       "\n",
       "    .dataframe thead th {\n",
       "        text-align: right;\n",
       "    }\n",
       "</style>\n",
       "<table border=\"1\" class=\"dataframe\">\n",
       "  <thead>\n",
       "    <tr style=\"text-align: right;\">\n",
       "      <th></th>\n",
       "      <th>HomePlanet</th>\n",
       "      <th>CryoSleep</th>\n",
       "      <th>Destination</th>\n",
       "      <th>Age</th>\n",
       "      <th>RoomService</th>\n",
       "      <th>FoodCourt</th>\n",
       "      <th>ShoppingMall</th>\n",
       "      <th>Spa</th>\n",
       "      <th>VRDeck</th>\n",
       "      <th>Expenditure</th>\n",
       "      <th>...</th>\n",
       "      <th>Cabin_deck</th>\n",
       "      <th>Cabin_side</th>\n",
       "      <th>Cabin_region1</th>\n",
       "      <th>Cabin_region2</th>\n",
       "      <th>Cabin_region3</th>\n",
       "      <th>Cabin_region4</th>\n",
       "      <th>Cabin_region5</th>\n",
       "      <th>Cabin_region6</th>\n",
       "      <th>Cabin_region7</th>\n",
       "      <th>Family_size</th>\n",
       "    </tr>\n",
       "  </thead>\n",
       "  <tbody>\n",
       "    <tr>\n",
       "      <th>0</th>\n",
       "      <td>Earth</td>\n",
       "      <td>True</td>\n",
       "      <td>TRAPPIST-1e</td>\n",
       "      <td>27.0</td>\n",
       "      <td>0.0</td>\n",
       "      <td>0.0</td>\n",
       "      <td>0.0</td>\n",
       "      <td>0.0</td>\n",
       "      <td>0.0</td>\n",
       "      <td>0.0</td>\n",
       "      <td>...</td>\n",
       "      <td>G</td>\n",
       "      <td>S</td>\n",
       "      <td>1</td>\n",
       "      <td>0</td>\n",
       "      <td>0</td>\n",
       "      <td>0</td>\n",
       "      <td>0</td>\n",
       "      <td>0</td>\n",
       "      <td>0</td>\n",
       "      <td>4</td>\n",
       "    </tr>\n",
       "    <tr>\n",
       "      <th>1</th>\n",
       "      <td>Earth</td>\n",
       "      <td>False</td>\n",
       "      <td>TRAPPIST-1e</td>\n",
       "      <td>19.0</td>\n",
       "      <td>0.0</td>\n",
       "      <td>9.0</td>\n",
       "      <td>0.0</td>\n",
       "      <td>2823.0</td>\n",
       "      <td>0.0</td>\n",
       "      <td>2832.0</td>\n",
       "      <td>...</td>\n",
       "      <td>F</td>\n",
       "      <td>S</td>\n",
       "      <td>1</td>\n",
       "      <td>0</td>\n",
       "      <td>0</td>\n",
       "      <td>0</td>\n",
       "      <td>0</td>\n",
       "      <td>0</td>\n",
       "      <td>0</td>\n",
       "      <td>1</td>\n",
       "    </tr>\n",
       "    <tr>\n",
       "      <th>2</th>\n",
       "      <td>Europa</td>\n",
       "      <td>True</td>\n",
       "      <td>55 Cancri e</td>\n",
       "      <td>31.0</td>\n",
       "      <td>0.0</td>\n",
       "      <td>0.0</td>\n",
       "      <td>0.0</td>\n",
       "      <td>0.0</td>\n",
       "      <td>0.0</td>\n",
       "      <td>0.0</td>\n",
       "      <td>...</td>\n",
       "      <td>C</td>\n",
       "      <td>S</td>\n",
       "      <td>1</td>\n",
       "      <td>0</td>\n",
       "      <td>0</td>\n",
       "      <td>0</td>\n",
       "      <td>0</td>\n",
       "      <td>0</td>\n",
       "      <td>0</td>\n",
       "      <td>1</td>\n",
       "    </tr>\n",
       "    <tr>\n",
       "      <th>3</th>\n",
       "      <td>Europa</td>\n",
       "      <td>False</td>\n",
       "      <td>TRAPPIST-1e</td>\n",
       "      <td>38.0</td>\n",
       "      <td>0.0</td>\n",
       "      <td>6652.0</td>\n",
       "      <td>0.0</td>\n",
       "      <td>181.0</td>\n",
       "      <td>585.0</td>\n",
       "      <td>7418.0</td>\n",
       "      <td>...</td>\n",
       "      <td>C</td>\n",
       "      <td>S</td>\n",
       "      <td>1</td>\n",
       "      <td>0</td>\n",
       "      <td>0</td>\n",
       "      <td>0</td>\n",
       "      <td>0</td>\n",
       "      <td>0</td>\n",
       "      <td>0</td>\n",
       "      <td>1</td>\n",
       "    </tr>\n",
       "    <tr>\n",
       "      <th>4</th>\n",
       "      <td>Earth</td>\n",
       "      <td>False</td>\n",
       "      <td>TRAPPIST-1e</td>\n",
       "      <td>20.0</td>\n",
       "      <td>10.0</td>\n",
       "      <td>0.0</td>\n",
       "      <td>635.0</td>\n",
       "      <td>0.0</td>\n",
       "      <td>0.0</td>\n",
       "      <td>645.0</td>\n",
       "      <td>...</td>\n",
       "      <td>F</td>\n",
       "      <td>S</td>\n",
       "      <td>1</td>\n",
       "      <td>0</td>\n",
       "      <td>0</td>\n",
       "      <td>0</td>\n",
       "      <td>0</td>\n",
       "      <td>0</td>\n",
       "      <td>0</td>\n",
       "      <td>3</td>\n",
       "    </tr>\n",
       "    <tr>\n",
       "      <th>5</th>\n",
       "      <td>Earth</td>\n",
       "      <td>False</td>\n",
       "      <td>TRAPPIST-1e</td>\n",
       "      <td>31.0</td>\n",
       "      <td>0.0</td>\n",
       "      <td>1615.0</td>\n",
       "      <td>263.0</td>\n",
       "      <td>113.0</td>\n",
       "      <td>60.0</td>\n",
       "      <td>2051.0</td>\n",
       "      <td>...</td>\n",
       "      <td>F</td>\n",
       "      <td>P</td>\n",
       "      <td>1</td>\n",
       "      <td>0</td>\n",
       "      <td>0</td>\n",
       "      <td>0</td>\n",
       "      <td>0</td>\n",
       "      <td>0</td>\n",
       "      <td>0</td>\n",
       "      <td>4</td>\n",
       "    </tr>\n",
       "    <tr>\n",
       "      <th>6</th>\n",
       "      <td>Europa</td>\n",
       "      <td>True</td>\n",
       "      <td>55 Cancri e</td>\n",
       "      <td>21.0</td>\n",
       "      <td>0.0</td>\n",
       "      <td>0.0</td>\n",
       "      <td>0.0</td>\n",
       "      <td>0.0</td>\n",
       "      <td>0.0</td>\n",
       "      <td>0.0</td>\n",
       "      <td>...</td>\n",
       "      <td>B</td>\n",
       "      <td>P</td>\n",
       "      <td>1</td>\n",
       "      <td>0</td>\n",
       "      <td>0</td>\n",
       "      <td>0</td>\n",
       "      <td>0</td>\n",
       "      <td>0</td>\n",
       "      <td>0</td>\n",
       "      <td>1</td>\n",
       "    </tr>\n",
       "    <tr>\n",
       "      <th>7</th>\n",
       "      <td>Europa</td>\n",
       "      <td>True</td>\n",
       "      <td>TRAPPIST-1e</td>\n",
       "      <td>20.0</td>\n",
       "      <td>0.0</td>\n",
       "      <td>0.0</td>\n",
       "      <td>0.0</td>\n",
       "      <td>0.0</td>\n",
       "      <td>0.0</td>\n",
       "      <td>0.0</td>\n",
       "      <td>...</td>\n",
       "      <td>D</td>\n",
       "      <td>S</td>\n",
       "      <td>1</td>\n",
       "      <td>0</td>\n",
       "      <td>0</td>\n",
       "      <td>0</td>\n",
       "      <td>0</td>\n",
       "      <td>0</td>\n",
       "      <td>0</td>\n",
       "      <td>2</td>\n",
       "    </tr>\n",
       "    <tr>\n",
       "      <th>8</th>\n",
       "      <td>Europa</td>\n",
       "      <td>True</td>\n",
       "      <td>55 Cancri e</td>\n",
       "      <td>23.0</td>\n",
       "      <td>0.0</td>\n",
       "      <td>0.0</td>\n",
       "      <td>0.0</td>\n",
       "      <td>0.0</td>\n",
       "      <td>0.0</td>\n",
       "      <td>0.0</td>\n",
       "      <td>...</td>\n",
       "      <td>D</td>\n",
       "      <td>S</td>\n",
       "      <td>1</td>\n",
       "      <td>0</td>\n",
       "      <td>0</td>\n",
       "      <td>0</td>\n",
       "      <td>0</td>\n",
       "      <td>0</td>\n",
       "      <td>0</td>\n",
       "      <td>2</td>\n",
       "    </tr>\n",
       "    <tr>\n",
       "      <th>9</th>\n",
       "      <td>Earth</td>\n",
       "      <td>False</td>\n",
       "      <td>55 Cancri e</td>\n",
       "      <td>24.0</td>\n",
       "      <td>0.0</td>\n",
       "      <td>639.0</td>\n",
       "      <td>0.0</td>\n",
       "      <td>0.0</td>\n",
       "      <td>0.0</td>\n",
       "      <td>639.0</td>\n",
       "      <td>...</td>\n",
       "      <td>F</td>\n",
       "      <td>S</td>\n",
       "      <td>1</td>\n",
       "      <td>0</td>\n",
       "      <td>0</td>\n",
       "      <td>0</td>\n",
       "      <td>0</td>\n",
       "      <td>0</td>\n",
       "      <td>0</td>\n",
       "      <td>2</td>\n",
       "    </tr>\n",
       "    <tr>\n",
       "      <th>10</th>\n",
       "      <td>Earth</td>\n",
       "      <td>False</td>\n",
       "      <td>TRAPPIST-1e</td>\n",
       "      <td>19.0</td>\n",
       "      <td>339.0</td>\n",
       "      <td>3.0</td>\n",
       "      <td>136.0</td>\n",
       "      <td>237.0</td>\n",
       "      <td>0.0</td>\n",
       "      <td>715.0</td>\n",
       "      <td>...</td>\n",
       "      <td>F</td>\n",
       "      <td>S</td>\n",
       "      <td>1</td>\n",
       "      <td>0</td>\n",
       "      <td>0</td>\n",
       "      <td>0</td>\n",
       "      <td>0</td>\n",
       "      <td>0</td>\n",
       "      <td>0</td>\n",
       "      <td>3</td>\n",
       "    </tr>\n",
       "    <tr>\n",
       "      <th>11</th>\n",
       "      <td>Europa</td>\n",
       "      <td>False</td>\n",
       "      <td>TRAPPIST-1e</td>\n",
       "      <td>45.0</td>\n",
       "      <td>932.0</td>\n",
       "      <td>74.0</td>\n",
       "      <td>0.0</td>\n",
       "      <td>7.0</td>\n",
       "      <td>1010.0</td>\n",
       "      <td>2023.0</td>\n",
       "      <td>...</td>\n",
       "      <td>D</td>\n",
       "      <td>P</td>\n",
       "      <td>1</td>\n",
       "      <td>0</td>\n",
       "      <td>0</td>\n",
       "      <td>0</td>\n",
       "      <td>0</td>\n",
       "      <td>0</td>\n",
       "      <td>0</td>\n",
       "      <td>6</td>\n",
       "    </tr>\n",
       "    <tr>\n",
       "      <th>12</th>\n",
       "      <td>Europa</td>\n",
       "      <td>False</td>\n",
       "      <td>TRAPPIST-1e</td>\n",
       "      <td>44.0</td>\n",
       "      <td>0.0</td>\n",
       "      <td>1561.0</td>\n",
       "      <td>0.0</td>\n",
       "      <td>14.0</td>\n",
       "      <td>224.0</td>\n",
       "      <td>1799.0</td>\n",
       "      <td>...</td>\n",
       "      <td>D</td>\n",
       "      <td>P</td>\n",
       "      <td>1</td>\n",
       "      <td>0</td>\n",
       "      <td>0</td>\n",
       "      <td>0</td>\n",
       "      <td>0</td>\n",
       "      <td>0</td>\n",
       "      <td>0</td>\n",
       "      <td>6</td>\n",
       "    </tr>\n",
       "    <tr>\n",
       "      <th>13</th>\n",
       "      <td>Mars</td>\n",
       "      <td>True</td>\n",
       "      <td>TRAPPIST-1e</td>\n",
       "      <td>46.0</td>\n",
       "      <td>0.0</td>\n",
       "      <td>0.0</td>\n",
       "      <td>0.0</td>\n",
       "      <td>0.0</td>\n",
       "      <td>0.0</td>\n",
       "      <td>0.0</td>\n",
       "      <td>...</td>\n",
       "      <td>E</td>\n",
       "      <td>P</td>\n",
       "      <td>1</td>\n",
       "      <td>0</td>\n",
       "      <td>0</td>\n",
       "      <td>0</td>\n",
       "      <td>0</td>\n",
       "      <td>0</td>\n",
       "      <td>0</td>\n",
       "      <td>1</td>\n",
       "    </tr>\n",
       "    <tr>\n",
       "      <th>14</th>\n",
       "      <td>Earth</td>\n",
       "      <td>False</td>\n",
       "      <td>TRAPPIST-1e</td>\n",
       "      <td>21.0</td>\n",
       "      <td>0.0</td>\n",
       "      <td>0.0</td>\n",
       "      <td>0.0</td>\n",
       "      <td>1687.0</td>\n",
       "      <td>92.0</td>\n",
       "      <td>1779.0</td>\n",
       "      <td>...</td>\n",
       "      <td>G</td>\n",
       "      <td>P</td>\n",
       "      <td>1</td>\n",
       "      <td>0</td>\n",
       "      <td>0</td>\n",
       "      <td>0</td>\n",
       "      <td>0</td>\n",
       "      <td>0</td>\n",
       "      <td>0</td>\n",
       "      <td>4</td>\n",
       "    </tr>\n",
       "    <tr>\n",
       "      <th>15</th>\n",
       "      <td>Earth</td>\n",
       "      <td>False</td>\n",
       "      <td>TRAPPIST-1e</td>\n",
       "      <td>27.0</td>\n",
       "      <td>0.0</td>\n",
       "      <td>0.0</td>\n",
       "      <td>0.0</td>\n",
       "      <td>903.0</td>\n",
       "      <td>0.0</td>\n",
       "      <td>903.0</td>\n",
       "      <td>...</td>\n",
       "      <td>F</td>\n",
       "      <td>P</td>\n",
       "      <td>1</td>\n",
       "      <td>0</td>\n",
       "      <td>0</td>\n",
       "      <td>0</td>\n",
       "      <td>0</td>\n",
       "      <td>0</td>\n",
       "      <td>0</td>\n",
       "      <td>4</td>\n",
       "    </tr>\n",
       "    <tr>\n",
       "      <th>16</th>\n",
       "      <td>Earth</td>\n",
       "      <td>False</td>\n",
       "      <td>TRAPPIST-1e</td>\n",
       "      <td>20.0</td>\n",
       "      <td>2.0</td>\n",
       "      <td>12.0</td>\n",
       "      <td>253.0</td>\n",
       "      <td>457.0</td>\n",
       "      <td>690.0</td>\n",
       "      <td>1414.0</td>\n",
       "      <td>...</td>\n",
       "      <td>F</td>\n",
       "      <td>P</td>\n",
       "      <td>1</td>\n",
       "      <td>0</td>\n",
       "      <td>0</td>\n",
       "      <td>0</td>\n",
       "      <td>0</td>\n",
       "      <td>0</td>\n",
       "      <td>0</td>\n",
       "      <td>4</td>\n",
       "    </tr>\n",
       "    <tr>\n",
       "      <th>17</th>\n",
       "      <td>Europa</td>\n",
       "      <td>True</td>\n",
       "      <td>TRAPPIST-1e</td>\n",
       "      <td>44.0</td>\n",
       "      <td>0.0</td>\n",
       "      <td>0.0</td>\n",
       "      <td>0.0</td>\n",
       "      <td>0.0</td>\n",
       "      <td>0.0</td>\n",
       "      <td>0.0</td>\n",
       "      <td>...</td>\n",
       "      <td>B</td>\n",
       "      <td>S</td>\n",
       "      <td>1</td>\n",
       "      <td>0</td>\n",
       "      <td>0</td>\n",
       "      <td>0</td>\n",
       "      <td>0</td>\n",
       "      <td>0</td>\n",
       "      <td>0</td>\n",
       "      <td>3</td>\n",
       "    </tr>\n",
       "    <tr>\n",
       "      <th>18</th>\n",
       "      <td>Europa</td>\n",
       "      <td>False</td>\n",
       "      <td>TRAPPIST-1e</td>\n",
       "      <td>29.0</td>\n",
       "      <td>0.0</td>\n",
       "      <td>7708.0</td>\n",
       "      <td>243.0</td>\n",
       "      <td>569.0</td>\n",
       "      <td>343.0</td>\n",
       "      <td>8863.0</td>\n",
       "      <td>...</td>\n",
       "      <td>Z</td>\n",
       "      <td>Z</td>\n",
       "      <td>0</td>\n",
       "      <td>0</td>\n",
       "      <td>0</td>\n",
       "      <td>0</td>\n",
       "      <td>0</td>\n",
       "      <td>0</td>\n",
       "      <td>1</td>\n",
       "      <td>3</td>\n",
       "    </tr>\n",
       "    <tr>\n",
       "      <th>19</th>\n",
       "      <td>Europa</td>\n",
       "      <td>False</td>\n",
       "      <td>TRAPPIST-1e</td>\n",
       "      <td>40.0</td>\n",
       "      <td>26.0</td>\n",
       "      <td>1925.0</td>\n",
       "      <td>8.0</td>\n",
       "      <td>3144.0</td>\n",
       "      <td>63.0</td>\n",
       "      <td>5166.0</td>\n",
       "      <td>...</td>\n",
       "      <td>B</td>\n",
       "      <td>S</td>\n",
       "      <td>1</td>\n",
       "      <td>0</td>\n",
       "      <td>0</td>\n",
       "      <td>0</td>\n",
       "      <td>0</td>\n",
       "      <td>0</td>\n",
       "      <td>0</td>\n",
       "      <td>94</td>\n",
       "    </tr>\n",
       "    <tr>\n",
       "      <th>20</th>\n",
       "      <td>Earth</td>\n",
       "      <td>False</td>\n",
       "      <td>TRAPPIST-1e</td>\n",
       "      <td>30.0</td>\n",
       "      <td>0.0</td>\n",
       "      <td>878.0</td>\n",
       "      <td>26.0</td>\n",
       "      <td>3.0</td>\n",
       "      <td>0.0</td>\n",
       "      <td>907.0</td>\n",
       "      <td>...</td>\n",
       "      <td>G</td>\n",
       "      <td>S</td>\n",
       "      <td>1</td>\n",
       "      <td>0</td>\n",
       "      <td>0</td>\n",
       "      <td>0</td>\n",
       "      <td>0</td>\n",
       "      <td>0</td>\n",
       "      <td>0</td>\n",
       "      <td>2</td>\n",
       "    </tr>\n",
       "    <tr>\n",
       "      <th>21</th>\n",
       "      <td>Earth</td>\n",
       "      <td>False</td>\n",
       "      <td>TRAPPIST-1e</td>\n",
       "      <td>14.0</td>\n",
       "      <td>0.0</td>\n",
       "      <td>0.0</td>\n",
       "      <td>0.0</td>\n",
       "      <td>1609.0</td>\n",
       "      <td>0.0</td>\n",
       "      <td>1609.0</td>\n",
       "      <td>...</td>\n",
       "      <td>E</td>\n",
       "      <td>P</td>\n",
       "      <td>1</td>\n",
       "      <td>0</td>\n",
       "      <td>0</td>\n",
       "      <td>0</td>\n",
       "      <td>0</td>\n",
       "      <td>0</td>\n",
       "      <td>0</td>\n",
       "      <td>4</td>\n",
       "    </tr>\n",
       "    <tr>\n",
       "      <th>22</th>\n",
       "      <td>Europa</td>\n",
       "      <td>True</td>\n",
       "      <td>55 Cancri e</td>\n",
       "      <td>31.0</td>\n",
       "      <td>0.0</td>\n",
       "      <td>0.0</td>\n",
       "      <td>0.0</td>\n",
       "      <td>0.0</td>\n",
       "      <td>0.0</td>\n",
       "      <td>0.0</td>\n",
       "      <td>...</td>\n",
       "      <td>B</td>\n",
       "      <td>P</td>\n",
       "      <td>1</td>\n",
       "      <td>0</td>\n",
       "      <td>0</td>\n",
       "      <td>0</td>\n",
       "      <td>0</td>\n",
       "      <td>0</td>\n",
       "      <td>0</td>\n",
       "      <td>4</td>\n",
       "    </tr>\n",
       "    <tr>\n",
       "      <th>23</th>\n",
       "      <td>Europa</td>\n",
       "      <td>False</td>\n",
       "      <td>55 Cancri e</td>\n",
       "      <td>27.0</td>\n",
       "      <td>0.0</td>\n",
       "      <td>6977.0</td>\n",
       "      <td>0.0</td>\n",
       "      <td>4.0</td>\n",
       "      <td>1235.0</td>\n",
       "      <td>8216.0</td>\n",
       "      <td>...</td>\n",
       "      <td>B</td>\n",
       "      <td>P</td>\n",
       "      <td>1</td>\n",
       "      <td>0</td>\n",
       "      <td>0</td>\n",
       "      <td>0</td>\n",
       "      <td>0</td>\n",
       "      <td>0</td>\n",
       "      <td>0</td>\n",
       "      <td>4</td>\n",
       "    </tr>\n",
       "    <tr>\n",
       "      <th>24</th>\n",
       "      <td>Europa</td>\n",
       "      <td>False</td>\n",
       "      <td>55 Cancri e</td>\n",
       "      <td>66.0</td>\n",
       "      <td>39.0</td>\n",
       "      <td>6452.0</td>\n",
       "      <td>0.0</td>\n",
       "      <td>1409.0</td>\n",
       "      <td>155.0</td>\n",
       "      <td>8055.0</td>\n",
       "      <td>...</td>\n",
       "      <td>B</td>\n",
       "      <td>P</td>\n",
       "      <td>1</td>\n",
       "      <td>0</td>\n",
       "      <td>0</td>\n",
       "      <td>0</td>\n",
       "      <td>0</td>\n",
       "      <td>0</td>\n",
       "      <td>0</td>\n",
       "      <td>4</td>\n",
       "    </tr>\n",
       "    <tr>\n",
       "      <th>25</th>\n",
       "      <td>Earth</td>\n",
       "      <td>False</td>\n",
       "      <td>TRAPPIST-1e</td>\n",
       "      <td>24.0</td>\n",
       "      <td>1784.0</td>\n",
       "      <td>8.0</td>\n",
       "      <td>18.0</td>\n",
       "      <td>18.0</td>\n",
       "      <td>0.0</td>\n",
       "      <td>1828.0</td>\n",
       "      <td>...</td>\n",
       "      <td>G</td>\n",
       "      <td>P</td>\n",
       "      <td>1</td>\n",
       "      <td>0</td>\n",
       "      <td>0</td>\n",
       "      <td>0</td>\n",
       "      <td>0</td>\n",
       "      <td>0</td>\n",
       "      <td>0</td>\n",
       "      <td>3</td>\n",
       "    </tr>\n",
       "    <tr>\n",
       "      <th>26</th>\n",
       "      <td>Europa</td>\n",
       "      <td>False</td>\n",
       "      <td>55 Cancri e</td>\n",
       "      <td>19.0</td>\n",
       "      <td>293.0</td>\n",
       "      <td>3495.0</td>\n",
       "      <td>5273.0</td>\n",
       "      <td>118.0</td>\n",
       "      <td>422.0</td>\n",
       "      <td>9601.0</td>\n",
       "      <td>...</td>\n",
       "      <td>C</td>\n",
       "      <td>P</td>\n",
       "      <td>1</td>\n",
       "      <td>0</td>\n",
       "      <td>0</td>\n",
       "      <td>0</td>\n",
       "      <td>0</td>\n",
       "      <td>0</td>\n",
       "      <td>0</td>\n",
       "      <td>1</td>\n",
       "    </tr>\n",
       "    <tr>\n",
       "      <th>27</th>\n",
       "      <td>Earth</td>\n",
       "      <td>True</td>\n",
       "      <td>TRAPPIST-1e</td>\n",
       "      <td>36.0</td>\n",
       "      <td>0.0</td>\n",
       "      <td>0.0</td>\n",
       "      <td>0.0</td>\n",
       "      <td>0.0</td>\n",
       "      <td>0.0</td>\n",
       "      <td>0.0</td>\n",
       "      <td>...</td>\n",
       "      <td>E</td>\n",
       "      <td>P</td>\n",
       "      <td>1</td>\n",
       "      <td>0</td>\n",
       "      <td>0</td>\n",
       "      <td>0</td>\n",
       "      <td>0</td>\n",
       "      <td>0</td>\n",
       "      <td>0</td>\n",
       "      <td>3</td>\n",
       "    </tr>\n",
       "    <tr>\n",
       "      <th>28</th>\n",
       "      <td>Earth</td>\n",
       "      <td>False</td>\n",
       "      <td>TRAPPIST-1e</td>\n",
       "      <td>21.0</td>\n",
       "      <td>0.0</td>\n",
       "      <td>619.0</td>\n",
       "      <td>12.0</td>\n",
       "      <td>3.0</td>\n",
       "      <td>0.0</td>\n",
       "      <td>634.0</td>\n",
       "      <td>...</td>\n",
       "      <td>F</td>\n",
       "      <td>P</td>\n",
       "      <td>1</td>\n",
       "      <td>0</td>\n",
       "      <td>0</td>\n",
       "      <td>0</td>\n",
       "      <td>0</td>\n",
       "      <td>0</td>\n",
       "      <td>0</td>\n",
       "      <td>1</td>\n",
       "    </tr>\n",
       "    <tr>\n",
       "      <th>29</th>\n",
       "      <td>Earth</td>\n",
       "      <td>True</td>\n",
       "      <td>55 Cancri e</td>\n",
       "      <td>18.0</td>\n",
       "      <td>0.0</td>\n",
       "      <td>0.0</td>\n",
       "      <td>0.0</td>\n",
       "      <td>0.0</td>\n",
       "      <td>0.0</td>\n",
       "      <td>0.0</td>\n",
       "      <td>...</td>\n",
       "      <td>G</td>\n",
       "      <td>S</td>\n",
       "      <td>1</td>\n",
       "      <td>0</td>\n",
       "      <td>0</td>\n",
       "      <td>0</td>\n",
       "      <td>0</td>\n",
       "      <td>0</td>\n",
       "      <td>0</td>\n",
       "      <td>8</td>\n",
       "    </tr>\n",
       "    <tr>\n",
       "      <th>30</th>\n",
       "      <td>Earth</td>\n",
       "      <td>True</td>\n",
       "      <td>TRAPPIST-1e</td>\n",
       "      <td>26.0</td>\n",
       "      <td>0.0</td>\n",
       "      <td>0.0</td>\n",
       "      <td>0.0</td>\n",
       "      <td>0.0</td>\n",
       "      <td>0.0</td>\n",
       "      <td>0.0</td>\n",
       "      <td>...</td>\n",
       "      <td>G</td>\n",
       "      <td>S</td>\n",
       "      <td>1</td>\n",
       "      <td>0</td>\n",
       "      <td>0</td>\n",
       "      <td>0</td>\n",
       "      <td>0</td>\n",
       "      <td>0</td>\n",
       "      <td>0</td>\n",
       "      <td>2</td>\n",
       "    </tr>\n",
       "    <tr>\n",
       "      <th>31</th>\n",
       "      <td>Earth</td>\n",
       "      <td>False</td>\n",
       "      <td>TRAPPIST-1e</td>\n",
       "      <td>19.0</td>\n",
       "      <td>598.0</td>\n",
       "      <td>0.0</td>\n",
       "      <td>30.0</td>\n",
       "      <td>0.0</td>\n",
       "      <td>0.0</td>\n",
       "      <td>628.0</td>\n",
       "      <td>...</td>\n",
       "      <td>G</td>\n",
       "      <td>S</td>\n",
       "      <td>1</td>\n",
       "      <td>0</td>\n",
       "      <td>0</td>\n",
       "      <td>0</td>\n",
       "      <td>0</td>\n",
       "      <td>0</td>\n",
       "      <td>0</td>\n",
       "      <td>2</td>\n",
       "    </tr>\n",
       "    <tr>\n",
       "      <th>32</th>\n",
       "      <td>Earth</td>\n",
       "      <td>True</td>\n",
       "      <td>TRAPPIST-1e</td>\n",
       "      <td>48.0</td>\n",
       "      <td>0.0</td>\n",
       "      <td>0.0</td>\n",
       "      <td>0.0</td>\n",
       "      <td>0.0</td>\n",
       "      <td>0.0</td>\n",
       "      <td>0.0</td>\n",
       "      <td>...</td>\n",
       "      <td>G</td>\n",
       "      <td>S</td>\n",
       "      <td>1</td>\n",
       "      <td>0</td>\n",
       "      <td>0</td>\n",
       "      <td>0</td>\n",
       "      <td>0</td>\n",
       "      <td>0</td>\n",
       "      <td>0</td>\n",
       "      <td>3</td>\n",
       "    </tr>\n",
       "    <tr>\n",
       "      <th>33</th>\n",
       "      <td>Earth</td>\n",
       "      <td>False</td>\n",
       "      <td>TRAPPIST-1e</td>\n",
       "      <td>23.0</td>\n",
       "      <td>14.0</td>\n",
       "      <td>870.0</td>\n",
       "      <td>0.0</td>\n",
       "      <td>0.0</td>\n",
       "      <td>23.0</td>\n",
       "      <td>907.0</td>\n",
       "      <td>...</td>\n",
       "      <td>G</td>\n",
       "      <td>P</td>\n",
       "      <td>1</td>\n",
       "      <td>0</td>\n",
       "      <td>0</td>\n",
       "      <td>0</td>\n",
       "      <td>0</td>\n",
       "      <td>0</td>\n",
       "      <td>0</td>\n",
       "      <td>2</td>\n",
       "    </tr>\n",
       "    <tr>\n",
       "      <th>34</th>\n",
       "      <td>Earth</td>\n",
       "      <td>False</td>\n",
       "      <td>TRAPPIST-1e</td>\n",
       "      <td>24.0</td>\n",
       "      <td>483.0</td>\n",
       "      <td>0.0</td>\n",
       "      <td>87.0</td>\n",
       "      <td>214.0</td>\n",
       "      <td>0.0</td>\n",
       "      <td>784.0</td>\n",
       "      <td>...</td>\n",
       "      <td>G</td>\n",
       "      <td>P</td>\n",
       "      <td>1</td>\n",
       "      <td>0</td>\n",
       "      <td>0</td>\n",
       "      <td>0</td>\n",
       "      <td>0</td>\n",
       "      <td>0</td>\n",
       "      <td>0</td>\n",
       "      <td>8</td>\n",
       "    </tr>\n",
       "    <tr>\n",
       "      <th>35</th>\n",
       "      <td>Earth</td>\n",
       "      <td>False</td>\n",
       "      <td>TRAPPIST-1e</td>\n",
       "      <td>19.0</td>\n",
       "      <td>0.0</td>\n",
       "      <td>20.0</td>\n",
       "      <td>135.0</td>\n",
       "      <td>265.0</td>\n",
       "      <td>367.0</td>\n",
       "      <td>787.0</td>\n",
       "      <td>...</td>\n",
       "      <td>E</td>\n",
       "      <td>P</td>\n",
       "      <td>1</td>\n",
       "      <td>0</td>\n",
       "      <td>0</td>\n",
       "      <td>0</td>\n",
       "      <td>0</td>\n",
       "      <td>0</td>\n",
       "      <td>0</td>\n",
       "      <td>6</td>\n",
       "    </tr>\n",
       "    <tr>\n",
       "      <th>36</th>\n",
       "      <td>Mars</td>\n",
       "      <td>True</td>\n",
       "      <td>TRAPPIST-1e</td>\n",
       "      <td>24.0</td>\n",
       "      <td>0.0</td>\n",
       "      <td>0.0</td>\n",
       "      <td>0.0</td>\n",
       "      <td>0.0</td>\n",
       "      <td>0.0</td>\n",
       "      <td>0.0</td>\n",
       "      <td>...</td>\n",
       "      <td>F</td>\n",
       "      <td>S</td>\n",
       "      <td>1</td>\n",
       "      <td>0</td>\n",
       "      <td>0</td>\n",
       "      <td>0</td>\n",
       "      <td>0</td>\n",
       "      <td>0</td>\n",
       "      <td>0</td>\n",
       "      <td>2</td>\n",
       "    </tr>\n",
       "    <tr>\n",
       "      <th>37</th>\n",
       "      <td>Earth</td>\n",
       "      <td>False</td>\n",
       "      <td>TRAPPIST-1e</td>\n",
       "      <td>27.0</td>\n",
       "      <td>66.0</td>\n",
       "      <td>1736.0</td>\n",
       "      <td>0.0</td>\n",
       "      <td>0.0</td>\n",
       "      <td>15.0</td>\n",
       "      <td>1817.0</td>\n",
       "      <td>...</td>\n",
       "      <td>G</td>\n",
       "      <td>P</td>\n",
       "      <td>1</td>\n",
       "      <td>0</td>\n",
       "      <td>0</td>\n",
       "      <td>0</td>\n",
       "      <td>0</td>\n",
       "      <td>0</td>\n",
       "      <td>0</td>\n",
       "      <td>3</td>\n",
       "    </tr>\n",
       "    <tr>\n",
       "      <th>38</th>\n",
       "      <td>Earth</td>\n",
       "      <td>True</td>\n",
       "      <td>TRAPPIST-1e</td>\n",
       "      <td>6.0</td>\n",
       "      <td>0.0</td>\n",
       "      <td>0.0</td>\n",
       "      <td>0.0</td>\n",
       "      <td>0.0</td>\n",
       "      <td>0.0</td>\n",
       "      <td>0.0</td>\n",
       "      <td>...</td>\n",
       "      <td>G</td>\n",
       "      <td>S</td>\n",
       "      <td>1</td>\n",
       "      <td>0</td>\n",
       "      <td>0</td>\n",
       "      <td>0</td>\n",
       "      <td>0</td>\n",
       "      <td>0</td>\n",
       "      <td>0</td>\n",
       "      <td>3</td>\n",
       "    </tr>\n",
       "    <tr>\n",
       "      <th>39</th>\n",
       "      <td>Earth</td>\n",
       "      <td>False</td>\n",
       "      <td>TRAPPIST-1e</td>\n",
       "      <td>33.0</td>\n",
       "      <td>0.0</td>\n",
       "      <td>0.0</td>\n",
       "      <td>0.0</td>\n",
       "      <td>866.0</td>\n",
       "      <td>0.0</td>\n",
       "      <td>866.0</td>\n",
       "      <td>...</td>\n",
       "      <td>F</td>\n",
       "      <td>S</td>\n",
       "      <td>1</td>\n",
       "      <td>0</td>\n",
       "      <td>0</td>\n",
       "      <td>0</td>\n",
       "      <td>0</td>\n",
       "      <td>0</td>\n",
       "      <td>0</td>\n",
       "      <td>3</td>\n",
       "    </tr>\n",
       "  </tbody>\n",
       "</table>\n",
       "<p>40 rows × 26 columns</p>\n",
       "</div>"
      ],
      "text/plain": [
       "   HomePlanet  CryoSleep  Destination   Age  RoomService  FoodCourt  \\\n",
       "0       Earth       True  TRAPPIST-1e  27.0          0.0        0.0   \n",
       "1       Earth      False  TRAPPIST-1e  19.0          0.0        9.0   \n",
       "2      Europa       True  55 Cancri e  31.0          0.0        0.0   \n",
       "3      Europa      False  TRAPPIST-1e  38.0          0.0     6652.0   \n",
       "4       Earth      False  TRAPPIST-1e  20.0         10.0        0.0   \n",
       "5       Earth      False  TRAPPIST-1e  31.0          0.0     1615.0   \n",
       "6      Europa       True  55 Cancri e  21.0          0.0        0.0   \n",
       "7      Europa       True  TRAPPIST-1e  20.0          0.0        0.0   \n",
       "8      Europa       True  55 Cancri e  23.0          0.0        0.0   \n",
       "9       Earth      False  55 Cancri e  24.0          0.0      639.0   \n",
       "10      Earth      False  TRAPPIST-1e  19.0        339.0        3.0   \n",
       "11     Europa      False  TRAPPIST-1e  45.0        932.0       74.0   \n",
       "12     Europa      False  TRAPPIST-1e  44.0          0.0     1561.0   \n",
       "13       Mars       True  TRAPPIST-1e  46.0          0.0        0.0   \n",
       "14      Earth      False  TRAPPIST-1e  21.0          0.0        0.0   \n",
       "15      Earth      False  TRAPPIST-1e  27.0          0.0        0.0   \n",
       "16      Earth      False  TRAPPIST-1e  20.0          2.0       12.0   \n",
       "17     Europa       True  TRAPPIST-1e  44.0          0.0        0.0   \n",
       "18     Europa      False  TRAPPIST-1e  29.0          0.0     7708.0   \n",
       "19     Europa      False  TRAPPIST-1e  40.0         26.0     1925.0   \n",
       "20      Earth      False  TRAPPIST-1e  30.0          0.0      878.0   \n",
       "21      Earth      False  TRAPPIST-1e  14.0          0.0        0.0   \n",
       "22     Europa       True  55 Cancri e  31.0          0.0        0.0   \n",
       "23     Europa      False  55 Cancri e  27.0          0.0     6977.0   \n",
       "24     Europa      False  55 Cancri e  66.0         39.0     6452.0   \n",
       "25      Earth      False  TRAPPIST-1e  24.0       1784.0        8.0   \n",
       "26     Europa      False  55 Cancri e  19.0        293.0     3495.0   \n",
       "27      Earth       True  TRAPPIST-1e  36.0          0.0        0.0   \n",
       "28      Earth      False  TRAPPIST-1e  21.0          0.0      619.0   \n",
       "29      Earth       True  55 Cancri e  18.0          0.0        0.0   \n",
       "30      Earth       True  TRAPPIST-1e  26.0          0.0        0.0   \n",
       "31      Earth      False  TRAPPIST-1e  19.0        598.0        0.0   \n",
       "32      Earth       True  TRAPPIST-1e  48.0          0.0        0.0   \n",
       "33      Earth      False  TRAPPIST-1e  23.0         14.0      870.0   \n",
       "34      Earth      False  TRAPPIST-1e  24.0        483.0        0.0   \n",
       "35      Earth      False  TRAPPIST-1e  19.0          0.0       20.0   \n",
       "36       Mars       True  TRAPPIST-1e  24.0          0.0        0.0   \n",
       "37      Earth      False  TRAPPIST-1e  27.0         66.0     1736.0   \n",
       "38      Earth       True  TRAPPIST-1e   6.0          0.0        0.0   \n",
       "39      Earth      False  TRAPPIST-1e  33.0          0.0        0.0   \n",
       "\n",
       "    ShoppingMall     Spa  VRDeck  Expenditure  ...  Cabin_deck  Cabin_side  \\\n",
       "0            0.0     0.0     0.0          0.0  ...           G           S   \n",
       "1            0.0  2823.0     0.0       2832.0  ...           F           S   \n",
       "2            0.0     0.0     0.0          0.0  ...           C           S   \n",
       "3            0.0   181.0   585.0       7418.0  ...           C           S   \n",
       "4          635.0     0.0     0.0        645.0  ...           F           S   \n",
       "5          263.0   113.0    60.0       2051.0  ...           F           P   \n",
       "6            0.0     0.0     0.0          0.0  ...           B           P   \n",
       "7            0.0     0.0     0.0          0.0  ...           D           S   \n",
       "8            0.0     0.0     0.0          0.0  ...           D           S   \n",
       "9            0.0     0.0     0.0        639.0  ...           F           S   \n",
       "10         136.0   237.0     0.0        715.0  ...           F           S   \n",
       "11           0.0     7.0  1010.0       2023.0  ...           D           P   \n",
       "12           0.0    14.0   224.0       1799.0  ...           D           P   \n",
       "13           0.0     0.0     0.0          0.0  ...           E           P   \n",
       "14           0.0  1687.0    92.0       1779.0  ...           G           P   \n",
       "15           0.0   903.0     0.0        903.0  ...           F           P   \n",
       "16         253.0   457.0   690.0       1414.0  ...           F           P   \n",
       "17           0.0     0.0     0.0          0.0  ...           B           S   \n",
       "18         243.0   569.0   343.0       8863.0  ...           Z           Z   \n",
       "19           8.0  3144.0    63.0       5166.0  ...           B           S   \n",
       "20          26.0     3.0     0.0        907.0  ...           G           S   \n",
       "21           0.0  1609.0     0.0       1609.0  ...           E           P   \n",
       "22           0.0     0.0     0.0          0.0  ...           B           P   \n",
       "23           0.0     4.0  1235.0       8216.0  ...           B           P   \n",
       "24           0.0  1409.0   155.0       8055.0  ...           B           P   \n",
       "25          18.0    18.0     0.0       1828.0  ...           G           P   \n",
       "26        5273.0   118.0   422.0       9601.0  ...           C           P   \n",
       "27           0.0     0.0     0.0          0.0  ...           E           P   \n",
       "28          12.0     3.0     0.0        634.0  ...           F           P   \n",
       "29           0.0     0.0     0.0          0.0  ...           G           S   \n",
       "30           0.0     0.0     0.0          0.0  ...           G           S   \n",
       "31          30.0     0.0     0.0        628.0  ...           G           S   \n",
       "32           0.0     0.0     0.0          0.0  ...           G           S   \n",
       "33           0.0     0.0    23.0        907.0  ...           G           P   \n",
       "34          87.0   214.0     0.0        784.0  ...           G           P   \n",
       "35         135.0   265.0   367.0        787.0  ...           E           P   \n",
       "36           0.0     0.0     0.0          0.0  ...           F           S   \n",
       "37           0.0     0.0    15.0       1817.0  ...           G           P   \n",
       "38           0.0     0.0     0.0          0.0  ...           G           S   \n",
       "39           0.0   866.0     0.0        866.0  ...           F           S   \n",
       "\n",
       "    Cabin_region1  Cabin_region2  Cabin_region3  Cabin_region4 Cabin_region5  \\\n",
       "0               1              0              0              0             0   \n",
       "1               1              0              0              0             0   \n",
       "2               1              0              0              0             0   \n",
       "3               1              0              0              0             0   \n",
       "4               1              0              0              0             0   \n",
       "5               1              0              0              0             0   \n",
       "6               1              0              0              0             0   \n",
       "7               1              0              0              0             0   \n",
       "8               1              0              0              0             0   \n",
       "9               1              0              0              0             0   \n",
       "10              1              0              0              0             0   \n",
       "11              1              0              0              0             0   \n",
       "12              1              0              0              0             0   \n",
       "13              1              0              0              0             0   \n",
       "14              1              0              0              0             0   \n",
       "15              1              0              0              0             0   \n",
       "16              1              0              0              0             0   \n",
       "17              1              0              0              0             0   \n",
       "18              0              0              0              0             0   \n",
       "19              1              0              0              0             0   \n",
       "20              1              0              0              0             0   \n",
       "21              1              0              0              0             0   \n",
       "22              1              0              0              0             0   \n",
       "23              1              0              0              0             0   \n",
       "24              1              0              0              0             0   \n",
       "25              1              0              0              0             0   \n",
       "26              1              0              0              0             0   \n",
       "27              1              0              0              0             0   \n",
       "28              1              0              0              0             0   \n",
       "29              1              0              0              0             0   \n",
       "30              1              0              0              0             0   \n",
       "31              1              0              0              0             0   \n",
       "32              1              0              0              0             0   \n",
       "33              1              0              0              0             0   \n",
       "34              1              0              0              0             0   \n",
       "35              1              0              0              0             0   \n",
       "36              1              0              0              0             0   \n",
       "37              1              0              0              0             0   \n",
       "38              1              0              0              0             0   \n",
       "39              1              0              0              0             0   \n",
       "\n",
       "   Cabin_region6  Cabin_region7  Family_size  \n",
       "0              0              0            4  \n",
       "1              0              0            1  \n",
       "2              0              0            1  \n",
       "3              0              0            1  \n",
       "4              0              0            3  \n",
       "5              0              0            4  \n",
       "6              0              0            1  \n",
       "7              0              0            2  \n",
       "8              0              0            2  \n",
       "9              0              0            2  \n",
       "10             0              0            3  \n",
       "11             0              0            6  \n",
       "12             0              0            6  \n",
       "13             0              0            1  \n",
       "14             0              0            4  \n",
       "15             0              0            4  \n",
       "16             0              0            4  \n",
       "17             0              0            3  \n",
       "18             0              1            3  \n",
       "19             0              0           94  \n",
       "20             0              0            2  \n",
       "21             0              0            4  \n",
       "22             0              0            4  \n",
       "23             0              0            4  \n",
       "24             0              0            4  \n",
       "25             0              0            3  \n",
       "26             0              0            1  \n",
       "27             0              0            3  \n",
       "28             0              0            1  \n",
       "29             0              0            8  \n",
       "30             0              0            2  \n",
       "31             0              0            2  \n",
       "32             0              0            3  \n",
       "33             0              0            2  \n",
       "34             0              0            8  \n",
       "35             0              0            6  \n",
       "36             0              0            2  \n",
       "37             0              0            3  \n",
       "38             0              0            3  \n",
       "39             0              0            3  \n",
       "\n",
       "[40 rows x 26 columns]"
      ]
     },
     "execution_count": 30,
     "metadata": {},
     "output_type": "execute_result"
    }
   ],
   "source": [
    "y=train_data['Transported'].copy().astype(int) # label생성 이것 또한 인코딩이 된 것\n",
    "X=train_data.drop('Transported', axis=1).copy() # label 을 drop 시킨 데이터 생성\n",
    "X_test_data=test_data.copy() # X_test_data 에는  test_data 를 copy 해준다\n",
    "X_test_data.shape\n",
    "print(X.shape)\n",
    "X_test_data.head(40)\n",
    "\n",
    "\n"
   ]
  },
  {
   "cell_type": "markdown",
   "id": "8a16e311",
   "metadata": {
    "papermill": {
     "duration": 0.104567,
     "end_time": "2022-04-07T07:49:59.162852",
     "exception": false,
     "start_time": "2022-04-07T07:49:59.058285",
     "status": "completed"
    },
    "tags": []
   },
   "source": [
    "### 범주형 변수 인코딩과 스케일링\n"
   ]
  },
  {
   "cell_type": "markdown",
   "id": "7e86603b",
   "metadata": {
    "papermill": {
     "duration": 0.104001,
     "end_time": "2022-04-07T07:49:59.369851",
     "exception": false,
     "start_time": "2022-04-07T07:49:59.265850",
     "status": "completed"
    },
    "tags": []
   },
   "source": []
  },
  {
   "cell_type": "code",
   "execution_count": 31,
   "id": "abb55a95",
   "metadata": {
    "_kg_hide-input": false,
    "_kg_hide-output": true,
    "execution": {
     "iopub.execute_input": "2022-04-07T07:49:59.581586Z",
     "iopub.status.busy": "2022-04-07T07:49:59.578415Z",
     "iopub.status.idle": "2022-04-07T07:49:59.597187Z",
     "shell.execute_reply": "2022-04-07T07:49:59.597875Z",
     "shell.execute_reply.started": "2022-04-07T06:15:13.274479Z"
    },
    "papermill": {
     "duration": 0.124403,
     "end_time": "2022-04-07T07:49:59.598115",
     "exception": false,
     "start_time": "2022-04-07T07:49:59.473712",
     "status": "completed"
    },
    "tags": []
   },
   "outputs": [
    {
     "name": "stdout",
     "output_type": "stream",
     "text": [
      "(8693, 19)\n"
     ]
    }
   ],
   "source": [
    "cat_col=['HomePlanet','CryoSleep','Destination','Cabin_deck','Cabin_side']\n",
    "pre=train_data[cat_col]\n",
    "\n",
    "pre_enc=pd.get_dummies(pre)\n",
    "\n",
    "pre_enc['CryoSleep']=pre_enc['CryoSleep'].map({True:1,False:0})\n",
    "\n",
    "print(pre_enc.shape)"
   ]
  },
  {
   "cell_type": "code",
   "execution_count": 32,
   "id": "2d1313cd",
   "metadata": {
    "execution": {
     "iopub.execute_input": "2022-04-07T07:49:59.816304Z",
     "iopub.status.busy": "2022-04-07T07:49:59.815609Z",
     "iopub.status.idle": "2022-04-07T07:49:59.825318Z",
     "shell.execute_reply": "2022-04-07T07:49:59.825849Z",
     "shell.execute_reply.started": "2022-04-07T06:15:13.298839Z"
    },
    "papermill": {
     "duration": 0.123628,
     "end_time": "2022-04-07T07:49:59.826032",
     "exception": false,
     "start_time": "2022-04-07T07:49:59.702404",
     "status": "completed"
    },
    "tags": []
   },
   "outputs": [
    {
     "name": "stdout",
     "output_type": "stream",
     "text": [
      "(4277, 19)\n"
     ]
    }
   ],
   "source": [
    "\n",
    "cat_col=['HomePlanet','CryoSleep','Destination','Cabin_deck','Cabin_side']\n",
    "pre1=test_data[cat_col]\n",
    "\n",
    "pre_enc1=pd.get_dummies(pre1)\n",
    "\n",
    "pre_enc1['CryoSleep']=pre_enc1['CryoSleep'].map({True:1,False:0})\n",
    "\n",
    "print(pre_enc1.shape)\n",
    "\n",
    "\n"
   ]
  },
  {
   "cell_type": "code",
   "execution_count": 33,
   "id": "28a8d314",
   "metadata": {
    "execution": {
     "iopub.execute_input": "2022-04-07T07:50:00.049299Z",
     "iopub.status.busy": "2022-04-07T07:50:00.040541Z",
     "iopub.status.idle": "2022-04-07T07:50:00.069025Z",
     "shell.execute_reply": "2022-04-07T07:50:00.069674Z",
     "shell.execute_reply.started": "2022-04-07T06:15:13.318876Z"
    },
    "papermill": {
     "duration": 0.138656,
     "end_time": "2022-04-07T07:50:00.069899",
     "exception": false,
     "start_time": "2022-04-07T07:49:59.931243",
     "status": "completed"
    },
    "tags": []
   },
   "outputs": [
    {
     "name": "stdout",
     "output_type": "stream",
     "text": [
      "(8693, 26)\n",
      "(4277, 26)\n",
      "<class 'pandas.core.frame.DataFrame'>\n",
      "RangeIndex: 8693 entries, 0 to 8692\n",
      "Data columns (total 26 columns):\n",
      " #   Column         Non-Null Count  Dtype  \n",
      "---  ------         --------------  -----  \n",
      " 0   HomePlanet     8693 non-null   object \n",
      " 1   CryoSleep      8693 non-null   bool   \n",
      " 2   Destination    8693 non-null   object \n",
      " 3   Age            8693 non-null   float64\n",
      " 4   RoomService    8693 non-null   float64\n",
      " 5   FoodCourt      8693 non-null   float64\n",
      " 6   ShoppingMall   8693 non-null   float64\n",
      " 7   Spa            8693 non-null   float64\n",
      " 8   VRDeck         8693 non-null   float64\n",
      " 9   Expenditure    8693 non-null   float64\n",
      " 10  No_spending    8693 non-null   int64  \n",
      " 11  Under_18       8693 non-null   int64  \n",
      " 12  18_to_25       8693 non-null   int64  \n",
      " 13  Over_25        8693 non-null   int64  \n",
      " 14  Group_size     8693 non-null   int64  \n",
      " 15  Solo           8693 non-null   int64  \n",
      " 16  Cabin_deck     8693 non-null   object \n",
      " 17  Cabin_side     8693 non-null   object \n",
      " 18  Cabin_region1  8693 non-null   int64  \n",
      " 19  Cabin_region2  8693 non-null   int64  \n",
      " 20  Cabin_region3  8693 non-null   int64  \n",
      " 21  Cabin_region4  8693 non-null   int64  \n",
      " 22  Cabin_region5  8693 non-null   int64  \n",
      " 23  Cabin_region6  8693 non-null   int64  \n",
      " 24  Cabin_region7  8693 non-null   int64  \n",
      " 25  Family_size    8693 non-null   int64  \n",
      "dtypes: bool(1), float64(7), int64(14), object(4)\n",
      "memory usage: 1.7+ MB\n"
     ]
    }
   ],
   "source": [
    "print(X.shape)\n",
    "print(X_test_data.shape)\n",
    "X.info()\n",
    "X=X.drop(['HomePlanet','CryoSleep','Destination','Cabin_deck','Cabin_side'],axis=1)\n",
    "X_test_data=X_test_data.drop(['HomePlanet','CryoSleep','Destination','Cabin_deck','Cabin_side'],axis=1)\n"
   ]
  },
  {
   "cell_type": "code",
   "execution_count": 34,
   "id": "42cd07c4",
   "metadata": {
    "execution": {
     "iopub.execute_input": "2022-04-07T07:50:00.284656Z",
     "iopub.status.busy": "2022-04-07T07:50:00.284044Z",
     "iopub.status.idle": "2022-04-07T07:50:00.293179Z",
     "shell.execute_reply": "2022-04-07T07:50:00.292441Z",
     "shell.execute_reply.started": "2022-04-07T06:15:34.167363Z"
    },
    "papermill": {
     "duration": 0.116381,
     "end_time": "2022-04-07T07:50:00.293353",
     "exception": false,
     "start_time": "2022-04-07T07:50:00.176972",
     "status": "completed"
    },
    "tags": []
   },
   "outputs": [
    {
     "name": "stdout",
     "output_type": "stream",
     "text": [
      "(8693, 21)\n",
      "(4277, 21)\n",
      "(8693, 19)\n",
      "(4277, 19)\n"
     ]
    }
   ],
   "source": [
    "print(X.shape)\n",
    "print(X_test_data.shape)\n",
    "print(pre_enc.shape)\n",
    "print(pre_enc1.shape)\n",
    "X=pd.concat([X,pre_enc],axis=1)\n",
    "X_test_data=pd.concat([X_test_data,pre_enc1],axis=1)"
   ]
  },
  {
   "cell_type": "code",
   "execution_count": 35,
   "id": "6870200b",
   "metadata": {
    "execution": {
     "iopub.execute_input": "2022-04-07T07:50:00.536157Z",
     "iopub.status.busy": "2022-04-07T07:50:00.535156Z",
     "iopub.status.idle": "2022-04-07T07:50:00.538367Z",
     "shell.execute_reply": "2022-04-07T07:50:00.538850Z",
     "shell.execute_reply.started": "2022-04-07T06:15:37.732347Z"
    },
    "papermill": {
     "duration": 0.14029,
     "end_time": "2022-04-07T07:50:00.539049",
     "exception": false,
     "start_time": "2022-04-07T07:50:00.398759",
     "status": "completed"
    },
    "tags": []
   },
   "outputs": [
    {
     "name": "stdout",
     "output_type": "stream",
     "text": [
      "(8693, 40)\n",
      "(4277, 40)\n"
     ]
    }
   ],
   "source": [
    "print(X.shape)\n",
    "print(X_test_data.shape)\n"
   ]
  },
  {
   "cell_type": "code",
   "execution_count": null,
   "id": "9479e2d5",
   "metadata": {
    "papermill": {
     "duration": 0.105525,
     "end_time": "2022-04-07T07:50:00.749361",
     "exception": false,
     "start_time": "2022-04-07T07:50:00.643836",
     "status": "completed"
    },
    "tags": []
   },
   "outputs": [],
   "source": []
  },
  {
   "cell_type": "markdown",
   "id": "58da9451",
   "metadata": {
    "papermill": {
     "duration": 0.107213,
     "end_time": "2022-04-07T07:50:00.961785",
     "exception": false,
     "start_time": "2022-04-07T07:50:00.854572",
     "status": "completed"
    },
    "tags": []
   },
   "source": [
    "# Step 4. 머신러닝 모형 개발\n",
    "- 모형에 대한 설명 필요\n",
    "- 모형을 1-2개 사용\n",
    "- 교차 검증\n",
    "- 하이퍼파라미터 튜닝"
   ]
  },
  {
   "cell_type": "markdown",
   "id": "9a1e5ecc",
   "metadata": {
    "papermill": {
     "duration": 0.106927,
     "end_time": "2022-04-07T07:50:01.175157",
     "exception": false,
     "start_time": "2022-04-07T07:50:01.068230",
     "status": "completed"
    },
    "tags": []
   },
   "source": [
    "### 검증데이터를 만들어 준다. "
   ]
  },
  {
   "cell_type": "code",
   "execution_count": 36,
   "id": "7d6dc7f4",
   "metadata": {
    "execution": {
     "iopub.execute_input": "2022-04-07T07:50:01.390681Z",
     "iopub.status.busy": "2022-04-07T07:50:01.387240Z",
     "iopub.status.idle": "2022-04-07T07:50:01.399063Z",
     "shell.execute_reply": "2022-04-07T07:50:01.399543Z",
     "shell.execute_reply.started": "2022-04-07T06:19:40.665499Z"
    },
    "papermill": {
     "duration": 0.120129,
     "end_time": "2022-04-07T07:50:01.399711",
     "exception": false,
     "start_time": "2022-04-07T07:50:01.279582",
     "status": "completed"
    },
    "tags": []
   },
   "outputs": [
    {
     "data": {
      "text/plain": [
       "((6085, 40), (2608, 40), (6085,), (2608,))"
      ]
     },
     "execution_count": 36,
     "metadata": {},
     "output_type": "execute_result"
    }
   ],
   "source": [
    "from sklearn.model_selection import train_test_split\n",
    "X_train, X_val, y_train, y_val = train_test_split(X, y, test_size=0.3, random_state=42)\n",
    "X_train.shape, X_val.shape, y_train.shape, y_val.shape"
   ]
  },
  {
   "cell_type": "markdown",
   "id": "a48a376a",
   "metadata": {
    "papermill": {
     "duration": 0.105433,
     "end_time": "2022-04-07T07:50:01.612791",
     "exception": false,
     "start_time": "2022-04-07T07:50:01.507358",
     "status": "completed"
    },
    "tags": []
   },
   "source": [
    "- 이번에는 LightGBM 클래스를 부른 후 모형을 학습한다. "
   ]
  },
  {
   "cell_type": "markdown",
   "id": "5445512c",
   "metadata": {
    "papermill": {
     "duration": 0.107029,
     "end_time": "2022-04-07T07:50:01.826031",
     "exception": false,
     "start_time": "2022-04-07T07:50:01.719002",
     "status": "completed"
    },
    "tags": []
   },
   "source": [
    "# 하이퍼파라미터 튜닝\n",
    "- 랜덤서치 (매개변수, max_depth) / 0.796\n",
    "- 그리드서치 / 0.791"
   ]
  },
  {
   "cell_type": "code",
   "execution_count": 37,
   "id": "4e236967",
   "metadata": {
    "execution": {
     "iopub.execute_input": "2022-04-07T07:50:02.042223Z",
     "iopub.status.busy": "2022-04-07T07:50:02.041132Z",
     "iopub.status.idle": "2022-04-07T07:50:02.049983Z",
     "shell.execute_reply": "2022-04-07T07:50:02.050483Z",
     "shell.execute_reply.started": "2022-04-07T06:32:29.404295Z"
    },
    "papermill": {
     "duration": 0.118465,
     "end_time": "2022-04-07T07:50:02.050657",
     "exception": false,
     "start_time": "2022-04-07T07:50:01.932192",
     "status": "completed"
    },
    "tags": []
   },
   "outputs": [
    {
     "data": {
      "text/plain": [
       "LGBMClassifier(max_depth=4, n_estimators=150, random_state=42)"
      ]
     },
     "execution_count": 37,
     "metadata": {},
     "output_type": "execute_result"
    }
   ],
   "source": [
    "from lightgbm import LGBMClassifier\n",
    "\n",
    "\n",
    "lgb = LGBMClassifier(random_state=42,n_estimators=150,max_depth=4,)\n",
    "lgb"
   ]
  },
  {
   "cell_type": "markdown",
   "id": "a8d15c45",
   "metadata": {
    "papermill": {
     "duration": 0.105183,
     "end_time": "2022-04-07T07:50:02.262191",
     "exception": false,
     "start_time": "2022-04-07T07:50:02.157008",
     "status": "completed"
    },
    "tags": []
   },
   "source": [
    "# Step 5. 모형 평가\n",
    "- 훈련데이터 쪼갠다. 훈련데이터 + 검증데이터 분리\n",
    "- 정확도 비교\n",
    "- 혼동행렬 (Confusion Matrix) 설명"
   ]
  },
  {
   "cell_type": "markdown",
   "id": "aa3116bc",
   "metadata": {
    "papermill": {
     "duration": 0.104456,
     "end_time": "2022-04-07T07:50:02.471838",
     "exception": false,
     "start_time": "2022-04-07T07:50:02.367382",
     "status": "completed"
    },
    "tags": []
   },
   "source": [
    "- 먼저 cross_validate() 활용한다. "
   ]
  },
  {
   "cell_type": "code",
   "execution_count": 38,
   "id": "dec1c82e",
   "metadata": {
    "execution": {
     "iopub.execute_input": "2022-04-07T07:50:02.690601Z",
     "iopub.status.busy": "2022-04-07T07:50:02.689823Z",
     "iopub.status.idle": "2022-04-07T07:50:03.403593Z",
     "shell.execute_reply": "2022-04-07T07:50:03.404151Z",
     "shell.execute_reply.started": "2022-04-07T06:30:32.313517Z"
    },
    "papermill": {
     "duration": 0.827537,
     "end_time": "2022-04-07T07:50:03.404337",
     "exception": false,
     "start_time": "2022-04-07T07:50:02.576800",
     "status": "completed"
    },
    "tags": []
   },
   "outputs": [
    {
     "name": "stdout",
     "output_type": "stream",
     "text": [
      "train Acc. 0.8647082990961381\n",
      "test Acc. 0.8138044371405094\n"
     ]
    }
   ],
   "source": [
    "\n",
    "from sklearn.model_selection import StratifiedKFold\n",
    "from sklearn.model_selection import cross_validate\n",
    "\n",
    "splitter = StratifiedKFold(n_splits = 5, shuffle = True, random_state=42)\n",
    "scores = cross_validate(lgb, X_train, y_train, return_train_score = True, cv=splitter)\n",
    "\n",
    "print(\"train Acc.\", np.mean(scores['train_score']))\n",
    "print(\"test Acc.\", np.mean(scores['test_score']))"
   ]
  },
  {
   "cell_type": "markdown",
   "id": "4ee9aca2",
   "metadata": {
    "papermill": {
     "duration": 0.116978,
     "end_time": "2022-04-07T07:50:03.630946",
     "exception": false,
     "start_time": "2022-04-07T07:50:03.513968",
     "status": "completed"
    },
    "tags": []
   },
   "source": [
    "- 이번에는 검증 데이터를 활용하여 정확도를 예상해본다. "
   ]
  },
  {
   "cell_type": "code",
   "execution_count": 39,
   "id": "5f18fed9",
   "metadata": {
    "execution": {
     "iopub.execute_input": "2022-04-07T07:50:03.849413Z",
     "iopub.status.busy": "2022-04-07T07:50:03.848726Z",
     "iopub.status.idle": "2022-04-07T07:50:03.980889Z",
     "shell.execute_reply": "2022-04-07T07:50:03.982190Z",
     "shell.execute_reply.started": "2022-04-07T06:32:35.889616Z"
    },
    "papermill": {
     "duration": 0.244748,
     "end_time": "2022-04-07T07:50:03.982432",
     "exception": false,
     "start_time": "2022-04-07T07:50:03.737684",
     "status": "completed"
    },
    "tags": []
   },
   "outputs": [
    {
     "name": "stdout",
     "output_type": "stream",
     "text": [
      "Acc. 0.8090490797546013\n"
     ]
    }
   ],
   "source": [
    "\n",
    "from sklearn.metrics import accuracy_score\n",
    "\n",
    "lgb.fit(X_train, y_train)\n",
    "y_pred = lgb.predict(X_val)\n",
    "print(\"Acc.\", accuracy_score(y_val, y_pred))\n",
    "\n",
    "## confusion matrix\n",
    "\n",
    "\n",
    "\n"
   ]
  },
  {
   "cell_type": "markdown",
   "id": "682bb3e6",
   "metadata": {
    "papermill": {
     "duration": 0.108412,
     "end_time": "2022-04-07T07:50:04.203217",
     "exception": false,
     "start_time": "2022-04-07T07:50:04.094805",
     "status": "completed"
    },
    "tags": []
   },
   "source": [
    "# Step 6. 제출\n",
    "- 제출 양식은 샘플 만들어드림"
   ]
  },
  {
   "cell_type": "code",
   "execution_count": 40,
   "id": "e140229e",
   "metadata": {
    "execution": {
     "iopub.execute_input": "2022-04-07T07:50:04.422240Z",
     "iopub.status.busy": "2022-04-07T07:50:04.421495Z",
     "iopub.status.idle": "2022-04-07T07:50:04.458316Z",
     "shell.execute_reply": "2022-04-07T07:50:04.457737Z",
     "shell.execute_reply.started": "2022-04-07T07:10:13.867306Z"
    },
    "papermill": {
     "duration": 0.148293,
     "end_time": "2022-04-07T07:50:04.458482",
     "exception": false,
     "start_time": "2022-04-07T07:50:04.310189",
     "status": "completed"
    },
    "tags": []
   },
   "outputs": [
    {
     "name": "stdout",
     "output_type": "stream",
     "text": [
      "(4277,)\n",
      "(2608, 40)\n",
      "(4277, 40)\n"
     ]
    }
   ],
   "source": [
    "test_preds = lgb.predict(X_test_data.to_numpy())\n",
    "sample_submission['Transported'] = test_preds.astype(\"bool\")\n",
    "sample_submission.to_csv(\"submission.csv\",index=False)\n",
    "sample_submission.head()\n",
    "\n",
    "print(test_preds.shape)\n",
    "print(X_val.shape)\n",
    "print(X_test_data.shape)\n",
    "\n"
   ]
  },
  {
   "cell_type": "markdown",
   "id": "6d5d4cdd",
   "metadata": {
    "papermill": {
     "duration": 0.10662,
     "end_time": "2022-04-07T07:50:04.673317",
     "exception": false,
     "start_time": "2022-04-07T07:50:04.566697",
     "status": "completed"
    },
    "tags": []
   },
   "source": [
    "# 혼동행렬"
   ]
  },
  {
   "cell_type": "code",
   "execution_count": 41,
   "id": "9675ea0f",
   "metadata": {
    "execution": {
     "iopub.execute_input": "2022-04-07T07:50:04.892552Z",
     "iopub.status.busy": "2022-04-07T07:50:04.891552Z",
     "iopub.status.idle": "2022-04-07T07:50:05.079157Z",
     "shell.execute_reply": "2022-04-07T07:50:05.079693Z",
     "shell.execute_reply.started": "2022-04-07T07:26:08.111179Z"
    },
    "papermill": {
     "duration": 0.298392,
     "end_time": "2022-04-07T07:50:05.079860",
     "exception": false,
     "start_time": "2022-04-07T07:50:04.781468",
     "status": "completed"
    },
    "tags": []
   },
   "outputs": [
    {
     "name": "stdout",
     "output_type": "stream",
     "text": [
      "[[1015  274]\n",
      " [ 224 1095]]\n"
     ]
    },
    {
     "data": {
      "image/png": "[encoded data removed]",
      "text/plain": [
       "<Figure size 432x288 with 2 Axes>"
      ]
     },
     "metadata": {
      "needs_background": "light"
     },
     "output_type": "display_data"
    }
   ],
   "source": [
    "import sklearn.metrics as metrics\n",
    "\n",
    "cm=metrics.confusion_matrix(y_val,y_pred)\n",
    "print(cm)\n",
    "\n",
    "\n",
    "sns.heatmap(cm, annot=True, cmap='Blues',\n",
    "           xticklabels=['postive', 'negative'],       # 예측\n",
    "           yticklabels=['True', 'False'])               # 실제\n",
    "plt.show()\n",
    "\n",
    "\n"
   ]
  },
  {
   "cell_type": "markdown",
   "id": "87cca7eb",
   "metadata": {
    "papermill": {
     "duration": 0.107461,
     "end_time": "2022-04-07T07:50:05.302695",
     "exception": false,
     "start_time": "2022-04-07T07:50:05.195234",
     "status": "completed"
    },
    "tags": []
   },
   "source": [
    "# 정밀도\n",
    "- 'True' 으로 예측했을때 실제도 'True' 인 비율"
   ]
  },
  {
   "cell_type": "code",
   "execution_count": 42,
   "id": "9f2f70ed",
   "metadata": {
    "execution": {
     "iopub.execute_input": "2022-04-07T07:50:05.530572Z",
     "iopub.status.busy": "2022-04-07T07:50:05.529327Z",
     "iopub.status.idle": "2022-04-07T07:50:05.535606Z",
     "shell.execute_reply": "2022-04-07T07:50:05.536128Z",
     "shell.execute_reply.started": "2022-04-07T07:20:08.280629Z"
    },
    "papermill": {
     "duration": 0.123729,
     "end_time": "2022-04-07T07:50:05.536300",
     "exception": false,
     "start_time": "2022-04-07T07:50:05.412571",
     "status": "completed"
    },
    "tags": []
   },
   "outputs": [
    {
     "data": {
      "text/plain": [
       "0.799853907962016"
      ]
     },
     "execution_count": 42,
     "metadata": {},
     "output_type": "execute_result"
    }
   ],
   "source": [
    "# 72/(72+1)\n",
    "p = metrics.precision_score(y_val, y_pred)\n",
    "p\n",
    "\n",
    "\n"
   ]
  },
  {
   "cell_type": "markdown",
   "id": "e09249ed",
   "metadata": {
    "papermill": {
     "duration": 0.110587,
     "end_time": "2022-04-07T07:50:05.755169",
     "exception": false,
     "start_time": "2022-04-07T07:50:05.644582",
     "status": "completed"
    },
    "tags": []
   },
   "source": [
    "# 재현율\n",
    "- 실제로 True 를 True 로 예측한 비율"
   ]
  },
  {
   "cell_type": "code",
   "execution_count": 43,
   "id": "a18625ca",
   "metadata": {
    "execution": {
     "iopub.execute_input": "2022-04-07T07:50:05.984610Z",
     "iopub.status.busy": "2022-04-07T07:50:05.983997Z",
     "iopub.status.idle": "2022-04-07T07:50:05.990734Z",
     "shell.execute_reply": "2022-04-07T07:50:05.991210Z",
     "shell.execute_reply.started": "2022-04-07T07:28:20.849864Z"
    },
    "papermill": {
     "duration": 0.124989,
     "end_time": "2022-04-07T07:50:05.991380",
     "exception": false,
     "start_time": "2022-04-07T07:50:05.866391",
     "status": "completed"
    },
    "tags": []
   },
   "outputs": [
    {
     "data": {
      "text/plain": [
       "0.8301743745261562"
      ]
     },
     "execution_count": 43,
     "metadata": {},
     "output_type": "execute_result"
    }
   ],
   "source": [
    "r = metrics.recall_score(y_val, y_pred)\n",
    "r\n"
   ]
  },
  {
   "cell_type": "markdown",
   "id": "31c3a129",
   "metadata": {
    "papermill": {
     "duration": 0.111202,
     "end_time": "2022-04-07T07:50:06.215788",
     "exception": false,
     "start_time": "2022-04-07T07:50:06.104586",
     "status": "completed"
    },
    "tags": []
   },
   "source": [
    "# F1 score \n",
    "- 정밀도와 재현율의 조화평균"
   ]
  },
  {
   "cell_type": "code",
   "execution_count": 44,
   "id": "82992c0a",
   "metadata": {
    "execution": {
     "iopub.execute_input": "2022-04-07T07:50:06.438682Z",
     "iopub.status.busy": "2022-04-07T07:50:06.438042Z",
     "iopub.status.idle": "2022-04-07T07:50:06.444569Z",
     "shell.execute_reply": "2022-04-07T07:50:06.445023Z",
     "shell.execute_reply.started": "2022-04-07T07:28:29.480366Z"
    },
    "papermill": {
     "duration": 0.119436,
     "end_time": "2022-04-07T07:50:06.445208",
     "exception": false,
     "start_time": "2022-04-07T07:50:06.325772",
     "status": "completed"
    },
    "tags": []
   },
   "outputs": [
    {
     "data": {
      "text/plain": [
       "0.8147321428571429"
      ]
     },
     "execution_count": 44,
     "metadata": {},
     "output_type": "execute_result"
    }
   ],
   "source": [
    "metrics.f1_score(y_val, y_pred)\n",
    "\n"
   ]
  },
  {
   "cell_type": "markdown",
   "id": "627ee979",
   "metadata": {
    "papermill": {
     "duration": 0.108216,
     "end_time": "2022-04-07T07:50:06.663449",
     "exception": false,
     "start_time": "2022-04-07T07:50:06.555233",
     "status": "completed"
    },
    "tags": []
   },
   "source": [
    "# 곡선하 면정, 민감도 또는 1- 특이성 그래프 \n",
    "\n",
    "- 참 긍정율과 거짓 부정률 사이를 표현하기 위해 사용"
   ]
  },
  {
   "cell_type": "code",
   "execution_count": 45,
   "id": "66c67677",
   "metadata": {
    "execution": {
     "iopub.execute_input": "2022-04-07T07:50:06.887088Z",
     "iopub.status.busy": "2022-04-07T07:50:06.886389Z",
     "iopub.status.idle": "2022-04-07T07:50:07.109315Z",
     "shell.execute_reply": "2022-04-07T07:50:07.109852Z",
     "shell.execute_reply.started": "2022-04-07T07:46:36.263415Z"
    },
    "papermill": {
     "duration": 0.336873,
     "end_time": "2022-04-07T07:50:07.110045",
     "exception": false,
     "start_time": "2022-04-07T07:50:06.773172",
     "status": "completed"
    },
    "tags": []
   },
   "outputs": [
    {
     "data": {
      "text/plain": [
       "<AxesSubplot:xlabel='FPR', ylabel='TPR'>"
      ]
     },
     "execution_count": 45,
     "metadata": {},
     "output_type": "execute_result"
    },
    {
     "data": {
      "image/png": "[encoded data removed]",
      "text/plain": [
       "<Figure size 720x576 with 1 Axes>"
      ]
     },
     "metadata": {
      "needs_background": "light"
     },
     "output_type": "display_data"
    }
   ],
   "source": [
    "proba=lgb.predict_proba(X_train)\n",
    "fig,ax=plt.subplots(figsize=(10,8))\n",
    "fpr, tpr, thressholds = metrics.roc_curve(y_train, proba[:,1])\n",
    "ax.plot(fpr,tpr,'r--',label='LGBM')\n",
    "ax.plot([0, 1],[0, 1], 'k--', label='guess')\n",
    "ax.set_xlabel('FPR')\n",
    "ax.set_ylabel('TPR')\n",
    "ax.legend()\n",
    "ax\n",
    "\n",
    "\n",
    "\n",
    "\n",
    "\n",
    "\n",
    "\n",
    "\n"
   ]
  },
  {
   "cell_type": "markdown",
   "id": "67f2a9bb",
   "metadata": {
    "papermill": {
     "duration": 0.11143,
     "end_time": "2022-04-07T07:50:07.333538",
     "exception": false,
     "start_time": "2022-04-07T07:50:07.222108",
     "status": "completed"
    },
    "tags": []
   },
   "source": []
  },
  {
   "cell_type": "markdown",
   "id": "9dfe1c47",
   "metadata": {
    "papermill": {
     "duration": 0.11295,
     "end_time": "2022-04-07T07:50:07.559531",
     "exception": false,
     "start_time": "2022-04-07T07:50:07.446581",
     "status": "completed"
    },
    "tags": []
   },
   "source": []
  },
  {
   "cell_type": "markdown",
   "id": "399d1ecb",
   "metadata": {
    "papermill": {
     "duration": 0.112456,
     "end_time": "2022-04-07T07:50:07.783813",
     "exception": false,
     "start_time": "2022-04-07T07:50:07.671357",
     "status": "completed"
    },
    "tags": []
   },
   "source": []
  }
 ],
 "metadata": {
  "kernelspec": {
   "display_name": "Python 3",
   "language": "python",
   "name": "python3"
  },
  "language_info": {
   "codemirror_mode": {
    "name": "ipython",
    "version": 3
   },
   "file_extension": ".py",
   "mimetype": "text/x-python",
   "name": "python",
   "nbconvert_exporter": "python",
   "pygments_lexer": "ipython3",
   "version": "3.7.12"
  },
  "papermill": {
   "default_parameters": {},
   "duration": 95.95214,
   "end_time": "2022-04-07T07:50:10.911976",
   "environment_variables": {},
   "exception": null,
   "input_path": "__notebook__.ipynb",
   "output_path": "__notebook__.ipynb",
   "parameters": {},
   "start_time": "2022-04-07T07:48:34.959836",
   "version": "2.3.3"
  }
 },
 "nbformat": 4,
 "nbformat_minor": 5
}
